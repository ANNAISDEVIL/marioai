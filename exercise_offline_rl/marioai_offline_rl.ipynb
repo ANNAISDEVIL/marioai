{
 "cells": [
  {
   "cell_type": "markdown",
   "metadata": {},
   "source": [
    "# Training an Agent to play Super Mario with Offline Learning\n",
    "---\n",
    "\n",
    "In this exercise you will learn how to use offline learning to train a neural network to play Super Mario.\n",
    "Its performance will then be compared with the results from the Q-Learning exercise. "
   ]
  },
  {
   "cell_type": "markdown",
   "metadata": {
    "pycharm": {
     "name": "#%% md\n"
    }
   },
   "source": [
    "## 0. Setup\n",
    "\n",
    "### Requirements\n",
    " - Java 8 (or later) runtime environment\n",
    " - Python 3.6 (or later)\n",
    " - Microsoft Visual C++ 14.0 (or later)\n",
    "\n",
    "You will be provided with both the .jar and the gym-marioai python package."
   ]
  },
  {
   "cell_type": "markdown",
   "metadata": {},
   "source": [
    "### Installation\n",
    "To setup this exercise we will use Pipenv.\n",
    "If you do not have pipenv installed please do so by running:\n",
    "\n",
    "``pip install --user pipenv``\n",
    "\n",
    "After that please run (if not already done)\n",
    "\n",
    "``pipenv install`` and\n",
    "``pipenv run start``.\n",
    "\n",
    "\n",
    "in the root directory to start the Jupyter notebook containing the exercise.\n",
    "\n",
    "(pipfile set to python version 3.6 by default, can be edited if needed)"
   ]
  },
  {
   "cell_type": "code",
   "execution_count": null,
   "metadata": {},
   "outputs": [],
   "source": [
    "# Setup the imports. Run this cell again if you encounter any import errors.\n",
    "import copy\n",
    "import numpy as np\n",
    "import pathlib\n",
    "\n",
    "from d3rlpy.algos import DQN\n",
    "from d3rlpy.dataset import MDPDataset\n",
    "from d3rlpy.metrics.scorer import evaluate_on_environment\n",
    "from sklearn.model_selection import train_test_split\n",
    "\n",
    "from gym_setup import Env\n",
    "from controller import GamepadController, KeyboardController\n",
    "from data.datasets.getDatasets import getDataset\n",
    "%load_ext tensorboard"
   ]
  },
  {
   "cell_type": "markdown",
   "metadata": {},
   "source": [
    "## 1. Generating data\n",
    "First, you will have to generate some data for the neural network to train with.\n",
    "\n",
    "### Level\n",
    "The level we will be using for this exercise will be a very easy one to minimize the training time.\n",
    "\n",
    "However, if you would like to try different levels, we encourage you to do so by changing the ``level`` variable below to a different one from the ``levels`` folder."
   ]
  },
  {
   "cell_type": "code",
   "execution_count": null,
   "metadata": {},
   "outputs": [],
   "source": [
    "# Setup global variables\n",
    "level = pathlib.Path(\"levels\", \"OneCliffLevel.lvl\").resolve()\n",
    "dataset_path = pathlib.Path(\"data\", \"datasets\", level.stem + \".h5\").resolve()\n",
    "dataset_path_rand = pathlib.Path(\"data\", \"datasets\", level.stem + \".random.h5\").resolve()"
   ]
  },
  {
   "cell_type": "markdown",
   "metadata": {},
   "source": [
    "### 1.1 Player generated data.\n",
    "\n",
    "![Mario](https://media1.giphy.com/media/aX0RqLt2ARSW4/giphy.gif?cid=ecf05e47fnkts3fqh25tj9v8noh9vnccwo4x0ey4zpdxc7ft&rid=giphy.gif&ct=g)\n",
    "\n",
    "\n",
    "To achieve the best possible results, the training algorithm needs the best possible data. In this case that means player generated data.\n",
    "\n",
    "\n",
    "You will have the most fun playing with a USB-Controller but if you have none, you can set the following variable to ``False`` to use the keyboard:"
   ]
  },
  {
   "cell_type": "code",
   "execution_count": null,
   "metadata": {},
   "outputs": [],
   "source": [
    "# Don't forget to run me\n",
    "USE_GAMEPAD = False"
   ]
  },
  {
   "cell_type": "markdown",
   "metadata": {},
   "source": [
    "### Controls\n",
    "|            \t| Keyboard    \t| Xbox       \t| Playstation \t|\n",
    "|------------\t|-------------\t|------------\t|-------------\t|\n",
    "| Jump       \t| S           \t| A          \t| X           \t|\n",
    "| Sprint     \t| A           \t| B          \t| O           \t|\n",
    "| Move Right \t| Arrow Right \t| Dpad Right \t| Dpad Right  \t|\n",
    "| Move Left  \t| Arrow Left  \t| Dpad Left  \t| Dpad Left   \t|\n",
    "| Duck       \t| Arrow Down  \t| Dpad Down  \t| Dpad Down   \t|"
   ]
  },
  {
   "cell_type": "markdown",
   "metadata": {},
   "source": [
    "To start the game run the next cell. If you think you have enough data just close the game window and move on to the next cell.\n",
    "\n",
    "Note: We have pregenerated some training data for your convenience which will be used in addition to your data to train the model.\n",
    "If you want to train with your own data only, go ahead and delete the data from ``exercise_offline_rl\\data\\datasets``."
   ]
  },
  {
   "cell_type": "code",
   "execution_count": null,
   "metadata": {},
   "outputs": [],
   "source": [
    "# Let's play!\n",
    "try:\n",
    "    env_play = Env(visible=True, level=str(level)).env\n",
    "    if USE_GAMEPAD:\n",
    "        controller = GamepadController(env_play)\n",
    "    else:\n",
    "        controller = KeyboardController(env_play)\n",
    "    while True:\n",
    "        observation = env_play.reset()\n",
    "        done = False\n",
    "        action = controller.read()\n",
    "\n",
    "        observations = [observation]\n",
    "        actions = [action]\n",
    "        # No reward at first time step, because no action was taken yet\n",
    "        rewards = [0]\n",
    "        terminals = [done]\n",
    "\n",
    "        while not done:\n",
    "            observation, reward, done, info = env_play.step(action)\n",
    "            action = controller.read()\n",
    "\n",
    "            observations.append(observation)\n",
    "            actions.append(action)\n",
    "            rewards.append(reward)\n",
    "            terminals.append(done)\n",
    "\n",
    "        if dataset_path.exists():\n",
    "            dataset = MDPDataset.load(dataset_path)\n",
    "            dataset.append(np.asarray(observations), np.asarray(actions),\n",
    "                           np.asarray(rewards), np.asarray(terminals))\n",
    "        else:\n",
    "            dataset = MDPDataset(np.asarray(observations), np.asarray(actions),\n",
    "                                 np.asarray(rewards), np.asarray(terminals),\n",
    "                                 discrete_action=True)\n",
    "        dataset.dump(dataset_path)\n",
    "except ConnectionResetError:\n",
    "    print(\"Done\")"
   ]
  },
  {
   "cell_type": "markdown",
   "metadata": {},
   "source": [
    "### 1.2 Randomly generated data (optional)\n",
    "To complement the player generated data, it is possible to also generate some random data for the algorithm to train with."
   ]
  },
  {
   "cell_type": "code",
   "execution_count": null,
   "metadata": {},
   "outputs": [],
   "source": [
    "# Generate random data\n",
    "EPISODES = 2 # <--- increase if you want more random data. More data might slow down the training process.\n",
    "\n",
    "env_rand = Env(visible=False, level=str(level)).env\n",
    "\n",
    "for episode in range(EPISODES):\n",
    "    observation = env_rand.reset()\n",
    "    done = False\n",
    "    action = env_rand.action_space.sample()\n",
    "    \n",
    "    observations = [observation]\n",
    "    actions = [action]\n",
    "    # No reward at first time step, because no action was taken yet\n",
    "    rewards = [0]\n",
    "    terminals = [done]\n",
    "\n",
    "    while not done:\n",
    "        observation, reward, done, info = env_rand.step(action)\n",
    "        action = env_rand.action_space.sample()\n",
    "\n",
    "        observations.append(observation)\n",
    "        actions.append(action)\n",
    "        rewards.append(reward)\n",
    "        terminals.append(done)\n",
    "\n",
    "    if dataset_path_rand.exists():\n",
    "        dataset = MDPDataset.load(dataset_path_rand)\n",
    "        dataset.append(np.asarray(observations), np.asarray(actions),\n",
    "                       np.asarray(rewards), np.asarray(terminals))\n",
    "    else:\n",
    "        dataset = MDPDataset(np.asarray(observations), np.asarray(actions),\n",
    "                             np.asarray(rewards), np.asarray(terminals),\n",
    "                             discrete_action=True)\n",
    "    dataset.dump(dataset_path_rand)\n",
    "\n",
    "print(\"Done!\")"
   ]
  },
  {
   "cell_type": "markdown",
   "metadata": {},
   "source": [
    "## 2. Use the generated data to train a policy\n",
    "Now that you have generated some data for the neural network to train with, let's begin with the training.\n",
    "For the purpose of this exercise we will use the Offline RL Python library [d3rlpy](https://github.com/takuseno/d3rlpy).\n",
    "\n"
   ]
  },
  {
   "cell_type": "markdown",
   "metadata": {},
   "source": [
    "### 2.1 Choosing an algorithm\n",
    "![DQN](https://raw.githubusercontent.com/koerners/marioai/master/exercise_offline_rl/data/jupyter/dqn.PNG)\n",
    "\n",
    "#### Why we chose DQN\n",
    "The Deep Q-Network approach is known to have been able to achieve human-level control in Atari games, and it is able to learn successful policies directly from high-dimensional sensory inputs (like pixels) using end-to-end reinforcement learning which makes it ideal for our purpose. [[1]](https://www.nature.com/articles/nature14236) \n",
    "\n",
    "It uses data collected from an environment to learn and train without interacting with it.\n",
    "\n",
    "For more information on DQN, please refer to [this paper](https://www.nature.com/articles/nature14236).\n",
    "\n"
   ]
  },
  {
   "cell_type": "markdown",
   "metadata": {},
   "source": [
    "### 2.2 Setup the training\n",
    "First we set the training parameters.\n",
    "Most of these are fairly optimized but feel free to experiment."
   ]
  },
  {
   "cell_type": "code",
   "execution_count": null,
   "metadata": {},
   "outputs": [],
   "source": [
    "# Training parameters\n",
    "n_epochs = 100 # <--- change here if you want to train more / less\n",
    "test_size = 0.1 # percentage of episodes not used for training\n",
    "\n",
    "# DQN parameters\n",
    "learning_rate = 0.0003 # to what extent the agent overrides old information with new information\n",
    "gamma = 0.99 # discount factor, how important future rewards are\n",
    "target_update_interval = 3000 # interval of steps that the agent uses to update target network\n",
    "batch_size = 2 # size of training examples utilized in one iteration\n",
    "use_gpu = False # usage of gpu to train"
   ]
  },
  {
   "cell_type": "markdown",
   "metadata": {},
   "source": [
    "### 2.3 Training time!\n",
    "\n",
    "If you want to track the training with tensorboard, run the following cell."
   ]
  },
  {
   "cell_type": "code",
   "execution_count": null,
   "metadata": {},
   "outputs": [],
   "source": [
    "# Start tensorboard \n",
    "%tensorboard --logdir runs"
   ]
  },
  {
   "cell_type": "markdown",
   "metadata": {},
   "source": [
    "To start the training run the next cell: "
   ]
  },
  {
   "cell_type": "code",
   "execution_count": null,
   "metadata": {},
   "outputs": [],
   "source": [
    "dataset = getDataset()\n",
    "train_episodes, test_episodes = train_test_split(dataset, test_size=test_size)\n",
    "\n",
    "dqn = DQN(learning_rate=learning_rate, gamma=gamma,\n",
    "          target_update_interval=target_update_interval,\n",
    "          batch_size=batch_size, use_gpu=use_gpu)\n",
    "dqn.build_with_dataset(dataset)\n",
    "\n",
    "# set environment in scorer function\n",
    "env_train = Env(visible=False, level=str(level)).env\n",
    "evaluate_scorer = evaluate_on_environment(env_train)\n",
    "# evaluate algorithm on the environment\n",
    "rewards = evaluate_scorer(dqn)\n",
    "name = 'marioai_%s_%s_%s_%s_%s' % (level.stem, gamma, learning_rate, target_update_interval, n_epochs)\n",
    "model_file = pathlib.Path(\"data\", \"models\", name + \".pt\")\n",
    "currentMax = -100000\n",
    "dqn_max = copy.deepcopy(dqn)\n",
    "\n",
    "fitter = dqn.fitter(train_episodes, eval_episodes=test_episodes,\n",
    "                    tensorboard_dir='runs', experiment_name=name,\n",
    "                    n_epochs=n_epochs, scorers={'environment': evaluate_scorer})\n",
    "\n",
    "for epoch, metrics in fitter:\n",
    "    if metrics.get(\"environment\") > currentMax:\n",
    "        currentMax = metrics.get(\"environment\")\n",
    "        dqn_max.copy_q_function_from(dqn)\n",
    "    else:\n",
    "        dqn.copy_q_function_from(dqn_max)\n",
    "    dqn.save_model(model_file)\n",
    "    if currentMax > 100:\n",
    "        # For the purpose of the exercise the training will stop if the agent manages to complete the level\n",
    "        print(\"A suitable model has been found.\")\n",
    "        break"
   ]
  },
  {
   "cell_type": "markdown",
   "metadata": {},
   "source": [
    "### 2.4 Validation\n",
    "Now let's see if the training did something. If the results are not as expected try recording more data or increasing the training epochs."
   ]
  },
  {
   "cell_type": "code",
   "execution_count": null,
   "metadata": {},
   "outputs": [],
   "source": [
    "env_show = Env(visible=True, level=str(level)).env\n",
    "dqn = DQN()\n",
    "dqn.build_with_dataset(getDataset())\n",
    "dqn.load_model(model_file)\n",
    "\n",
    "try:\n",
    "    while True:\n",
    "        observation = env_show.reset()\n",
    "        done = False\n",
    "        total_reward = 0\n",
    "        while not done:\n",
    "            observation, reward, done, info = env_show.step(dqn.predict([observation])[0])\n",
    "            total_reward += reward\n",
    "        print(f'finished episode, total_reward: {total_reward}')\n",
    "except ConnectionResetError:\n",
    "    print(\"Window closed.\")"
   ]
  },
  {
   "cell_type": "markdown",
   "metadata": {},
   "source": [
    "## 3. Offline RL vs Online RL \n",
    "\n",
    "Now we want to compare the approach from the first exercise where an online Q-Learner was used with the results we were able to achieve with the offline RL approach demonstrated above.\n",
    "\n",
    "![Gif](https://1.bp.blogspot.com/-O0FvK3zJd9w/XpXqiJduwyI/AAAAAAAAFtM/5hxzdWOoSLw5sd5vEgMsiGVJSATKx1oEgCLcBGAsYHQ/s640/OFFLINE%2BRL%2Bfig1%2B05b.gif)\n"
   ]
  },
  {
   "cell_type": "markdown",
   "metadata": {},
   "source": [
    "### 3.1 Reproducibility\n",
    "To compare as fairly as possible we ran both the Online Q-Learner as well as the offline Deep Q-Network until a plateau of performance has been reached.\n",
    "- The online Q-Learner was able to train for 10.000 episodes per level while being able to interact with the environment\n",
    "- The DQN was fed <1 hour (~360 episodes) of human playtime per level and was not allowed to interact with the environment while training\n",
    "- Both models were using the same reward settings\n"
   ]
  },
  {
   "cell_type": "markdown",
   "metadata": {},
   "source": [
    "### 3.2 Easy level\n",
    "\n",
    "|  | Reward | Video |\n",
    "| -------- | -------- | -------- |\n",
    "| Q-Learner  | 232     | ![Gif](https://raw.githubusercontent.com/koerners/marioai/master/exercise_offline_rl/data/jupyter/rough_terrain_q_learner_232.gif)    |\n",
    "| Deep Q-Network  | 280    | ![Gif](https://raw.githubusercontent.com/koerners/marioai/master/exercise_offline_rl/data/jupyter/rough_terrain_dqn_280.gif)    |\n",
    "\n",
    "With sufficient training, neither model struggles with the easy level. However, the model fed with player generated data shows better anticipation of jumps which leads to a better overall result."
   ]
  },
  {
   "cell_type": "markdown",
   "metadata": {},
   "source": [
    "### 3.3 Medium level\n",
    "\n",
    "|  | Reward | Video |\n",
    "| -------- | -------- | -------- |\n",
    "| Q-Learner  | 176     | ![Gif](https://raw.githubusercontent.com/koerners/marioai/master/exercise_offline_rl/data/jupyter/cliff_and_enemies_q_learner_176.gif)    |\n",
    "| Deep Q-Network  | 193    | ![Gif](https://raw.githubusercontent.com/koerners/marioai/master/exercise_offline_rl/data/jupyter/cliff_and_enemies_dqn_193.gif)    |\n",
    "\n",
    "In the medium level, both models behave similarly to the easy level. While the Online Learner seems to have a better strategy to avoid enemies, the Offline Learner has the better jumping performance leading to a better overall score as it is quicker to finish the level."
   ]
  },
  {
   "cell_type": "markdown",
   "metadata": {},
   "source": [
    "### 3.4 Hard level\n",
    "|  | Reward | Video |\n",
    "| -------- | -------- | -------- |\n",
    "| Q-Learner  | -559     | ![Gif](https://raw.githubusercontent.com/koerners/marioai/master/exercise_offline_rl/data/jupyter/climb_q_learner_-559.gif)    |\n",
    "| Deep Q-Network  | -34    | ![Gif](https://raw.githubusercontent.com/koerners/marioai/master/exercise_offline_rl/data/jupyter/climb_dqn_-34.gif)    |\n",
    "\n",
    "Neither model manages to complete the really hard level we tested them on. It is however interesting to observe the different strategies they applied. While the Q-Learner shows a very promising leap to the middle platform, failing to reach the final platform it seems to just give up and wait for the time to run out leading to a high time punishment and therefore an extremely low score. The offline trained model while still failing to complete the level, has developed a strategy to avoid the high time punishment by committing suicide as soon as possible."
   ]
  },
  {
   "cell_type": "markdown",
   "metadata": {},
   "source": [
    "### 3.5 Reward Summary\n",
    "\n",
    "![Summary](https://raw.githubusercontent.com/koerners/marioai/master/exercise_offline_rl/data/jupyter/level-summary.png)\n",
    "\n",
    "\n"
   ]
  },
  {
   "cell_type": "markdown",
   "metadata": {},
   "source": [
    "### 3.6 Performance over 100 levels\n",
    "\n",
    "To compare how well the different methods are able to generalize, we let both the online Q-Learner and the offline DQN train on a single level (the easy level above) and then let them play 100 randomly generated levels (including the three levels above).\n",
    "\n",
    "The model obtained by Q-Learning is only able to beat a single level (presumably the one it was trained on) which indicates that the model highly overfits the level used for training.\n",
    "\n",
    "The model produced by the DQN using user-supplied data on the other hand is able to beat 12 out of the 100 levels and manages to obtain a positive reward on 21 of them. While that number may still not be terribly impressive, it shows that the offline approach is able to generalize good enough to beat levels it has never seen before and far surpasses what the Q-Learner was able to achieve.\n",
    "\n",
    "The plot below shows the total reward achieved by the offline and online method for each level. Here we can also see that the offline method is usually able to obtain a higher reward than the online method. This means that either the offline agent is able to progress further into the level or that the online learner gets stuck somewhere while the offline learner prefers a quick death like in the hard level above.\n",
    "\n",
    "![Comparison: Achieved Reward](https://raw.githubusercontent.com/koerners/marioai/master/exercise_offline_rl/data/jupyter/eval.png)\n"
   ]
  },
  {
   "cell_type": "markdown",
   "metadata": {},
   "source": [
    "## 4. Conclusion\n",
    "\n",
    "While achieving slightly better results than the online RL approach in the easy and medium level, the offline DQN approach was not able to perform any better than the online implementation in the hard level we tested them both on.\n",
    "Our guess would be the lack of training data as mastering a level of this complexity would require a level of understanding of the environment that the network was not able to abstract from the data we were able to provide.\n",
    "This also demonstrates the biggest issue with the offline RL approach: it's high dependence on good and plentiful data.\n",
    "Creating such data is a time-consuming and often times an expensive endeavor.\n",
    "\n",
    "Nevertheless, even with limited data the offline approach was still able to generalize better than the online approach, as we have learned from our evaluation on random levels.\n",
    "We also believe that there is room to improve for the offline approach even without providing additional data.\n",
    "For example, we expect that the training results with our limited amount of data might be improved by adding a Convolutional Neural Network to the DQN.\n",
    "This might lead to a precise Pixel recognition of the matrix that our\n",
    "agent perceives thus leading to better reactions in certain situations with the training data of one balanced level which the player faces different situation.\n",
    "\n",
    "\n",
    "In the real world offline RL is often times the only sensible way to use an ML model as online learning would simply be too dangerous or slow. \n",
    "However, this comes with the price of the agent not being able to explore different approaches on its own meaning an often times subpar training result.\n",
    "Companies like Tesla have acknowledged this issue and have been training their self-driving cars in a life like simulated environment in which they reproduce difficult situations the car might encounter to explore without any real world damages. [[3]](https://youtu.be/11QXiJ8ORe8?t=3187)"
   ]
  },
  {
   "cell_type": "markdown",
   "metadata": {},
   "source": [
    "![Thanks](https://media4.giphy.com/media/1mssFONYwmBlJy1DAv/giphy.gif?cid=ecf05e47fq7b3e8nbn49rxb2hj1f8qy627umny603h7tsi8f&rid=giphy.gif&ct=g)"
   ]
  }
 ],
 "metadata": {
  "interpreter": {
   "hash": "4fefe5704b33e4500f5833ae6032bcef53ee790cf4ffa6448116d63501fea73e"
  },
  "kernelspec": {
   "display_name": "Python 3",
   "language": "python",
   "name": "python3"
  },
  "language_info": {
   "codemirror_mode": {
    "name": "ipython",
    "version": 3
   },
   "file_extension": ".py",
   "mimetype": "text/x-python",
   "name": "python",
   "nbconvert_exporter": "python",
   "pygments_lexer": "ipython3",
   "version": "3.8.5"
  }
 },
 "nbformat": 4,
 "nbformat_minor": 2
}
