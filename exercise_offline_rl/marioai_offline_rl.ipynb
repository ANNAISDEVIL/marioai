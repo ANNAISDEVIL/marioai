{
 "cells": [
  {
   "cell_type": "markdown",
   "metadata": {},
   "source": [
    "# Training an Agent to play Super Mario with Offline Learning\n",
    "---\n",
    "\n",
    "In this exercise you will learn how to use offline learning to train a neural network to play Super Mario.\n",
    "Its performance will then be compared with the results from the Q-Learning exercise. "
   ]
  },
  {
   "cell_type": "markdown",
   "metadata": {
    "pycharm": {
     "name": "#%% md\n"
    }
   },
   "source": [
    "## 0. Setup\n",
    "\n",
    "### Requirements\n",
    " - Java 8 (or later) runtime environment\n",
    " - Python 3.6 (or later)\n",
    " - Microsoft Visual C++ 14.0 (or later)\n",
    "\n",
    "You will be provided with both the .jar and the gym-marioai python package."
   ]
  },
  {
   "cell_type": "markdown",
   "metadata": {},
   "source": [
    "### Installation\n",
    "To setup this exercise we will use Pipenv.\n",
    "If you do not have pipenv installed please do so by running:\n",
    "\n",
    "``pip install --user pipenv``\n",
    "\n",
    "After that please run (if not already done)\n",
    "\n",
    "``pipenv install`` and\n",
    "``pipenv run start``.\n",
    "\n",
    "\n",
    "in the root directory to start the Jupyter notebook containing the exercise.\n",
    "\n",
    "(pipfile set to python version 3.6 by default, can be edited if needed)"
   ]
  },
  {
   "cell_type": "code",
   "execution_count": 15,
   "metadata": {},
   "outputs": [
    {
     "name": "stdout",
     "output_type": "stream",
     "text": [
      "The tensorboard extension is already loaded. To reload it, use:\n",
      "  %reload_ext tensorboard\n",
      "env: PROTOCOL_BUFFERS_PYTHON_IMPLEMENTATION=python\n"
     ]
    }
   ],
   "source": [
    "# Setup the imports. Run this cell again if you encounter any import errors.\n",
    "import copy\n",
    "import numpy as np\n",
    "import pathlib\n",
    "\n",
    "from d3rlpy.algos import DQN\n",
    "import d3rlpy.dataset\n",
    "from d3rlpy.dataset import MDPDataset, ReplayBuffer\n",
    "from d3rlpy.metrics import EnvironmentEvaluator\n",
    "# from d3rlpy.metrics.scorer import evaluate_on_environment\n",
    "from sklearn.model_selection import train_test_split\n",
    "\n",
    "from gym_setup import Env\n",
    "from controller import GamepadController, KeyboardController\n",
    "from data.datasets.getDatasets import getDataset\n",
    "\n",
    "%load_ext tensorboard\n",
    "%set_env PROTOCOL_BUFFERS_PYTHON_IMPLEMENTATION=python"
   ]
  },
  {
   "cell_type": "markdown",
   "metadata": {},
   "source": [
    "## 1. Generating data\n",
    "First, you will have to generate some data for the neural network to train with.\n",
    "\n",
    "### Level\n",
    "The level we will be using for this exercise will be a very easy one to minimize the training time.\n",
    "\n",
    "However, if you would like to try different levels, we encourage you to do so by changing the ``level`` variable below to a different one from the ``levels`` folder."
   ]
  },
  {
   "cell_type": "code",
   "execution_count": 16,
   "metadata": {},
   "outputs": [],
   "source": [
    "# Setup global variables\n",
    "level = pathlib.Path(\"levels\", \"OneCliffLevel.lvl\").resolve()\n",
    "# level = pathlib.Path(\"levels\", \"RoughTerrainLevel.lvl\").resolve()\n",
    "\n",
    "dataset_path = pathlib.Path(\"data\", \"datasets\", level.stem + \".h5\").resolve()\n",
    "dataset_path_rand = pathlib.Path(\"data\", \"datasets\", level.stem + \".random.h5\").resolve()"
   ]
  },
  {
   "cell_type": "markdown",
   "metadata": {},
   "source": [
    "### 1.1 Player generated data.\n",
    "\n",
    "![Mario](https://media1.giphy.com/media/aX0RqLt2ARSW4/giphy.gif?cid=ecf05e47fnkts3fqh25tj9v8noh9vnccwo4x0ey4zpdxc7ft&rid=giphy.gif&ct=g)\n",
    "\n",
    "\n",
    "To achieve the best possible results, the training algorithm needs the best possible data. In this case that means player generated data.\n",
    "\n",
    "\n",
    "You will have the most fun playing with a USB-Controller but if you have none, you can set the following variable to ``False`` to use the keyboard:"
   ]
  },
  {
   "cell_type": "code",
   "execution_count": 17,
   "metadata": {},
   "outputs": [],
   "source": [
    "# Don't forget to run me\n",
    "USE_GAMEPAD = False"
   ]
  },
  {
   "cell_type": "markdown",
   "metadata": {},
   "source": [
    "### Controls\n",
    "|            \t| Keyboard    \t| Xbox       \t| Playstation \t|\n",
    "|------------\t|-------------\t|------------\t|-------------\t|\n",
    "| Jump       \t| S           \t| A          \t| X           \t|\n",
    "| Sprint     \t| A           \t| B          \t| O           \t|\n",
    "| Move Right \t| Arrow Right \t| Dpad Right \t| Dpad Right  \t|\n",
    "| Move Left  \t| Arrow Left  \t| Dpad Left  \t| Dpad Left   \t|\n",
    "| Duck       \t| Arrow Down  \t| Dpad Down  \t| Dpad Down   \t|"
   ]
  },
  {
   "cell_type": "markdown",
   "metadata": {},
   "source": [
    "To start the game run the next cell. If you think you have enough data just close the game window and move on to the next cell.\n",
    "\n",
    "Note: We have pregenerated some training data for your convenience which will be used in addition to your data to train the model.\n",
    "If you want to train with your own data only, go ahead and delete the data from ``exercise_offline_rl\\data\\datasets``."
   ]
  },
  {
   "cell_type": "code",
   "execution_count": 18,
   "metadata": {},
   "outputs": [
    {
     "name": "stdout",
     "output_type": "stream",
     "text": [
      "Running on port 52159\n",
      "Done\n"
     ]
    }
   ],
   "source": [
    "# Let's play!\n",
    "try:\n",
    "    env_play = Env(visible=True, level=str(level)).env\n",
    "    \n",
    "    if USE_GAMEPAD:\n",
    "        controller = GamepadController(env_play)\n",
    "    else:\n",
    "        controller = KeyboardController(env_play)\n",
    "    while True:\n",
    "        observation,_ = env_play.reset()\n",
    "        \n",
    "        done = False\n",
    "        action = controller.read()\n",
    "\n",
    "        observations = [observation]\n",
    "        \n",
    "        actions = [action]\n",
    "        # No reward at first time step, because no action was taken yet\n",
    "        rewards = [0]\n",
    "        terminals = [done]\n",
    "\n",
    "        while not done:\n",
    "            observation, reward, done, truncated, info = env_play.step(action)\n",
    "            \n",
    "            action = controller.read()\n",
    "\n",
    "            observations.append(observation)\n",
    "            actions.append(action)\n",
    "            rewards.append(reward)\n",
    "            terminals.append(done)\n",
    "\n",
    "        dataset = None\n",
    "        if dataset_path.exists():\n",
    "            # NOTE: is this the correct type of buffer?\n",
    "            # see https://d3rlpy.readthedocs.io/en/latest/references/dataset.html\n",
    "            with dataset_path.open(\"rb\") as dataset_file:\n",
    "                dataset: ReplayBuffer = ReplayBuffer.load(dataset_file, d3rlpy.dataset.InfiniteBuffer())\n",
    "                dataset.append_episode(d3rlpy.dataset.components.Episode(np.asarray(observations), np.asarray(actions)[:,np.newaxis],\n",
    "                               np.asarray(rewards)[:,np.newaxis], done))\n",
    "        else:\n",
    "            dataset = MDPDataset(np.asarray(observations), np.asarray(actions)[:,np.newaxis],\n",
    "                                 np.asarray(rewards)[:,np.newaxis], np.asarray(terminals))\n",
    "        with open(dataset_path, \"w+b\") as f:\n",
    "            dataset.dump(f)\n",
    "        \n",
    "except ConnectionResetError:\n",
    "    print(\"Done\")"
   ]
  },
  {
   "cell_type": "markdown",
   "metadata": {},
   "source": [
    "### 1.2 Randomly generated data (optional)\n",
    "To complement the player generated data, it is possible to also generate some random data for the algorithm to train with."
   ]
  },
  {
   "cell_type": "code",
   "execution_count": 19,
   "metadata": {},
   "outputs": [
    {
     "name": "stdout",
     "output_type": "stream",
     "text": [
      "Running on port 52176\n",
      "Done!\n"
     ]
    }
   ],
   "source": [
    "# Generate random data\n",
    "EPISODES = 10 # <--- increase if you want more random data. More data might slow down the training process.\n",
    "\n",
    "env_rand = Env(visible=False, level=str(level)).env\n",
    "\n",
    "for episode in range(EPISODES):\n",
    "    observation, _ = env_rand.reset()\n",
    "    done = False\n",
    "    action = env_rand.action_space.sample()\n",
    "    \n",
    "    observations = [observation]\n",
    "    actions = [action]\n",
    "    # No reward at first time step, because no action was taken yet\n",
    "    rewards = [0]\n",
    "    terminals = [done]\n",
    "\n",
    "    while not done:\n",
    "        observation, reward, done, truncated, info = env_rand.step(action)\n",
    "        action = env_rand.action_space.sample()\n",
    "\n",
    "        observations.append(observation)\n",
    "        actions.append(action)\n",
    "        rewards.append(reward)\n",
    "        terminals.append(done)\n",
    "\n",
    "    dataset = None\n",
    "    if dataset_path_rand.exists():\n",
    "        # NOTE: is this the correct type of buffer?\n",
    "        # see https://d3rlpy.readthedocs.io/en/latest/references/dataset.html\n",
    "        with dataset_path_rand.open(\"rb\") as dataset_file:\n",
    "            dataset: ReplayBuffer = ReplayBuffer.load(dataset_file, d3rlpy.dataset.InfiniteBuffer())\n",
    "            dataset.append_episode(d3rlpy.dataset.components.Episode(np.asarray(observations), np.asarray(actions)[:,np.newaxis],\n",
    "                           np.asarray(rewards)[:,np.newaxis], done))\n",
    "    else:\n",
    "        dataset = MDPDataset(np.asarray(observations), np.asarray(actions)[:,np.newaxis],\n",
    "                             np.asarray(rewards)[:,np.newaxis], np.asarray(terminals))\n",
    "    dataset.dump(dataset_path_rand)\n",
    "\n",
    "print(\"Done!\")"
   ]
  },
  {
   "cell_type": "code",
   "execution_count": 20,
   "metadata": {},
   "outputs": [
    {
     "name": "stdout",
     "output_type": "stream",
     "text": [
      "299\n",
      "299\n",
      "923\n"
     ]
    }
   ],
   "source": [
    "# check how many data we have already: hard to evaluate cause how many time playing not porpotinally add .h5\n",
    "# len(hf) = hf.keys()\n",
    "import h5py\n",
    "\n",
    "hf = h5py.File(\"data\\datasets\\OneCliffLevel.h5\", 'r')\n",
    "# hf = h5py.File(\"data\\datasets\\OneCliffLevel.h5\", 'r')\n",
    "print(len(hf))\n",
    "print(len(hf.keys()))\n",
    "hf = h5py.File(\"data\\datasets\\OneCliffLevel.random.h5\", 'r')\n",
    "# hf = h5py.File(\"data\\datasets\\OneCliffLevel.random.h5\", 'r')\n",
    "print(len(hf))\n",
    "hf.close()"
   ]
  },
  {
   "cell_type": "markdown",
   "metadata": {},
   "source": [
    "## 2. Use the generated data to train a policy\n",
    "Now that you have generated some data for the neural network to train with, let's begin with the training.\n",
    "For the purpose of this exercise we will use the Offline RL Python library [d3rlpy](https://github.com/takuseno/d3rlpy).\n",
    "\n"
   ]
  },
  {
   "cell_type": "markdown",
   "metadata": {},
   "source": [
    "### 2.1 Choosing an algorithm\n",
    "![DQN](https://raw.githubusercontent.com/koerners/marioai/master/exercise_offline_rl/data/jupyter/dqn.PNG)\n",
    "\n",
    "#### Why we chose DQN\n",
    "The Deep Q-Network approach is known to have been able to achieve human-level control in Atari games, and it is able to learn successful policies directly from high-dimensional sensory inputs (like pixels) using end-to-end reinforcement learning which makes it ideal for our purpose. [[1]](https://www.nature.com/articles/nature14236) \n",
    "\n",
    "It uses data collected from an environment to learn and train without interacting with it.\n",
    "\n",
    "For more information on DQN, please refer to [this paper](https://www.nature.com/articles/nature14236).\n",
    "\n"
   ]
  },
  {
   "cell_type": "markdown",
   "metadata": {},
   "source": [
    "### 2.2 Setup the training\n",
    "First we set the training parameters.\n",
    "Most of these are fairly optimized but feel free to experiment."
   ]
  },
  {
   "cell_type": "code",
   "execution_count": 21,
   "metadata": {},
   "outputs": [],
   "source": [
    "# Training parameters\n",
    "n_epochs = 10 # <--- change here if you want to train more / less\n",
    "n_steps_per_epoch = 1000\n",
    "test_size = 0.1 # percentage of episodes not used for training\n",
    "\n",
    "# DQN parameters\n",
    "learning_rate = 0.0003 # to what extent the agent overrides old information with new information\n",
    "gamma = 0.99 # discount factor, how important future rewards are\n",
    "target_update_interval = 3000 # interval of steps that the agent uses to update target network\n",
    "batch_size = 2 # size of training examples utilized in one iteration\n",
    "use_gpu = False # usage of gpu to train"
   ]
  },
  {
   "cell_type": "markdown",
   "metadata": {},
   "source": [
    "### 2.3 Training time!\n",
    "\n",
    "If you want to track the training with tensorboard, run the following cell."
   ]
  },
  {
   "cell_type": "code",
   "execution_count": 22,
   "metadata": {},
   "outputs": [],
   "source": [
    "# # Start tensorboard \n",
    "# %tensorboard --logdir runs"
   ]
  },
  {
   "cell_type": "markdown",
   "metadata": {},
   "source": [
    "To start the training run the next cell: "
   ]
  },
  {
   "cell_type": "code",
   "execution_count": 23,
   "metadata": {},
   "outputs": [],
   "source": [
    "# dataset =getDataset()\n",
    "# # dataset =getDataset(training_mode=\"OneCliffLevel\")\n",
    "# # train_episodes, test_episodes = train_test_split(dataset.episodes, test_size=test_size)\n",
    "# print(len(dataset.episodes))\n",
    "\n",
    "# print(dataset.episodes[0].observations[0].shape)\n",
    "\n",
    "# dqn = d3rlpy.algos.DQNConfig(learning_rate=learning_rate, gamma=gamma,\n",
    "#           target_update_interval=target_update_interval,\n",
    "#           batch_size=batch_size).create()\n",
    "\n",
    "# # set environment in scorer function\n",
    "# env_train = Env(visible=False, level=str(level)).env\n",
    "# dqn.build_with_dataset(dataset)\n",
    "# env_evaluator  = EnvironmentEvaluator(env_train)\n",
    "# # td_error_evaluator = TDErrorEvaluator(test_episodes)\n",
    "\n",
    "# # evaluate algorithm on the environment\n",
    "# # rewards = env_evaluator(dqn, dataset=None)\n",
    "# name = 'marioai_%s_%s_%s_%s_%s' % (level.stem, gamma, learning_rate, target_update_interval, n_epochs)\n",
    "# model_file = pathlib.Path(\"data\", \"models\", name + \".pt\")\n",
    "# currentMax = -100000\n",
    "# dqn_max = copy.deepcopy(dqn)\n",
    "\n",
    "# fitter = dqn.fitter(\n",
    "#    dataset,\n",
    "#    n_steps = n_steps_per_epoch * n_epochs,\n",
    "#    n_steps_per_epoch=n_steps_per_epoch,\n",
    "#   evaluators={'environment': env_evaluator }\n",
    "# )\n",
    "\n",
    "# for epoch, metrics in fitter:\n",
    "#     if metrics.get(\"environment\") > currentMax:\n",
    "#         currentMax = metrics.get(\"environment\")\n",
    "#         dqn_max.copy_q_function_from(dqn)\n",
    "#     else:\n",
    "#         dqn.copy_q_function_from(dqn_max)\n",
    "#     dqn.save_model(model_file)\n",
    "#     if currentMax > 100:\n",
    "#         # For the purpose of the exercise the training will stop if the agent manages to complete the level\n",
    "#         print(\"A suitable model has been found.\")\n",
    "#         break"
   ]
  },
  {
   "cell_type": "code",
   "execution_count": 24,
   "metadata": {},
   "outputs": [
    {
     "name": "stdout",
     "output_type": "stream",
     "text": [
      "F:\\LMU\\1Sem\\marioai\\exercise_offline_rl\\data\\datasets\\OneCliffLevel.h5\n",
      "F:\\LMU\\1Sem\\marioai\\exercise_offline_rl\\data\\datasets\\OneCliffLevel.random.h5\n",
      "304\n",
      "(800,)\n",
      "Running on port 52182\n",
      "2023-08-24 11:19:19 [info     ] dataset info                   dataset_info=DatasetInfo(observation_signature=Signature(dtype=[dtype('int8')], shape=[(800,)]), action_signature=Signature(dtype=[dtype('int32')], shape=[(1,)]), reward_signature=Signature(dtype=[dtype('int32')], shape=[(1,)]), action_space=<ActionSpace.DISCRETE: 2>, action_size=13)\n",
      "2023-08-24 11:19:19 [info     ] Directory is created at d3rlpy_logs\\DQN_20230824111919\n",
      "2023-08-24 11:19:19 [warning  ] Skip building models since they're already built.\n",
      "2023-08-24 11:19:19 [info     ] Parameters                     params={'observation_shape': [800], 'action_size': 13, 'config': {'type': 'dqn', 'params': {'batch_size': 2, 'gamma': 0.99, 'observation_scaler': {'type': 'none', 'params': {}}, 'action_scaler': {'type': 'none', 'params': {}}, 'reward_scaler': {'type': 'none', 'params': {}}, 'learning_rate': 0.0003, 'optim_factory': {'type': 'adam', 'params': {'betas': [0.9, 0.999], 'eps': 1e-08, 'weight_decay': 0, 'amsgrad': False}}, 'encoder_factory': {'type': 'default', 'params': {'activation': 'relu', 'use_batch_norm': False, 'dropout_rate': None}}, 'q_func_factory': {'type': 'mean', 'params': {'share_encoder': False}}, 'n_critics': 1, 'target_update_interval': 3000}}}\n"
     ]
    },
    {
     "data": {
      "application/vnd.jupyter.widget-view+json": {
       "model_id": "13fd71d18c354dabaa68e8d05d15547e",
       "version_major": 2,
       "version_minor": 0
      },
      "text/plain": [
       "Epoch 1/10:   0%|          | 0/1000 [00:00<?, ?it/s]"
      ]
     },
     "metadata": {},
     "output_type": "display_data"
    },
    {
     "name": "stdout",
     "output_type": "stream",
     "text": [
      "2023-08-24 11:19:31 [info     ] DQN_20230824111919: epoch=1 step=1000 epoch=1 metrics={'time_sample_batch': 0.00012995433807373046, 'time_algorithm_update': 0.0043329203128814695, 'loss': 0.5114957588402367, 'time_step': 0.0045298728942871095, 'environment': -517.0} step=1000\n",
      "2023-08-24 11:19:31 [info     ] Model parameters are saved to d3rlpy_logs\\DQN_20230824111919\\model_1000.d3\n"
     ]
    },
    {
     "data": {
      "application/vnd.jupyter.widget-view+json": {
       "model_id": "6b3c5d6318be49baa0da4613eef42fae",
       "version_major": 2,
       "version_minor": 0
      },
      "text/plain": [
       "Epoch 2/10:   0%|          | 0/1000 [00:00<?, ?it/s]"
      ]
     },
     "metadata": {},
     "output_type": "display_data"
    },
    {
     "name": "stdout",
     "output_type": "stream",
     "text": [
      "2023-08-24 11:19:37 [info     ] DQN_20230824111919: epoch=2 step=2000 epoch=2 metrics={'time_sample_batch': 0.00014826560020446777, 'time_algorithm_update': 0.0049860248565673825, 'loss': 0.4640513001634531, 'time_step': 0.005194086074829102, 'environment': 28.0} step=2000\n",
      "2023-08-24 11:19:37 [info     ] Model parameters are saved to d3rlpy_logs\\DQN_20230824111919\\model_2000.d3\n"
     ]
    },
    {
     "data": {
      "application/vnd.jupyter.widget-view+json": {
       "model_id": "59feaf7eb0b04be4ba0367a5d0eed9d1",
       "version_major": 2,
       "version_minor": 0
      },
      "text/plain": [
       "Epoch 3/10:   0%|          | 0/1000 [00:00<?, ?it/s]"
      ]
     },
     "metadata": {},
     "output_type": "display_data"
    },
    {
     "name": "stdout",
     "output_type": "stream",
     "text": [
      "2023-08-24 11:19:43 [info     ] DQN_20230824111919: epoch=3 step=3000 epoch=3 metrics={'time_sample_batch': 0.00013289999961853027, 'time_algorithm_update': 0.004633389711380005, 'loss': 0.5637436058600579, 'time_step': 0.004831204414367676, 'environment': 33.0} step=3000\n",
      "2023-08-24 11:19:43 [info     ] Model parameters are saved to d3rlpy_logs\\DQN_20230824111919\\model_3000.d3\n"
     ]
    },
    {
     "data": {
      "application/vnd.jupyter.widget-view+json": {
       "model_id": "df3c2d114582407c95ad34a7a9ad6b6f",
       "version_major": 2,
       "version_minor": 0
      },
      "text/plain": [
       "Epoch 4/10:   0%|          | 0/1000 [00:00<?, ?it/s]"
      ]
     },
     "metadata": {},
     "output_type": "display_data"
    },
    {
     "name": "stdout",
     "output_type": "stream",
     "text": [
      "2023-08-24 11:19:49 [info     ] DQN_20230824111919: epoch=4 step=4000 epoch=4 metrics={'time_sample_batch': 0.00015005254745483398, 'time_algorithm_update': 0.004943859577178955, 'loss': 0.4976011298306257, 'time_step': 0.00515995454788208, 'environment': 31.0} step=4000\n",
      "2023-08-24 11:19:49 [info     ] Model parameters are saved to d3rlpy_logs\\DQN_20230824111919\\model_4000.d3\n"
     ]
    },
    {
     "data": {
      "application/vnd.jupyter.widget-view+json": {
       "model_id": "0685995dd85249d2a54ab31ddfb3d89b",
       "version_major": 2,
       "version_minor": 0
      },
      "text/plain": [
       "Epoch 5/10:   0%|          | 0/1000 [00:00<?, ?it/s]"
      ]
     },
     "metadata": {},
     "output_type": "display_data"
    },
    {
     "name": "stdout",
     "output_type": "stream",
     "text": [
      "2023-08-24 11:20:01 [info     ] DQN_20230824111919: epoch=5 step=5000 epoch=5 metrics={'time_sample_batch': 0.00011942720413208008, 'time_algorithm_update': 0.00463179874420166, 'loss': 0.4966519918174454, 'time_step': 0.00481617546081543, 'environment': -518.0} step=5000\n",
      "2023-08-24 11:20:01 [info     ] Model parameters are saved to d3rlpy_logs\\DQN_20230824111919\\model_5000.d3\n"
     ]
    },
    {
     "data": {
      "application/vnd.jupyter.widget-view+json": {
       "model_id": "e5772369ad23487688a2a92a9a74f229",
       "version_major": 2,
       "version_minor": 0
      },
      "text/plain": [
       "Epoch 6/10:   0%|          | 0/1000 [00:00<?, ?it/s]"
      ]
     },
     "metadata": {},
     "output_type": "display_data"
    },
    {
     "name": "stdout",
     "output_type": "stream",
     "text": [
      "2023-08-24 11:20:13 [info     ] DQN_20230824111919: epoch=6 step=6000 epoch=6 metrics={'time_sample_batch': 0.0001511380672454834, 'time_algorithm_update': 0.004736761093139649, 'loss': 0.5776712363945171, 'time_step': 0.004951948642730713, 'environment': -515.0} step=6000\n",
      "2023-08-24 11:20:13 [info     ] Model parameters are saved to d3rlpy_logs\\DQN_20230824111919\\model_6000.d3\n"
     ]
    },
    {
     "data": {
      "application/vnd.jupyter.widget-view+json": {
       "model_id": "3c67d401deb64d7ba4c287f1b85eb34b",
       "version_major": 2,
       "version_minor": 0
      },
      "text/plain": [
       "Epoch 7/10:   0%|          | 0/1000 [00:00<?, ?it/s]"
      ]
     },
     "metadata": {},
     "output_type": "display_data"
    },
    {
     "name": "stdout",
     "output_type": "stream",
     "text": [
      "2023-08-24 11:20:18 [info     ] DQN_20230824111919: epoch=7 step=7000 epoch=7 metrics={'time_sample_batch': 0.00011536645889282227, 'time_algorithm_update': 0.00467398977279663, 'loss': 0.41195105642251517, 'time_step': 0.004856169700622559, 'environment': 33.0} step=7000\n",
      "2023-08-24 11:20:18 [info     ] Model parameters are saved to d3rlpy_logs\\DQN_20230824111919\\model_7000.d3\n"
     ]
    },
    {
     "data": {
      "application/vnd.jupyter.widget-view+json": {
       "model_id": "5949cc32540a48569c587dadafce52e8",
       "version_major": 2,
       "version_minor": 0
      },
      "text/plain": [
       "Epoch 8/10:   0%|          | 0/1000 [00:00<?, ?it/s]"
      ]
     },
     "metadata": {},
     "output_type": "display_data"
    },
    {
     "name": "stdout",
     "output_type": "stream",
     "text": [
      "2023-08-24 11:20:24 [info     ] DQN_20230824111919: epoch=8 step=8000 epoch=8 metrics={'time_sample_batch': 0.00013806676864624025, 'time_algorithm_update': 0.004576883554458618, 'loss': 0.5474708262916538, 'time_step': 0.0047779748439788815, 'environment': 32.0} step=8000\n",
      "2023-08-24 11:20:24 [info     ] Model parameters are saved to d3rlpy_logs\\DQN_20230824111919\\model_8000.d3\n"
     ]
    },
    {
     "data": {
      "application/vnd.jupyter.widget-view+json": {
       "model_id": "0a886bd33b754c548129e193337f7843",
       "version_major": 2,
       "version_minor": 0
      },
      "text/plain": [
       "Epoch 9/10:   0%|          | 0/1000 [00:00<?, ?it/s]"
      ]
     },
     "metadata": {},
     "output_type": "display_data"
    },
    {
     "name": "stdout",
     "output_type": "stream",
     "text": [
      "2023-08-24 11:20:30 [info     ] DQN_20230824111919: epoch=9 step=9000 epoch=9 metrics={'time_sample_batch': 0.000126126766204834, 'time_algorithm_update': 0.004649852275848389, 'loss': 0.5891326922507433, 'time_step': 0.004834970235824585, 'environment': 17.0} step=9000\n",
      "2023-08-24 11:20:30 [info     ] Model parameters are saved to d3rlpy_logs\\DQN_20230824111919\\model_9000.d3\n"
     ]
    },
    {
     "data": {
      "application/vnd.jupyter.widget-view+json": {
       "model_id": "bbe7abf1a8d14a02804bc015ec40a8d7",
       "version_major": 2,
       "version_minor": 0
      },
      "text/plain": [
       "Epoch 10/10:   0%|          | 0/1000 [00:00<?, ?it/s]"
      ]
     },
     "metadata": {},
     "output_type": "display_data"
    },
    {
     "name": "stdout",
     "output_type": "stream",
     "text": [
      "2023-08-24 11:20:35 [info     ] DQN_20230824111919: epoch=10 step=10000 epoch=10 metrics={'time_sample_batch': 0.000157604455947876, 'time_algorithm_update': 0.004686224460601807, 'loss': 0.5046023228637787, 'time_step': 0.004902181386947632, 'environment': 25.0} step=10000\n",
      "2023-08-24 11:20:35 [info     ] Model parameters are saved to d3rlpy_logs\\DQN_20230824111919\\model_10000.d3\n"
     ]
    },
    {
     "data": {
      "image/png": "[encoded data removed]",
      "text/plain": [
       "<Figure size 1000x600 with 1 Axes>"
      ]
     },
     "metadata": {},
     "output_type": "display_data"
    }
   ],
   "source": [
    "import matplotlib.pyplot as plt\n",
    "\n",
    "# dataset =getDataset()\n",
    "dataset =getDataset(training_mode=\"OneCliffLevel\")\n",
    "# train_episodes, test_episodes = train_test_split(dataset.episodes, test_size=test_size)\n",
    "print(len(dataset.episodes))\n",
    "\n",
    "print(dataset.episodes[0].observations[0].shape)\n",
    "\n",
    "# Initialize lists to store loss and epoch data\n",
    "losses = []\n",
    "epochs = []\n",
    "\n",
    "dqn = d3rlpy.algos.DQNConfig(learning_rate=learning_rate, gamma=gamma,\n",
    "          target_update_interval=target_update_interval,\n",
    "        #   batch_size=batch_size).create()\n",
    "        batch_size=batch_size).create(device=\"cuda:0\")\n",
    "\n",
    "# set environment in scorer function\n",
    "env_train = Env(visible=False, level=str(level)).env\n",
    "dqn.build_with_dataset(dataset)\n",
    "env_evaluator  = EnvironmentEvaluator(env_train)\n",
    "# td_error_evaluator = TDErrorEvaluator(test_episodes)\n",
    "\n",
    "# evaluate algorithm on the environment\n",
    "# rewards = env_evaluator(dqn, dataset=None)\n",
    "name = 'marioai_%s_%s_%s_%s_%s' % (level.stem, gamma, learning_rate, target_update_interval, n_epochs)\n",
    "model_file = pathlib.Path(\"data\", \"models\", name + \".pt\")\n",
    "currentMax = -100000\n",
    "dqn_max = copy.deepcopy(dqn)\n",
    "\n",
    "fitter = dqn.fitter(\n",
    "   dataset,\n",
    "   n_steps = n_steps_per_epoch * n_epochs,\n",
    "   n_steps_per_epoch=n_steps_per_epoch,\n",
    "  evaluators={'environment': env_evaluator }\n",
    ")\n",
    "\n",
    "for epoch, metrics in fitter:\n",
    "    if metrics.get(\"environment\") > currentMax:\n",
    "        currentMax = metrics.get(\"environment\")\n",
    "        dqn_max.copy_q_function_from(dqn)\n",
    "    else:\n",
    "        dqn.copy_q_function_from(dqn_max)\n",
    "    dqn.save_model(model_file)\n",
    "\n",
    "    # Append loss and epoch to lists\n",
    "    loss = metrics.get(\"loss\")\n",
    "    losses.append(loss)\n",
    "    epochs.append(epoch)\n",
    "    \n",
    "    if currentMax > 100:\n",
    "        # For the purpose of the exercise the training will stop if the agent manages to complete the level\n",
    "        print(\"A suitable model has been found.\")\n",
    "        break\n",
    "\n",
    "# Plot loss vs. epoch\n",
    "plt.figure(figsize=(10, 6))\n",
    "plt.plot(epochs, losses, marker='o')\n",
    "plt.xlabel('Epoch')\n",
    "plt.ylabel('Loss')\n",
    "plt.title('Loss vs. Epoch')\n",
    "plt.grid(True)\n",
    "\n",
    "# # Save the plot\n",
    "# plot_image_file = \"loss_vs_epoch_plot.png\"\n",
    "# plt.savefig(plot_image_file)\n",
    "\n",
    "# Show the plot\n",
    "plt.show()"
   ]
  },
  {
   "cell_type": "code",
   "execution_count": 25,
   "metadata": {},
   "outputs": [],
   "source": [
    "# dataset =getDataset() \n",
    "# # dataset =getDataset(training_mode=\"OneCliffLevel\") \n",
    "# # train_episodes, test_episodes = train_test_split(dataset.episodes, test_size=test_size)\n",
    "# print(len(dataset.episodes))\n",
    "\n",
    "# ddqn = d3rlpy.algos.DoubleDQNConfig(learning_rate=learning_rate, gamma=gamma,\n",
    "#           target_update_interval=target_update_interval,\n",
    "#           batch_size=batch_size).create()\n",
    "#         # batch_size=batch_size).create(device=\"cuda:0\")\n",
    "\n",
    "# # set environment in scorer function\n",
    "# env_train = Env(visible=False, level=str(level)).env\n",
    "# ddqn.build_with_dataset(dataset)\n",
    "# env_evaluator  = EnvironmentEvaluator(env_train)\n",
    "\n",
    "# # evaluate algorithm on the environment\n",
    "\n",
    "# name = 'DDQN_marioai_%s_%s_%s_%s_%s' % (level.stem, gamma, learning_rate, target_update_interval, n_epochs)\n",
    "# model_file = pathlib.Path(\"data\", \"models\", name + \".pt\")\n",
    "# currentMax = -100000\n",
    "# ddqn_max = copy.deepcopy(ddqn)\n",
    "\n",
    "# fitter = ddqn.fitter(\n",
    "#    dataset,\n",
    "#    n_steps = n_steps_per_epoch * n_epochs,\n",
    "#    n_steps_per_epoch=n_steps_per_epoch,\n",
    "#   evaluators={'environment': env_evaluator }\n",
    "# )\n",
    "\n",
    "# for epoch, metrics in fitter:\n",
    "#     if metrics.get(\"environment\") > currentMax:\n",
    "#         currentMax = metrics.get(\"environment\")\n",
    "#         ddqn_max.copy_q_function_from(ddqn)\n",
    "#     else:\n",
    "#         ddqn.copy_q_function_from(ddqn_max)\n",
    "#     ddqn.save_model(model_file)\n",
    "#     if currentMax > 100:\n",
    "#         # For the purpose of the exercise the training will stop if the agent manages to complete the level\n",
    "#         print(\"A suitable model has been found.\")\n",
    "#         break"
   ]
  },
  {
   "cell_type": "code",
   "execution_count": 29,
   "metadata": {},
   "outputs": [
    {
     "name": "stdout",
     "output_type": "stream",
     "text": [
      "F:\\LMU\\1Sem\\marioai\\exercise_offline_rl\\data\\datasets\\OneCliffLevel.h5\n",
      "F:\\LMU\\1Sem\\marioai\\exercise_offline_rl\\data\\datasets\\OneCliffLevel.random.h5\n",
      "304\n",
      "(800,)\n",
      "Running on port 52224\n",
      "2023-08-24 11:23:21 [info     ] dataset info                   dataset_info=DatasetInfo(observation_signature=Signature(dtype=[dtype('int8')], shape=[(800,)]), action_signature=Signature(dtype=[dtype('int32')], shape=[(1,)]), reward_signature=Signature(dtype=[dtype('int32')], shape=[(1,)]), action_space=<ActionSpace.DISCRETE: 2>, action_size=13)\n",
      "2023-08-24 11:23:21 [info     ] Directory is created at d3rlpy_logs\\DoubleDQN_20230824112321\n",
      "2023-08-24 11:23:21 [warning  ] Skip building models since they're already built.\n",
      "2023-08-24 11:23:21 [info     ] Parameters                     params={'observation_shape': [800], 'action_size': 13, 'config': {'type': 'double_dqn', 'params': {'batch_size': 2, 'gamma': 0.99, 'observation_scaler': {'type': 'none', 'params': {}}, 'action_scaler': {'type': 'none', 'params': {}}, 'reward_scaler': {'type': 'none', 'params': {}}, 'learning_rate': 0.0003, 'optim_factory': {'type': 'adam', 'params': {'betas': [0.9, 0.999], 'eps': 1e-08, 'weight_decay': 0, 'amsgrad': False}}, 'encoder_factory': {'type': 'default', 'params': {'activation': 'relu', 'use_batch_norm': False, 'dropout_rate': None}}, 'q_func_factory': {'type': 'mean', 'params': {'share_encoder': False}}, 'n_critics': 1, 'target_update_interval': 3000}}}\n"
     ]
    },
    {
     "data": {
      "application/vnd.jupyter.widget-view+json": {
       "model_id": "56ed284601f84e9dbd4073e5b35415be",
       "version_major": 2,
       "version_minor": 0
      },
      "text/plain": [
       "Epoch 1/10:   0%|          | 0/1000 [00:00<?, ?it/s]"
      ]
     },
     "metadata": {},
     "output_type": "display_data"
    },
    {
     "name": "stdout",
     "output_type": "stream",
     "text": [
      "2023-08-24 11:23:27 [info     ] DoubleDQN_20230824112321: epoch=1 step=1000 epoch=1 metrics={'time_sample_batch': 0.00013579273223876954, 'time_algorithm_update': 0.0044293501377105715, 'loss': 0.43135777516477536, 'time_step': 0.004640315055847168, 'environment': 32.0} step=1000\n",
      "2023-08-24 11:23:27 [info     ] Model parameters are saved to d3rlpy_logs\\DoubleDQN_20230824112321\\model_1000.d3\n"
     ]
    },
    {
     "data": {
      "application/vnd.jupyter.widget-view+json": {
       "model_id": "dfd66e155c4b436482fe96da019c21e2",
       "version_major": 2,
       "version_minor": 0
      },
      "text/plain": [
       "Epoch 2/10:   0%|          | 0/1000 [00:00<?, ?it/s]"
      ]
     },
     "metadata": {},
     "output_type": "display_data"
    },
    {
     "name": "stdout",
     "output_type": "stream",
     "text": [
      "2023-08-24 11:23:33 [info     ] DoubleDQN_20230824112321: epoch=2 step=2000 epoch=2 metrics={'time_sample_batch': 0.00014482665061950684, 'time_algorithm_update': 0.004694460153579712, 'loss': 0.48765805878956964, 'time_step': 0.004917736053466797, 'environment': 245.0} step=2000\n",
      "2023-08-24 11:23:33 [info     ] Model parameters are saved to d3rlpy_logs\\DoubleDQN_20230824112321\\model_2000.d3\n",
      "A suitable model has been found.\n"
     ]
    },
    {
     "data": {
      "image/png": "[encoded data removed]",
      "text/plain": [
       "<Figure size 1000x600 with 1 Axes>"
      ]
     },
     "metadata": {},
     "output_type": "display_data"
    }
   ],
   "source": [
    "import matplotlib.pyplot as plt\n",
    "\n",
    "# dataset =getDataset()\n",
    "dataset =getDataset(training_mode=\"OneCliffLevel\")\n",
    "# train_episodes, test_episodes = train_test_split(dataset.episodes, test_size=test_size)\n",
    "print(len(dataset.episodes))\n",
    "\n",
    "print(dataset.episodes[0].observations[0].shape)\n",
    "\n",
    "# Initialize lists to store loss and epoch data\n",
    "losses = []\n",
    "epochs = []\n",
    "\n",
    "ddqn = d3rlpy.algos.DoubleDQNConfig(learning_rate=learning_rate, gamma=gamma,\n",
    "          target_update_interval=target_update_interval,\n",
    "        #   batch_size=batch_size).create()\n",
    "        batch_size=batch_size).create(device=\"cuda:0\")\n",
    "\n",
    "# set environment in scorer function\n",
    "env_train = Env(visible=False, level=str(level)).env\n",
    "ddqn.build_with_dataset(dataset)\n",
    "env_evaluator  = EnvironmentEvaluator(env_train)\n",
    "\n",
    "# evaluate algorithm on the environment\n",
    "\n",
    "name = 'DDQN_marioai_%s_%s_%s_%s_%s' % (level.stem, gamma, learning_rate, target_update_interval, n_epochs)\n",
    "model_file = pathlib.Path(\"data\", \"models\", name + \".pt\")\n",
    "currentMax = -100000\n",
    "ddqn_max = copy.deepcopy(ddqn)\n",
    "\n",
    "fitter = ddqn.fitter(\n",
    "   dataset,\n",
    "   n_steps = n_steps_per_epoch * n_epochs,\n",
    "   n_steps_per_epoch=n_steps_per_epoch,\n",
    "  evaluators={'environment': env_evaluator }\n",
    ")\n",
    "\n",
    "for epoch, metrics in fitter:\n",
    "    if metrics.get(\"environment\") > currentMax:\n",
    "        currentMax = metrics.get(\"environment\")\n",
    "        ddqn_max.copy_q_function_from(ddqn)\n",
    "    else:\n",
    "        ddqn.copy_q_function_from(ddqn_max)\n",
    "    ddqn.save_model(model_file)\n",
    "\n",
    "    # Append loss and epoch to lists\n",
    "    loss = metrics.get(\"loss\")\n",
    "    losses.append(loss)\n",
    "    epochs.append(epoch)\n",
    "    \n",
    "    if currentMax > 100:\n",
    "        # For the purpose of the exercise the training will stop if the agent manages to complete the level\n",
    "        print(\"A suitable model has been found.\")\n",
    "        break\n",
    "\n",
    "# Plot loss vs. epoch\n",
    "plt.figure(figsize=(10, 6))\n",
    "plt.plot(epochs, losses, marker='o')\n",
    "plt.xlabel('Epoch')\n",
    "plt.ylabel('Loss')\n",
    "plt.title('Loss vs. Epoch')\n",
    "plt.grid(True)\n",
    "\n",
    "# # Save the plot\n",
    "# plot_image_file = \"loss_vs_epoch_plot.png\"\n",
    "# plt.savefig(plot_image_file)\n",
    "\n",
    "# Show the plot\n",
    "plt.show()"
   ]
  },
  {
   "cell_type": "markdown",
   "metadata": {},
   "source": [
    "### 2.4 Validation\n",
    "Now let's see if the training did something. If the results are not as expected try recording more data or increasing the training epochs."
   ]
  },
  {
   "cell_type": "code",
   "execution_count": 27,
   "metadata": {},
   "outputs": [
    {
     "name": "stdout",
     "output_type": "stream",
     "text": [
      "Running on port 52203\n",
      "F:\\LMU\\1Sem\\marioai\\exercise_offline_rl\\data\\datasets\\ClimbLevel.h5\n",
      "F:\\LMU\\1Sem\\marioai\\exercise_offline_rl\\data\\datasets\\ClimbLevel.random.h5\n",
      "F:\\LMU\\1Sem\\marioai\\exercise_offline_rl\\data\\datasets\\OneCliffLevel.h5\n",
      "F:\\LMU\\1Sem\\marioai\\exercise_offline_rl\\data\\datasets\\OneCliffLevel.random.h5\n",
      "F:\\LMU\\1Sem\\marioai\\exercise_offline_rl\\data\\datasets\\RoughTerrainLevel.h5\n",
      "F:\\LMU\\1Sem\\marioai\\exercise_offline_rl\\data\\datasets\\RoughTerrainLevel.random.h5\n",
      "finished episode, total_reward: 33\n",
      "finished episode, total_reward: 33\n",
      "finished episode, total_reward: 33\n",
      "Window closed.\n"
     ]
    }
   ],
   "source": [
    "env_show = Env(visible=True, level=str(level)).env\n",
    "\n",
    "dqn = d3rlpy.algos.DQNConfig(learning_rate=learning_rate, gamma=gamma,\n",
    "          target_update_interval=target_update_interval,\n",
    "          batch_size=batch_size).create()\n",
    "dqn.build_with_dataset(getDataset())\n",
    "\n",
    "# dqn.load_model(model_file)\n",
    "dqn.load_model(\"data\\models\\marioai_OneCliffLevel_0.99_0.0003_3000_10.pt\")\n",
    "# dqn.load_model(\"data\\models\\marioai_OneCliffLevel_0.99_0.0003_3000_10_onlyh5_1.pt\")\n",
    "# dqn.load_model(\"data\\models\\marioai_RoughTerrainLevel_0.99_0.0003_3000_5.pt\")\n",
    "\n",
    "try:\n",
    "    while True:\n",
    "        observation, _ = env_show.reset()\n",
    "\n",
    "        done = False\n",
    "        total_reward = 0\n",
    "        while not done:\n",
    "            predict_action = dqn.predict(observation[np.newaxis, :])[0]\n",
    "            observation, reward, done, truncated, info = env_show.step(predict_action)\n",
    "            total_reward += reward\n",
    "        print(f'finished episode, total_reward: {total_reward}')\n",
    "except ConnectionResetError:\n",
    "    print(\"Window closed.\") "
   ]
  },
  {
   "cell_type": "code",
   "execution_count": 30,
   "metadata": {},
   "outputs": [
    {
     "name": "stdout",
     "output_type": "stream",
     "text": [
      "Running on port 52245\n",
      "F:\\LMU\\1Sem\\marioai\\exercise_offline_rl\\data\\datasets\\ClimbLevel.h5\n",
      "F:\\LMU\\1Sem\\marioai\\exercise_offline_rl\\data\\datasets\\ClimbLevel.random.h5\n",
      "F:\\LMU\\1Sem\\marioai\\exercise_offline_rl\\data\\datasets\\OneCliffLevel.h5\n",
      "F:\\LMU\\1Sem\\marioai\\exercise_offline_rl\\data\\datasets\\OneCliffLevel.random.h5\n",
      "F:\\LMU\\1Sem\\marioai\\exercise_offline_rl\\data\\datasets\\RoughTerrainLevel.h5\n",
      "F:\\LMU\\1Sem\\marioai\\exercise_offline_rl\\data\\datasets\\RoughTerrainLevel.random.h5\n",
      "finished episode, total_reward: 245\n",
      "Window closed.\n"
     ]
    }
   ],
   "source": [
    "env_show = Env(visible=True, level=str(level)).env\n",
    "\n",
    "ddqn = d3rlpy.algos.DoubleDQNConfig(learning_rate=learning_rate, gamma=gamma,\n",
    "          target_update_interval=target_update_interval,\n",
    "          batch_size=batch_size).create()\n",
    "# ddqn.build_with_dataset(getDataset(training_mode=\"OneCliffLevel\"))\n",
    "ddqn.build_with_dataset(getDataset())\n",
    "\n",
    "# dqn.load_model(model_file)\n",
    "ddqn.load_model(\"data\\models\\DDQN_marioai_OneCliffLevel_0.99_0.0003_3000_10.pt\")\n",
    "# ddqn.load_model(\"data\\models\\DDQN_marioai_OneCliffLevel_0.99_0.0003_3000_50_onlyh5.pt\")\n",
    "# ddqn.load_model(\"data\\models\\DDQN_marioai_RoughTerrainLevel_0.99_0.0003_3000_5.pt\")\n",
    "\n",
    "try:\n",
    "    while True:\n",
    "        observation, _ = env_show.reset()\n",
    "\n",
    "        done = False\n",
    "        total_reward = 0\n",
    "        while not done:\n",
    "            predict_action = ddqn.predict(observation[np.newaxis, :])[0]\n",
    "            observation, reward, done, truncated, info = env_show.step(predict_action)\n",
    "            total_reward += reward\n",
    "        print(f'finished episode, total_reward: {total_reward}')\n",
    "except ConnectionResetError:\n",
    "    print(\"Window closed.\")"
   ]
  },
  {
   "cell_type": "markdown",
   "metadata": {},
   "source": [
    "## 3. Offline RL vs Online RL \n",
    "\n",
    "Now we want to compare the approach from the first exercise where an online Q-Learner was used with the results we were able to achieve with the offline RL approach demonstrated above.\n",
    "\n",
    "![Gif](https://1.bp.blogspot.com/-O0FvK3zJd9w/XpXqiJduwyI/AAAAAAAAFtM/5hxzdWOoSLw5sd5vEgMsiGVJSATKx1oEgCLcBGAsYHQ/s640/OFFLINE%2BRL%2Bfig1%2B05b.gif)\n"
   ]
  },
  {
   "cell_type": "markdown",
   "metadata": {},
   "source": [
    "### 3.1 Reproducibility\n",
    "To compare as fairly as possible we ran both the Online Q-Learner as well as the offline Deep Q-Network until a plateau of performance has been reached.\n",
    "- The online Q-Learner was able to train for 10.000 episodes per level while being able to interact with the environment\n",
    "- The DQN was fed <1 hour (~360 episodes) of human playtime per level and was not allowed to interact with the environment while training\n",
    "- Both models were using the same reward settings\n"
   ]
  },
  {
   "cell_type": "markdown",
   "metadata": {},
   "source": [
    "### 3.2 Easy level\n",
    "\n",
    "|  | Reward | Video |\n",
    "| -------- | -------- | -------- |\n",
    "| Q-Learner  | 232     | ![Gif](https://raw.githubusercontent.com/koerners/marioai/master/exercise_offline_rl/data/jupyter/rough_terrain_q_learner_232.gif)    |\n",
    "| Deep Q-Network  | 280    | ![Gif](https://raw.githubusercontent.com/koerners/marioai/master/exercise_offline_rl/data/jupyter/rough_terrain_dqn_280.gif)    |\n",
    "\n",
    "With sufficient training, neither model struggles with the easy level. However, the model fed with player generated data shows better anticipation of jumps which leads to a better overall result."
   ]
  },
  {
   "cell_type": "markdown",
   "metadata": {},
   "source": [
    "### 3.3 Medium level\n",
    "\n",
    "|  | Reward | Video |\n",
    "| -------- | -------- | -------- |\n",
    "| Q-Learner  | 176     | ![Gif](https://raw.githubusercontent.com/koerners/marioai/master/exercise_offline_rl/data/jupyter/cliff_and_enemies_q_learner_176.gif)    |\n",
    "| Deep Q-Network  | 193    | ![Gif](https://raw.githubusercontent.com/koerners/marioai/master/exercise_offline_rl/data/jupyter/cliff_and_enemies_dqn_193.gif)    |\n",
    "\n",
    "In the medium level, both models behave similarly to the easy level. While the Online Learner seems to have a better strategy to avoid enemies, the Offline Learner has the better jumping performance leading to a better overall score as it is quicker to finish the level."
   ]
  },
  {
   "cell_type": "markdown",
   "metadata": {},
   "source": [
    "### 3.4 Hard level\n",
    "|  | Reward | Video |\n",
    "| -------- | -------- | -------- |\n",
    "| Q-Learner  | -559     | ![Gif](https://raw.githubusercontent.com/koerners/marioai/master/exercise_offline_rl/data/jupyter/climb_q_learner_-559.gif)    |\n",
    "| Deep Q-Network  | -34    | ![Gif](https://raw.githubusercontent.com/koerners/marioai/master/exercise_offline_rl/data/jupyter/climb_dqn_-34.gif)    |\n",
    "\n",
    "Neither model manages to complete the really hard level we tested them on. It is however interesting to observe the different strategies they applied. While the Q-Learner shows a very promising leap to the middle platform, failing to reach the final platform it seems to just give up and wait for the time to run out leading to a high time punishment and therefore an extremely low score. The offline trained model while still failing to complete the level, has developed a strategy to avoid the high time punishment by committing suicide as soon as possible."
   ]
  },
  {
   "cell_type": "markdown",
   "metadata": {},
   "source": [
    "### 3.5 Reward Summary\n",
    "\n",
    "![Summary](https://raw.githubusercontent.com/koerners/marioai/master/exercise_offline_rl/data/jupyter/level-summary.png)\n",
    "\n",
    "\n"
   ]
  },
  {
   "cell_type": "markdown",
   "metadata": {},
   "source": [
    "### 3.6 Performance over 100 levels\n",
    "\n",
    "To compare how well the different methods are able to generalize, we let both the online Q-Learner and the offline DQN train on a single level (the easy level above) and then let them play 100 randomly generated levels (including the three levels above).\n",
    "\n",
    "The model obtained by Q-Learning is only able to beat a single level (presumably the one it was trained on) which indicates that the model highly overfits the level used for training.\n",
    "\n",
    "The model produced by the DQN using user-supplied data on the other hand is able to beat 12 out of the 100 levels and manages to obtain a positive reward on 21 of them. While that number may still not be terribly impressive, it shows that the offline approach is able to generalize good enough to beat levels it has never seen before and far surpasses what the Q-Learner was able to achieve.\n",
    "\n",
    "The plot below shows the total reward achieved by the offline and online method for each level. Here we can also see that the offline method is usually able to obtain a higher reward than the online method. This means that either the offline agent is able to progress further into the level or that the online learner gets stuck somewhere while the offline learner prefers a quick death like in the hard level above.\n",
    "\n",
    "![Comparison: Achieved Reward](https://raw.githubusercontent.com/koerners/marioai/master/exercise_offline_rl/data/jupyter/eval.png)\n"
   ]
  },
  {
   "cell_type": "markdown",
   "metadata": {},
   "source": [
    "## 4. Conclusion\n",
    "\n",
    "While achieving slightly better results than the online RL approach in the easy and medium level, the offline DQN approach was not able to perform any better than the online implementation in the hard level we tested them both on.\n",
    "Our guess would be the lack of training data as mastering a level of this complexity would require a level of understanding of the environment that the network was not able to abstract from the data we were able to provide.\n",
    "This also demonstrates the biggest issue with the offline RL approach: it's high dependence on good and plentiful data.\n",
    "Creating such data is a time-consuming and often times an expensive endeavor.\n",
    "\n",
    "Nevertheless, even with limited data the offline approach was still able to generalize better than the online approach, as we have learned from our evaluation on random levels.\n",
    "We also believe that there is room to improve for the offline approach even without providing additional data.\n",
    "For example, we expect that the training results with our limited amount of data might be improved by adding a Convolutional Neural Network to the DQN.\n",
    "This might lead to a precise Pixel recognition of the matrix that our\n",
    "agent perceives thus leading to better reactions in certain situations with the training data of one balanced level which the player faces different situation.\n",
    "\n",
    "\n",
    "In the real world offline RL is often times the only sensible way to use an ML model as online learning would simply be too dangerous or slow. \n",
    "However, this comes with the price of the agent not being able to explore different approaches on its own meaning an often times subpar training result.\n",
    "Companies like Tesla have acknowledged this issue and have been training their self-driving cars in a life like simulated environment in which they reproduce difficult situations the car might encounter to explore without any real world damages. [[3]](https://youtu.be/11QXiJ8ORe8?t=3187)"
   ]
  },
  {
   "cell_type": "markdown",
   "metadata": {},
   "source": [
    "![Thanks](https://media4.giphy.com/media/1mssFONYwmBlJy1DAv/giphy.gif?cid=ecf05e47fq7b3e8nbn49rxb2hj1f8qy627umny603h7tsi8f&rid=giphy.gif&ct=g)"
   ]
  }
 ],
 "metadata": {
  "interpreter": {
   "hash": "4fefe5704b33e4500f5833ae6032bcef53ee790cf4ffa6448116d63501fea73e"
  },
  "kernelspec": {
   "display_name": "Python 3",
   "language": "python",
   "name": "python3"
  },
  "language_info": {
   "codemirror_mode": {
    "name": "ipython",
    "version": 3
   },
   "file_extension": ".py",
   "mimetype": "text/x-python",
   "name": "python",
   "nbconvert_exporter": "python",
   "pygments_lexer": "ipython3",
   "version": "3.10.12"
  }
 },
 "nbformat": 4,
 "nbformat_minor": 2
}
