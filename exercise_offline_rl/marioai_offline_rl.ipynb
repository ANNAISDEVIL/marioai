{
 "cells": [
  {
   "cell_type": "markdown",
   "metadata": {},
   "source": [
    "# Training an Agent to play Super Mario with Offline Learning\n",
    "---\n",
    "\n",
    "In this exercise you will learn how to use offline learning to train a neural network to play Super Mario.\n",
    "Its performance will then be compared with the results from the Q-Learning exercise. "
   ]
  },
  {
   "cell_type": "markdown",
   "metadata": {
    "pycharm": {
     "name": "#%% md\n"
    }
   },
   "source": [
    "## 0. Setup\n",
    "\n",
    "### Requirements\n",
    " - Java 8 (or later) runtime environment\n",
    " - Python 3.6 (or later)\n",
    " - Microsoft Visual C++ 14.0 (or later)\n",
    "\n",
    "You will be provided with both the .jar and the gym-marioai python package."
   ]
  },
  {
   "cell_type": "markdown",
   "metadata": {},
   "source": [
    "### Installation\n",
    "To setup this exercise we will use Pipenv.\n",
    "If you do not have pipenv installed please do so by running:\n",
    "\n",
    "``pip install --user pipenv``\n",
    "\n",
    "After that please run (if not already done)\n",
    "\n",
    "``pipenv install`` and\n",
    "``pipenv run start``.\n",
    "\n",
    "\n",
    "in the root directory to start the Jupyter notebook containing the exercise.\n",
    "\n",
    "(pipfile set to python version 3.6 by default, can be edited if needed)"
   ]
  },
  {
   "cell_type": "code",
   "execution_count": 1,
   "metadata": {},
   "outputs": [
    {
     "name": "stdout",
     "output_type": "stream",
     "text": [
      "env: PROTOCOL_BUFFERS_PYTHON_IMPLEMENTATION=python\n"
     ]
    }
   ],
   "source": [
    "# Setup the imports. Run this cell again if you encounter any import errors.\n",
    "import copy\n",
    "import numpy as np\n",
    "import pathlib\n",
    "\n",
    "from d3rlpy.algos import DQN\n",
    "import d3rlpy.dataset\n",
    "from d3rlpy.dataset import MDPDataset, ReplayBuffer\n",
    "from d3rlpy.metrics import EnvironmentEvaluator\n",
    "from d3rlpy.ope import FQE\n",
    "# from d3rlpy.metrics.scorer import evaluate_on_environment\n",
    "from sklearn.model_selection import train_test_split\n",
    "\n",
    "from gym_setup import Env\n",
    "from controller import GamepadController, KeyboardController\n",
    "from data.datasets.getDatasets import getDataset\n",
    "import matplotlib.pyplot as plt\n",
    "\n",
    "%load_ext tensorboard\n",
    "%set_env PROTOCOL_BUFFERS_PYTHON_IMPLEMENTATION=python"
   ]
  },
  {
   "cell_type": "markdown",
   "metadata": {},
   "source": [
    "## 1. Generating data\n",
    "First, you will have to generate some data for the neural network to train with.\n",
    "\n",
    "### Level\n",
    "The level we will be using for this exercise will be a very easy one to minimize the training time.\n",
    "\n",
    "However, if you would like to try different levels, we encourage you to do so by changing the ``level`` variable below to a different one from the ``levels`` folder."
   ]
  },
  {
   "cell_type": "code",
   "execution_count": 2,
   "metadata": {},
   "outputs": [],
   "source": [
    "# Setup global variables\n",
    "level = pathlib.Path(\"levels\", \"OneCliffLevel.lvl\").resolve()\n",
    "dataset_path = pathlib.Path(\"data\", \"datasets\", level.stem + \".h5\").resolve()\n",
    "dataset_path_rand = pathlib.Path(\"data\", \"datasets\", level.stem + \".random.h5\").resolve()"
   ]
  },
  {
   "cell_type": "markdown",
   "metadata": {},
   "source": [
    "### 1.1 Player generated data.\n",
    "\n",
    "![Mario](https://media1.giphy.com/media/aX0RqLt2ARSW4/giphy.gif?cid=ecf05e47fnkts3fqh25tj9v8noh9vnccwo4x0ey4zpdxc7ft&rid=giphy.gif&ct=g)\n",
    "\n",
    "\n",
    "To achieve the best possible results, the training algorithm needs the best possible data. In this case that means player generated data.\n",
    "\n",
    "\n",
    "You will have the most fun playing with a USB-Controller but if you have none, you can set the following variable to ``False`` to use the keyboard:"
   ]
  },
  {
   "cell_type": "code",
   "execution_count": 4,
   "metadata": {},
   "outputs": [],
   "source": [
    "# Don't forget to run me\n",
    "USE_GAMEPAD = False"
   ]
  },
  {
   "cell_type": "markdown",
   "metadata": {},
   "source": [
    "### Controls\n",
    "|            \t| Keyboard    \t| Xbox       \t| Playstation \t|\n",
    "|------------\t|-------------\t|------------\t|-------------\t|\n",
    "| Jump       \t| S           \t| A          \t| X           \t|\n",
    "| Sprint     \t| A           \t| B          \t| O           \t|\n",
    "| Move Right \t| Arrow Right \t| Dpad Right \t| Dpad Right  \t|\n",
    "| Move Left  \t| Arrow Left  \t| Dpad Left  \t| Dpad Left   \t|\n",
    "| Duck       \t| Arrow Down  \t| Dpad Down  \t| Dpad Down   \t|"
   ]
  },
  {
   "cell_type": "markdown",
   "metadata": {},
   "source": [
    "To start the game run the next cell. If you think you have enough data just close the game window and move on to the next cell.\n",
    "\n",
    "Note: We have pregenerated some training data for your convenience which will be used in addition to your data to train the model.\n",
    "If you want to train with your own data only, go ahead and delete the data from ``exercise_offline_rl\\data\\datasets``."
   ]
  },
  {
   "cell_type": "code",
   "execution_count": 8,
   "metadata": {},
   "outputs": [
    {
     "name": "stdout",
     "output_type": "stream",
     "text": [
      "Running on port 50320\n",
      "(200, 4)\n",
      "Done\n"
     ]
    }
   ],
   "source": [
    "# Let's play!\n",
    "try:\n",
    "    env_play = Env(visible=True, level=str(level)).env\n",
    "    \n",
    "    if USE_GAMEPAD:\n",
    "        controller = GamepadController(env_play)\n",
    "    else:\n",
    "        controller = KeyboardController(env_play)\n",
    "    while True:\n",
    "        observation,_ = env_play.reset()\n",
    "        \n",
    "        done = False\n",
    "        action = controller.read()\n",
    "\n",
    "        observations = [observation]\n",
    "        \n",
    "        actions = [action]\n",
    "        # No reward at first time step, because no action was taken yet\n",
    "        rewards = [0]\n",
    "        terminals = [done]\n",
    "\n",
    "        while not done:\n",
    "            observation, reward, done, truncated, info = env_play.step(action)\n",
    "            \n",
    "            action = controller.read()\n",
    "\n",
    "            observations.append(observation)\n",
    "            actions.append(action)\n",
    "            rewards.append(reward)\n",
    "            terminals.append(done)\n",
    "\n",
    "        dataset = None\n",
    "        if dataset_path.exists():\n",
    "            # NOTE: is this the correct type of buffer?\n",
    "            # see https://d3rlpy.readthedocs.io/en/latest/references/dataset.html\n",
    "            with dataset_path.open(\"rb\") as dataset_file:\n",
    "                dataset: ReplayBuffer = ReplayBuffer.load(dataset_file, d3rlpy.dataset.InfiniteBuffer())\n",
    "                dataset.append_episode(d3rlpy.dataset.components.Episode(np.asarray(observations), np.asarray(actions)[:,np.newaxis],\n",
    "                               np.asarray(rewards)[:,np.newaxis], done))\n",
    "        else:\n",
    "            dataset = MDPDataset(np.asarray(observations), np.asarray(actions)[:,np.newaxis],\n",
    "                                 np.asarray(rewards)[:,np.newaxis], np.asarray(terminals))\n",
    "        with open(dataset_path, \"w+b\") as f:\n",
    "            dataset.dump(f)\n",
    "        \n",
    "except ConnectionResetError:\n",
    "    print(\"Done\")"
   ]
  },
  {
   "cell_type": "markdown",
   "metadata": {},
   "source": [
    "### 1.2 Randomly generated data (optional)\n",
    "To complement the player generated data, it is possible to also generate some random data for the algorithm to train with."
   ]
  },
  {
   "cell_type": "code",
   "execution_count": 14,
   "metadata": {},
   "outputs": [
    {
     "name": "stdout",
     "output_type": "stream",
     "text": [
      "Running on port 58016\n",
      "(200, 4)\n",
      "Done!\n"
     ]
    }
   ],
   "source": [
    "# Generate random data\n",
    "EPISODES = 10 # <--- increase if you want more random data. More data might slow down the training process.\n",
    "\n",
    "env_rand = Env(visible=False, level=str(level)).env\n",
    "\n",
    "for episode in range(EPISODES):\n",
    "    observation, _ = env_rand.reset()\n",
    "    done = False\n",
    "    action = env_rand.action_space.sample()\n",
    "    \n",
    "    observations = [observation]\n",
    "    actions = [action]\n",
    "    # No reward at first time step, because no action was taken yet\n",
    "    rewards = [0]\n",
    "    terminals = [done]\n",
    "\n",
    "    while not done:\n",
    "        observation, reward, done, truncated, info = env_rand.step(action)\n",
    "        action = env_rand.action_space.sample()\n",
    "\n",
    "        observations.append(observation)\n",
    "        actions.append(action)\n",
    "        rewards.append(reward)\n",
    "        terminals.append(done)\n",
    "\n",
    "    dataset = None\n",
    "    if dataset_path_rand.exists():\n",
    "        # NOTE: is this the correct type of buffer?\n",
    "        # see https://d3rlpy.readthedocs.io/en/latest/references/dataset.html\n",
    "        with dataset_path_rand.open(\"rb\") as dataset_file:\n",
    "            dataset: ReplayBuffer = ReplayBuffer.load(dataset_file, d3rlpy.dataset.InfiniteBuffer())\n",
    "            dataset.append_episode(d3rlpy.dataset.components.Episode(np.asarray(observations), np.asarray(actions)[:,np.newaxis],\n",
    "                           np.asarray(rewards)[:,np.newaxis], done))\n",
    "    else:\n",
    "        dataset = MDPDataset(np.asarray(observations), np.asarray(actions)[:,np.newaxis],\n",
    "                             np.asarray(rewards)[:,np.newaxis], np.asarray(terminals))\n",
    "    dataset.dump(dataset_path_rand)\n",
    "\n",
    "print(\"Done!\")"
   ]
  },
  {
   "cell_type": "markdown",
   "metadata": {},
   "source": [
    "## 2. Use the generated data to train a policy\n",
    "Now that you have generated some data for the neural network to train with, let's begin with the training.\n",
    "For the purpose of this exercise we will use the Offline RL Python library [d3rlpy](https://github.com/takuseno/d3rlpy).\n",
    "\n"
   ]
  },
  {
   "cell_type": "markdown",
   "metadata": {},
   "source": [
    "### 2.1 Choosing an algorithm\n",
    "![DQN](https://raw.githubusercontent.com/koerners/marioai/master/exercise_offline_rl/data/jupyter/dqn.PNG)\n",
    "\n",
    "#### Why we chose DQN\n",
    "The Deep Q-Network approach is known to have been able to achieve human-level control in Atari games, and it is able to learn successful policies directly from high-dimensional sensory inputs (like pixels) using end-to-end reinforcement learning which makes it ideal for our purpose. [[1]](https://www.nature.com/articles/nature14236) \n",
    "\n",
    "It uses data collected from an environment to learn and train without interacting with it.\n",
    "\n",
    "For more information on DQN, please refer to [this paper](https://www.nature.com/articles/nature14236).\n",
    "\n"
   ]
  },
  {
   "cell_type": "markdown",
   "metadata": {},
   "source": [
    "### 2.2 Setup the training\n",
    "First we set the training parameters.\n",
    "Most of these are fairly optimized but feel free to experiment."
   ]
  },
  {
   "cell_type": "code",
   "execution_count": 17,
   "metadata": {},
   "outputs": [],
   "source": [
    "# Training parameters\n",
    "n_epochs = 10 # <--- change here if you want to train more / less\n",
    "n_steps_per_epoch = 1000\n",
    "test_size = 0.1 # percentage of episodes not used for training\n",
    "\n",
    "# DQN parameters\n",
    "learning_rate = 0.0003 # to what extent the agent overrides old information with new information\n",
    "gamma = 0.99 # discount factor, how important future rewards are\n",
    "target_update_interval = 3000 # interval of steps that the agent uses to update target network\n",
    "batch_size = 2 # size of training examples utilized in one iteration\n",
    "use_gpu = False # usage of gpu to train"
   ]
  },
  {
   "cell_type": "markdown",
   "metadata": {},
   "source": [
    "### 2.3 Training time!\n",
    "\n",
    "If you want to track the training with tensorboard, run the following cell."
   ]
  },
  {
   "cell_type": "code",
   "execution_count": 10,
   "metadata": {},
   "outputs": [
    {
     "data": {
      "text/plain": [
       "Launching TensorBoard..."
      ]
     },
     "metadata": {},
     "output_type": "display_data"
    },
    {
     "data": {
      "text/html": [
       "\n",
       "      <iframe id=\"tensorboard-frame-d6e771731b3507f3\" width=\"100%\" height=\"800\" frameborder=\"0\">\n",
       "      </iframe>\n",
       "      <script>\n",
       "        (function() {\n",
       "          const frame = document.getElementById(\"tensorboard-frame-d6e771731b3507f3\");\n",
       "          const url = new URL(\"http://localhost\");\n",
       "          const port = 6006;\n",
       "          if (port) {\n",
       "            url.port = port;\n",
       "          }\n",
       "          frame.src = url;\n",
       "        })();\n",
       "      </script>\n",
       "    "
      ],
      "text/plain": [
       "<IPython.core.display.HTML object>"
      ]
     },
     "metadata": {},
     "output_type": "display_data"
    }
   ],
   "source": [
    "# Start tensorboard \n",
    "%tensorboard --logdir runs"
   ]
  },
  {
   "cell_type": "markdown",
   "metadata": {},
   "source": [
    "To start the training run the next cell: "
   ]
  },
  {
   "cell_type": "code",
   "execution_count": 5,
   "metadata": {},
   "outputs": [
    {
     "name": "stdout",
     "output_type": "stream",
     "text": [
      "D:\\marioai\\exercise_offline_rl\\data\\datasets\\OneCliffLevel.h5\n",
      "D:\\marioai\\exercise_offline_rl\\data\\datasets\\RoughTerrainLevel.h5\n",
      "155\n",
      "(800,)\n",
      "Running on port 59662\n"
     ]
    },
    {
     "name": "stderr",
     "output_type": "stream",
     "text": [
      "d:\\marioai\\marioenv\\lib\\site-packages\\gym\\envs\\registration.py:555: UserWarning: WARN: The environment Marioai-v0 is out of date. You should consider upgrading to version `v2`.\n",
      "  logger.warn(\n"
     ]
    },
    {
     "name": "stdout",
     "output_type": "stream",
     "text": [
      "(200, 4)\n",
      "observation_shape:  (800,)\n",
      "dataset_info.action_size:  13\n",
      "2023-08-23 23:38:23 [info     ] dataset info                   dataset_info=DatasetInfo(observation_signature=Signature(dtype=[dtype('int8')], shape=[(800,)]), action_signature=Signature(dtype=[dtype('int32')], shape=[(1,)]), reward_signature=Signature(dtype=[dtype('int32')], shape=[(1,)]), action_space=<ActionSpace.DISCRETE: 2>, action_size=13)\n",
      "2023-08-23 23:38:23 [info     ] Directory is created at d3rlpy_logs\\DQN_20230823233823\n",
      "2023-08-23 23:38:23 [warning  ] Skip building models since they're already built.\n",
      "2023-08-23 23:38:23 [info     ] Parameters                     params={'observation_shape': [800], 'action_size': 13, 'config': {'type': 'dqn', 'params': {'batch_size': 2, 'gamma': 0.99, 'observation_scaler': {'type': 'none', 'params': {}}, 'action_scaler': {'type': 'none', 'params': {}}, 'reward_scaler': {'type': 'none', 'params': {}}, 'learning_rate': 0.0003, 'optim_factory': {'type': 'adam', 'params': {'betas': [0.9, 0.999], 'eps': 1e-08, 'weight_decay': 0, 'amsgrad': False}}, 'encoder_factory': {'type': 'default', 'params': {'activation': 'relu', 'use_batch_norm': False, 'dropout_rate': None}}, 'q_func_factory': {'type': 'mean', 'params': {'share_encoder': False}}, 'n_critics': 1, 'target_update_interval': 3000}}}\n"
     ]
    },
    {
     "name": "stderr",
     "output_type": "stream",
     "text": [
      "d:\\marioai\\marioenv\\lib\\site-packages\\gym\\utils\\passive_env_checker.py:187: UserWarning: WARN: Future gym versions will require that `Env.reset` can be passed `options` to allow the environment initialisation to be passed additional information.\n",
      "  logger.warn(\n",
      "d:\\marioai\\marioenv\\lib\\site-packages\\gym\\utils\\passive_env_checker.py:165: UserWarning: WARN: The obs returned by the `reset()` method is not within the observation space.\n",
      "  logger.warn(f\"{pre} is not within the observation space.\")\n",
      "d:\\marioai\\marioenv\\lib\\site-packages\\gym\\utils\\passive_env_checker.py:233: DeprecationWarning: `np.bool8` is a deprecated alias for `np.bool_`.  (Deprecated NumPy 1.24)\n",
      "  if not isinstance(terminated, (bool, np.bool8)):\n",
      "d:\\marioai\\marioenv\\lib\\site-packages\\gym\\utils\\passive_env_checker.py:165: UserWarning: WARN: The obs returned by the `step()` method is not within the observation space.\n",
      "  logger.warn(f\"{pre} is not within the observation space.\")\n"
     ]
    },
    {
     "name": "stdout",
     "output_type": "stream",
     "text": [
      "2023-08-23 23:38:29 [info     ] DQN_20230823233823: epoch=1 step=1000 epoch=1 metrics={'time_sample_batch': 0.0002329986095428467, 'time_algorithm_update': 0.005256407499313355, 'loss': 1.1607204995023204, 'time_step': 0.00553724217414856, 'td_error': 235.89865483331454, 'value_scale': 0.9956269038195864, 'environment': 34.0} step=1000\n",
      "2023-08-23 23:38:29 [info     ] Model parameters are saved to d3rlpy_logs\\DQN_20230823233823\\model_1000.d3\n",
      "2023-08-23 23:38:36 [info     ] DQN_20230823233823: epoch=2 step=2000 epoch=2 metrics={'time_sample_batch': 0.00022431612014770508, 'time_algorithm_update': 0.005786659240722657, 'loss': 1.0110202380386764, 'time_step': 0.0060577945709228516, 'td_error': 235.69688544187534, 'value_scale': 0.9502424138636024, 'environment': 25.0} step=2000\n",
      "2023-08-23 23:38:36 [info     ] Model parameters are saved to d3rlpy_logs\\DQN_20230823233823\\model_2000.d3\n",
      "2023-08-23 23:38:43 [info     ] DQN_20230823233823: epoch=3 step=3000 epoch=3 metrics={'time_sample_batch': 0.00021332526206970214, 'time_algorithm_update': 0.005597147703170776, 'loss': 1.1857036852462917, 'time_step': 0.005846371650695801, 'td_error': 234.83048945833684, 'value_scale': 0.9882869341869174, 'environment': 25.0} step=3000\n",
      "2023-08-23 23:38:43 [info     ] Model parameters are saved to d3rlpy_logs\\DQN_20230823233823\\model_3000.d3\n",
      "2023-08-23 23:38:50 [info     ] DQN_20230823233823: epoch=4 step=4000 epoch=4 metrics={'time_sample_batch': 0.0002243173122406006, 'time_algorithm_update': 0.005797609806060791, 'loss': 1.1255074168809225, 'time_step': 0.006058793544769287, 'td_error': 231.6516844880616, 'value_scale': 1.9005032166013125, 'environment': 25.0} step=4000\n",
      "2023-08-23 23:38:50 [info     ] Model parameters are saved to d3rlpy_logs\\DQN_20230823233823\\model_4000.d3\n",
      "2023-08-23 23:38:58 [info     ] DQN_20230823233823: epoch=5 step=5000 epoch=5 metrics={'time_sample_batch': 0.0002393808364868164, 'time_algorithm_update': 0.006109627723693847, 'loss': 1.4266512866442644, 'time_step': 0.006400877475738525, 'td_error': 230.46086166496372, 'value_scale': 1.904485914498296, 'environment': 25.0} step=5000\n",
      "2023-08-23 23:38:58 [info     ] Model parameters are saved to d3rlpy_logs\\DQN_20230823233823\\model_5000.d3\n",
      "2023-08-23 23:39:05 [info     ] DQN_20230823233823: epoch=6 step=6000 epoch=6 metrics={'time_sample_batch': 0.00023720479011535644, 'time_algorithm_update': 0.006485786437988281, 'loss': 0.8887119396229973, 'time_step': 0.006762899875640869, 'td_error': 231.87010597443862, 'value_scale': 1.7300220564906426, 'environment': 25.0} step=6000\n",
      "2023-08-23 23:39:05 [info     ] Model parameters are saved to d3rlpy_logs\\DQN_20230823233823\\model_6000.d3\n",
      "2023-08-23 23:39:13 [info     ] DQN_20230823233823: epoch=7 step=7000 epoch=7 metrics={'time_sample_batch': 0.00025815629959106447, 'time_algorithm_update': 0.006086958885192871, 'loss': 1.2475575576075644, 'time_step': 0.006389918565750122, 'td_error': 231.91878907305676, 'value_scale': 1.6696710418622422, 'environment': 25.0} step=7000\n",
      "2023-08-23 23:39:13 [info     ] Model parameters are saved to d3rlpy_logs\\DQN_20230823233823\\model_7000.d3\n",
      "2023-08-23 23:39:20 [info     ] DQN_20230823233823: epoch=8 step=8000 epoch=8 metrics={'time_sample_batch': 0.00024726343154907226, 'time_algorithm_update': 0.006301242828369141, 'loss': 1.05042793960165, 'time_step': 0.0065953762531280515, 'td_error': 231.91416327444736, 'value_scale': 1.7922697029015124, 'environment': 25.0} step=8000\n",
      "2023-08-23 23:39:20 [info     ] Model parameters are saved to d3rlpy_logs\\DQN_20230823233823\\model_8000.d3\n",
      "2023-08-23 23:39:28 [info     ] DQN_20230823233823: epoch=9 step=9000 epoch=9 metrics={'time_sample_batch': 0.00023632955551147462, 'time_algorithm_update': 0.00606884241104126, 'loss': 1.2784700874897534, 'time_step': 0.006342060804367065, 'td_error': 232.57469207843906, 'value_scale': 1.5721079384330738, 'environment': 26.0} step=9000\n",
      "2023-08-23 23:39:28 [info     ] Model parameters are saved to d3rlpy_logs\\DQN_20230823233823\\model_9000.d3\n",
      "2023-08-23 23:39:35 [info     ] DQN_20230823233823: epoch=10 step=10000 epoch=10 metrics={'time_sample_batch': 0.00023728084564208983, 'time_algorithm_update': 0.006364036560058594, 'loss': 1.4094410762762637, 'time_step': 0.006644221067428589, 'td_error': 231.00268502171733, 'value_scale': 2.0650450250638066, 'environment': 35.0} step=10000\n",
      "2023-08-23 23:39:35 [info     ] Model parameters are saved to d3rlpy_logs\\DQN_20230823233823\\model_10000.d3\n"
     ]
    }
   ],
   "source": [
    "dataset =getDataset()\n",
    "# train_episodes, test_episodes = train_test_split(dataset.episodes, test_size=test_size)\n",
    "print(len(dataset.episodes))\n",
    "\n",
    "print(dataset.episodes[0].observations[0].shape)\n",
    "\n",
    "dqn = d3rlpy.algos.DQNConfig(learning_rate=learning_rate, gamma=gamma,\n",
    "          target_update_interval=target_update_interval,\n",
    "          batch_size=batch_size).create()\n",
    "test_episodes = dataset.episodes[:30]\n",
    "\n",
    "# set environment in scorer function\n",
    "env_train = Env(visible=False, level=str(level)).env\n",
    "dqn.build_with_dataset(dataset)\n",
    "env_evaluator  = EnvironmentEvaluator(env_train)\n",
    "\n",
    "# evaluate algorithm on the environment\n",
    "name = 'DQN_marioai_%s_%s_%s_%s_%s' % (level.stem, gamma, learning_rate, target_update_interval, n_epochs)\n",
    "model_file = pathlib.Path(\"data\", \"models\", name + \".pt\")\n",
    "currentMax = -100000\n",
    "dqn_max = copy.deepcopy(dqn)\n",
    "\n",
    "fitter = dqn.fitter(\n",
    "   dataset,\n",
    "   n_steps = n_steps_per_epoch * n_epochs,\n",
    "   n_steps_per_epoch=n_steps_per_epoch,\n",
    "  evaluators={'td_error': d3rlpy.metrics.TDErrorEvaluator(test_episodes),\n",
    "              'value_scale': d3rlpy.metrics.AverageValueEstimationEvaluator(test_episodes),\n",
    "              'environment': env_evaluator },\n",
    "  show_progress = False\n",
    ")\n",
    "dataset.trajectory_slicer\n",
    "for epoch, metrics in fitter:\n",
    "    if metrics.get(\"environment\") > currentMax:\n",
    "        currentMax = metrics.get(\"environment\")\n",
    "        dqn_max.copy_q_function_from(dqn)\n",
    "    else:\n",
    "        dqn.copy_q_function_from(dqn_max)\n",
    "    dqn.save_model(model_file)\n",
    "    if currentMax > 100:\n",
    "        # For the purpose of the exercise the training will stop if the agent manages to complete the level\n",
    "        print(\"A suitable model has been found.\")\n",
    "        break"
   ]
  },
  {
   "cell_type": "code",
   "execution_count": 17,
   "metadata": {},
   "outputs": [
    {
     "name": "stdout",
     "output_type": "stream",
     "text": [
      "D:\\marioai\\exercise_offline_rl\\data\\datasets\\OneCliffLevel.h5\n",
      "D:\\marioai\\exercise_offline_rl\\data\\datasets\\RoughTerrainLevel.h5\n",
      "155\n",
      "Running on port 63928\n",
      "(200, 4)\n",
      "observation_shape:  (800,)\n",
      "dataset_info.action_size:  13\n",
      "2023-08-23 23:24:26 [info     ] dataset info                   dataset_info=DatasetInfo(observation_signature=Signature(dtype=[dtype('int8')], shape=[(800,)]), action_signature=Signature(dtype=[dtype('int32')], shape=[(1,)]), reward_signature=Signature(dtype=[dtype('int32')], shape=[(1,)]), action_space=<ActionSpace.DISCRETE: 2>, action_size=13)\n",
      "2023-08-23 23:24:26 [info     ] Directory is created at d3rlpy_logs\\DoubleDQN_20230823232426\n",
      "2023-08-23 23:24:26 [warning  ] Skip building models since they're already built.\n",
      "2023-08-23 23:24:26 [info     ] Parameters                     params={'observation_shape': [800], 'action_size': 13, 'config': {'type': 'double_dqn', 'params': {'batch_size': 2, 'gamma': 0.99, 'observation_scaler': {'type': 'none', 'params': {}}, 'action_scaler': {'type': 'none', 'params': {}}, 'reward_scaler': {'type': 'none', 'params': {}}, 'learning_rate': 0.0003, 'optim_factory': {'type': 'adam', 'params': {'betas': [0.9, 0.999], 'eps': 1e-08, 'weight_decay': 0, 'amsgrad': False}}, 'encoder_factory': {'type': 'default', 'params': {'activation': 'relu', 'use_batch_norm': False, 'dropout_rate': None}}, 'q_func_factory': {'type': 'mean', 'params': {'share_encoder': False}}, 'n_critics': 1, 'target_update_interval': 3000}}}\n",
      "2023-08-23 23:24:33 [info     ] DoubleDQN_20230823232426: epoch=1 step=1000 epoch=1 metrics={'time_sample_batch': 0.00023908233642578125, 'time_algorithm_update': 0.005172510385513305, 'loss': 0.849538128888229, 'time_step': 0.005457415342330933, 'td_error': 236.56171731579494, 'value_scale': 0.8836000644893165, 'environment': 25.0} step=1000\n",
      "2023-08-23 23:24:33 [info     ] Model parameters are saved to d3rlpy_logs\\DoubleDQN_20230823232426\\model_1000.d3\n",
      "2023-08-23 23:24:41 [info     ] DoubleDQN_20230823232426: epoch=2 step=2000 epoch=2 metrics={'time_sample_batch': 0.00023019003868103027, 'time_algorithm_update': 0.006097906827926635, 'loss': 1.326975066215091, 'time_step': 0.006367962121963501, 'td_error': 234.89055298973906, 'value_scale': 1.0572948117242789, 'environment': 25.0} step=2000\n",
      "2023-08-23 23:24:41 [info     ] Model parameters are saved to d3rlpy_logs\\DoubleDQN_20230823232426\\model_2000.d3\n",
      "2023-08-23 23:24:49 [info     ] DoubleDQN_20230823232426: epoch=3 step=3000 epoch=3 metrics={'time_sample_batch': 0.00027313256263732913, 'time_algorithm_update': 0.007206838607788086, 'loss': 1.1722009426465083, 'time_step': 0.007545770406723023, 'td_error': 236.47544792893336, 'value_scale': 0.9313845410720977, 'environment': 34.0} step=3000\n",
      "2023-08-23 23:24:49 [info     ] Model parameters are saved to d3rlpy_logs\\DoubleDQN_20230823232426\\model_3000.d3\n",
      "2023-08-23 23:24:58 [info     ] DoubleDQN_20230823232426: epoch=4 step=4000 epoch=4 metrics={'time_sample_batch': 0.0002621510028839111, 'time_algorithm_update': 0.006860749006271362, 'loss': 0.9589853027533681, 'time_step': 0.007169765472412109, 'td_error': 233.04764398244416, 'value_scale': 1.9028132880723096, 'environment': 25.0} step=4000\n",
      "2023-08-23 23:24:58 [info     ] Model parameters are saved to d3rlpy_logs\\DoubleDQN_20230823232426\\model_4000.d3\n",
      "2023-08-23 23:25:09 [info     ] DoubleDQN_20230823232426: epoch=5 step=5000 epoch=5 metrics={'time_sample_batch': 0.00029819011688232423, 'time_algorithm_update': 0.009271232128143311, 'loss': 1.1008861686769889, 'time_step': 0.009619227170944215, 'td_error': 233.61993671021543, 'value_scale': 1.6630505436866807, 'environment': 25.0} step=5000\n",
      "2023-08-23 23:25:09 [info     ] Model parameters are saved to d3rlpy_logs\\DoubleDQN_20230823232426\\model_5000.d3\n",
      "2023-08-23 23:25:18 [info     ] DoubleDQN_20230823232426: epoch=6 step=6000 epoch=6 metrics={'time_sample_batch': 0.00031395649909973143, 'time_algorithm_update': 0.007184096336364746, 'loss': 1.2569048246649035, 'time_step': 0.007541936635971069, 'td_error': 233.81927126437213, 'value_scale': 1.3650928513051583, 'environment': 25.0} step=6000\n",
      "2023-08-23 23:25:18 [info     ] Model parameters are saved to d3rlpy_logs\\DoubleDQN_20230823232426\\model_6000.d3\n",
      "2023-08-23 23:25:26 [info     ] DoubleDQN_20230823232426: epoch=7 step=7000 epoch=7 metrics={'time_sample_batch': 0.0002583341598510742, 'time_algorithm_update': 0.006951366186141968, 'loss': 1.0311756782882149, 'time_step': 0.007251584768295288, 'td_error': 233.4485504574021, 'value_scale': 1.3300297550000197, 'environment': 25.0} step=7000\n",
      "2023-08-23 23:25:26 [info     ] Model parameters are saved to d3rlpy_logs\\DoubleDQN_20230823232426\\model_7000.d3\n",
      "2023-08-23 23:25:35 [info     ] DoubleDQN_20230823232426: epoch=8 step=8000 epoch=8 metrics={'time_sample_batch': 0.0002970435619354248, 'time_algorithm_update': 0.008027636766433716, 'loss': 1.1682485206822675, 'time_step': 0.008368590354919433, 'td_error': 232.53452909120813, 'value_scale': 1.933997211678719, 'environment': 25.0} step=8000\n",
      "2023-08-23 23:25:35 [info     ] Model parameters are saved to d3rlpy_logs\\DoubleDQN_20230823232426\\model_8000.d3\n",
      "2023-08-23 23:25:44 [info     ] DoubleDQN_20230823232426: epoch=9 step=9000 epoch=9 metrics={'time_sample_batch': 0.0002702417373657227, 'time_algorithm_update': 0.007571815729141235, 'loss': 0.8791237880227293, 'time_step': 0.00788489842414856, 'td_error': 235.54860122516658, 'value_scale': 1.4693123804167603, 'environment': 244.0} step=9000\n",
      "2023-08-23 23:25:44 [info     ] Model parameters are saved to d3rlpy_logs\\DoubleDQN_20230823232426\\model_9000.d3\n",
      "A suitable model has been found.\n"
     ]
    }
   ],
   "source": [
    "dataset =getDataset() \n",
    "print(len(dataset.episodes))\n",
    "\n",
    "ddqn = d3rlpy.algos.DoubleDQNConfig(learning_rate=learning_rate, gamma=gamma,\n",
    "          target_update_interval=target_update_interval,\n",
    "          batch_size=batch_size).create()\n",
    "test_episodes = dataset.episodes[:30]\n",
    "# set environment in scorer function\n",
    "env_train = Env(visible=False, level=str(level)).env\n",
    "ddqn.build_with_dataset(dataset)\n",
    "env_evaluator  = EnvironmentEvaluator(env_train)\n",
    "\n",
    "# evaluate algorithm on the environment\n",
    "\n",
    "name = 'DDQN_marioai_%s_%s_%s_%s_%s' % (level.stem, gamma, learning_rate, target_update_interval, n_epochs)\n",
    "model_file = pathlib.Path(\"data\", \"models\", name + \".pt\")\n",
    "currentMax = -100000\n",
    "ddqn_max = copy.deepcopy(ddqn)\n",
    "\n",
    "fitter = ddqn.fitter(\n",
    "   dataset,\n",
    "   n_steps = n_steps_per_epoch * n_epochs,\n",
    "   n_steps_per_epoch=n_steps_per_epoch,\n",
    "  evaluators={'td_error': d3rlpy.metrics.TDErrorEvaluator(test_episodes),\n",
    "              'value_scale': d3rlpy.metrics.AverageValueEstimationEvaluator(test_episodes),\n",
    "              'environment': env_evaluator },\n",
    "  show_progress = False\n",
    ")\n",
    "\n",
    "for epoch, metrics in fitter:\n",
    "    if metrics.get(\"environment\") > currentMax:\n",
    "        currentMax = metrics.get(\"environment\")\n",
    "        ddqn_max.copy_q_function_from(ddqn)\n",
    "    else:\n",
    "        ddqn.copy_q_function_from(ddqn_max)\n",
    "    ddqn.save_model(model_file)\n",
    "    if currentMax > 100:\n",
    "        # For the purpose of the exercise the training will stop if the agent manages to complete the level\n",
    "        print(\"A suitable model has been found.\")\n",
    "        break"
   ]
  },
  {
   "cell_type": "code",
   "execution_count": 11,
   "metadata": {},
   "outputs": [
    {
     "name": "stdout",
     "output_type": "stream",
     "text": [
      "D:\\marioai\\exercise_offline_rl\\data\\datasets\\OneCliffLevel.h5\n",
      "D:\\marioai\\exercise_offline_rl\\data\\datasets\\RoughTerrainLevel.h5\n",
      "155\n",
      "Running on port 63868\n"
     ]
    },
    {
     "name": "stderr",
     "output_type": "stream",
     "text": [
      "d:\\marioai\\marioenv\\lib\\site-packages\\gym\\envs\\registration.py:555: UserWarning: WARN: The environment Marioai-v0 is out of date. You should consider upgrading to version `v2`.\n",
      "  logger.warn(\n"
     ]
    },
    {
     "name": "stdout",
     "output_type": "stream",
     "text": [
      "(200, 4)\n",
      "observation_shape:  (800,)\n",
      "dataset_info.action_size:  13\n",
      "2023-08-23 23:08:28 [info     ] dataset info                   dataset_info=DatasetInfo(observation_signature=Signature(dtype=[dtype('int8')], shape=[(800,)]), action_signature=Signature(dtype=[dtype('int32')], shape=[(1,)]), reward_signature=Signature(dtype=[dtype('int32')], shape=[(1,)]), action_space=<ActionSpace.DISCRETE: 2>, action_size=13)\n",
      "2023-08-23 23:08:28 [info     ] Directory is created at d3rlpy_logs\\DiscreteSAC_20230823230828\n",
      "2023-08-23 23:08:28 [warning  ] Skip building models since they're already built.\n",
      "2023-08-23 23:08:28 [info     ] Parameters                     params={'observation_shape': [800], 'action_size': 13, 'config': {'type': 'discrete_sac', 'params': {'batch_size': 2, 'gamma': 0.99, 'observation_scaler': {'type': 'none', 'params': {}}, 'action_scaler': {'type': 'none', 'params': {}}, 'reward_scaler': {'type': 'none', 'params': {}}, 'actor_learning_rate': 0.0003, 'critic_learning_rate': 0.0003, 'temp_learning_rate': 0.0003, 'actor_optim_factory': {'type': 'adam', 'params': {'betas': [0.9, 0.999], 'eps': 1e-08, 'weight_decay': 0, 'amsgrad': False}}, 'critic_optim_factory': {'type': 'adam', 'params': {'betas': [0.9, 0.999], 'eps': 1e-08, 'weight_decay': 0, 'amsgrad': False}}, 'temp_optim_factory': {'type': 'adam', 'params': {'betas': [0.9, 0.999], 'eps': 1e-08, 'weight_decay': 0, 'amsgrad': False}}, 'actor_encoder_factory': {'type': 'default', 'params': {'activation': 'relu', 'use_batch_norm': False, 'dropout_rate': None}}, 'critic_encoder_factory': {'type': 'default', 'params': {'activation': 'relu', 'use_batch_norm': False, 'dropout_rate': None}}, 'q_func_factory': {'type': 'mean', 'params': {'share_encoder': False}}, 'n_critics': 2, 'initial_temperature': 1.0, 'target_update_interval': 8000}}}\n"
     ]
    },
    {
     "name": "stderr",
     "output_type": "stream",
     "text": [
      "d:\\marioai\\marioenv\\lib\\site-packages\\gym\\utils\\passive_env_checker.py:187: UserWarning: WARN: Future gym versions will require that `Env.reset` can be passed `options` to allow the environment initialisation to be passed additional information.\n",
      "  logger.warn(\n",
      "d:\\marioai\\marioenv\\lib\\site-packages\\gym\\utils\\passive_env_checker.py:165: UserWarning: WARN: The obs returned by the `reset()` method is not within the observation space.\n",
      "  logger.warn(f\"{pre} is not within the observation space.\")\n",
      "d:\\marioai\\marioenv\\lib\\site-packages\\gym\\utils\\passive_env_checker.py:233: DeprecationWarning: `np.bool8` is a deprecated alias for `np.bool_`.  (Deprecated NumPy 1.24)\n",
      "  if not isinstance(terminated, (bool, np.bool8)):\n",
      "d:\\marioai\\marioenv\\lib\\site-packages\\gym\\utils\\passive_env_checker.py:165: UserWarning: WARN: The obs returned by the `step()` method is not within the observation space.\n",
      "  logger.warn(f\"{pre} is not within the observation space.\")\n"
     ]
    },
    {
     "name": "stdout",
     "output_type": "stream",
     "text": [
      "2023-08-23 23:08:49 [info     ] DiscreteSAC_20230823230828: epoch=1 step=1000 epoch=1 metrics={'time_sample_batch': 0.00023035931587219238, 'time_algorithm_update': 0.017859713077545167, 'temp_loss': -0.4172595193741145, 'temp': 1.1571823619008064, 'critic_loss': 1.806363083358854, 'actor_loss': -4.343699208974838, 'time_step': 0.018263566732406616, 'td_error': 229.5247296282075, 'value_scale': 3.4901832975812916, 'environment': 22.0} step=1000\n",
      "2023-08-23 23:08:49 [info     ] Model parameters are saved to d3rlpy_logs\\DiscreteSAC_20230823230828\\model_1000.d3\n",
      "2023-08-23 23:09:14 [info     ] DiscreteSAC_20230823230828: epoch=2 step=2000 epoch=2 metrics={'time_sample_batch': 0.0003001844882965088, 'time_algorithm_update': 0.02316703462600708, 'temp_loss': -0.502251992970705, 'temp': 1.5830216152668, 'critic_loss': 2.9847922175053974, 'actor_loss': -6.41104671382904, 'time_step': 0.02355796766281128, 'td_error': 221.46379477997127, 'value_scale': 4.874728930949496, 'environment': 23.0} step=2000\n",
      "2023-08-23 23:09:15 [info     ] Model parameters are saved to d3rlpy_logs\\DiscreteSAC_20230823230828\\model_2000.d3\n",
      "2023-08-23 23:09:40 [info     ] DiscreteSAC_20230823230828: epoch=3 step=3000 epoch=3 metrics={'time_sample_batch': 0.0002822771072387695, 'time_algorithm_update': 0.02261343765258789, 'temp_loss': -0.6479915948808194, 'temp': 2.185925463914871, 'critic_loss': 2.4462662104964257, 'actor_loss': -8.969921813011169, 'time_step': 0.02298149514198303, 'td_error': 216.88771968646344, 'value_scale': 6.23796473144649, 'environment': 32.0} step=3000\n",
      "2023-08-23 23:09:40 [info     ] Model parameters are saved to d3rlpy_logs\\DiscreteSAC_20230823230828\\model_3000.d3\n",
      "2023-08-23 23:10:14 [info     ] DiscreteSAC_20230823230828: epoch=4 step=4000 epoch=4 metrics={'time_sample_batch': 0.00021838092803955079, 'time_algorithm_update': 0.02298940086364746, 'temp_loss': -0.8284192470908165, 'temp': 3.1110745511054994, 'critic_loss': 2.5474183409707623, 'actor_loss': -13.082181747436524, 'time_step': 0.02329868984222412, 'td_error': 212.07276103699493, 'value_scale': 9.1307598054827, 'environment': -500.0} step=4000\n",
      "2023-08-23 23:10:14 [info     ] Model parameters are saved to d3rlpy_logs\\DiscreteSAC_20230823230828\\model_4000.d3\n",
      "2023-08-23 23:10:47 [info     ] DiscreteSAC_20230823230828: epoch=5 step=5000 epoch=5 metrics={'time_sample_batch': 0.00026323485374450683, 'time_algorithm_update': 0.023598902463912965, 'temp_loss': -1.2130738466084003, 'temp': 4.518878204584122, 'critic_loss': 2.301695292995777, 'actor_loss': -18.807968168258668, 'time_step': 0.023935939788818358, 'td_error': 200.3507532654896, 'value_scale': 12.649243244114965, 'environment': -499.0} step=5000\n",
      "2023-08-23 23:10:47 [info     ] Model parameters are saved to d3rlpy_logs\\DiscreteSAC_20230823230828\\model_5000.d3\n",
      "2023-08-23 23:11:14 [info     ] DiscreteSAC_20230823230828: epoch=6 step=6000 epoch=6 metrics={'time_sample_batch': 0.000270216703414917, 'time_algorithm_update': 0.024531445741653442, 'temp_loss': -1.7724572121798992, 'temp': 6.651983916759491, 'critic_loss': 3.0296210570754485, 'actor_loss': -27.47032752418518, 'time_step': 0.024886398553848266, 'td_error': 183.45994630885426, 'value_scale': 18.53081610828095, 'environment': 33.0} step=6000\n",
      "2023-08-23 23:11:14 [info     ] Model parameters are saved to d3rlpy_logs\\DiscreteSAC_20230823230828\\model_6000.d3\n",
      "2023-08-23 23:11:41 [info     ] DiscreteSAC_20230823230828: epoch=7 step=7000 epoch=7 metrics={'time_sample_batch': 0.0002833104133605957, 'time_algorithm_update': 0.02555148959159851, 'temp_loss': -2.5656037197113037, 'temp': 9.846387756347657, 'critic_loss': 3.234789032716304, 'actor_loss': -41.83112027359009, 'time_step': 0.025903674125671388, 'td_error': 153.69093452887043, 'value_scale': 27.884464436460178, 'environment': 242.0} step=7000\n",
      "2023-08-23 23:11:41 [info     ] Model parameters are saved to d3rlpy_logs\\DiscreteSAC_20230823230828\\model_7000.d3\n",
      "A suitable model has been found.\n"
     ]
    }
   ],
   "source": [
    "dataset =getDataset()\n",
    "print(len(dataset.episodes))\n",
    "\n",
    "sac = d3rlpy.algos.DiscreteSACConfig( actor_learning_rate=0.0003, \n",
    "                                     critic_learning_rate=0.0003,\n",
    "                                     temp_learning_rate = 0.0003,\n",
    "                                     gamma=gamma,\n",
    "          batch_size=batch_size).create()\n",
    "test_episodes = dataset.episodes[:30]\n",
    "\n",
    "# set environment in scorer function\n",
    "env_train = Env(visible=False, level=str(level)).env\n",
    "sac.build_with_dataset(dataset)\n",
    "env_evaluator  = EnvironmentEvaluator(env_train)\n",
    "\n",
    "# evaluate algorithm on the environment\n",
    "name = 'SAC_marioai_%s_%s_%s_%s_%s' % (level.stem, gamma, learning_rate, target_update_interval, n_epochs)\n",
    "model_file = pathlib.Path(\"data\", \"models\", name + \".pt\")\n",
    "currentMax = -100000\n",
    "sac_max = copy.deepcopy(sac)\n",
    "\n",
    "fitter = sac.fitter(\n",
    "   dataset,\n",
    "   n_steps = n_steps_per_epoch * n_epochs,\n",
    "   n_steps_per_epoch=n_steps_per_epoch,\n",
    "  evaluators={'td_error': d3rlpy.metrics.TDErrorEvaluator(test_episodes),\n",
    "              'value_scale': d3rlpy.metrics.AverageValueEstimationEvaluator(test_episodes),\n",
    "              'environment': env_evaluator },\n",
    "  show_progress = False\n",
    ")\n",
    "dataset.trajectory_slicer\n",
    "for epoch, metrics in fitter:\n",
    "    if metrics.get(\"environment\") > currentMax:\n",
    "        currentMax = metrics.get(\"environment\")\n",
    "        sac_max.copy_q_function_from(sac)\n",
    "    else:\n",
    "        sac.copy_q_function_from(sac_max)\n",
    "    sac.save_model(model_file)\n",
    "    if currentMax > 100:\n",
    "        # For the purpose of the exercise the training will stop if the agent manages to complete the level\n",
    "        print(\"A suitable model has been found.\")\n",
    "        break"
   ]
  },
  {
   "cell_type": "code",
   "execution_count": 12,
   "metadata": {},
   "outputs": [
    {
     "name": "stdout",
     "output_type": "stream",
     "text": [
      "D:\\marioai\\exercise_offline_rl\\data\\datasets\\OneCliffLevel.h5\n",
      "D:\\marioai\\exercise_offline_rl\\data\\datasets\\RoughTerrainLevel.h5\n",
      "155\n",
      "Running on port 63883\n",
      "(200, 4)\n",
      "observation_shape:  (800,)\n",
      "dataset_info.action_size:  13\n",
      "2023-08-23 23:12:37 [info     ] dataset info                   dataset_info=DatasetInfo(observation_signature=Signature(dtype=[dtype('int8')], shape=[(800,)]), action_signature=Signature(dtype=[dtype('int32')], shape=[(1,)]), reward_signature=Signature(dtype=[dtype('int32')], shape=[(1,)]), action_space=<ActionSpace.DISCRETE: 2>, action_size=13)\n",
      "2023-08-23 23:12:37 [info     ] Directory is created at d3rlpy_logs\\DiscreteBCQ_20230823231237\n",
      "2023-08-23 23:12:37 [warning  ] Skip building models since they're already built.\n",
      "2023-08-23 23:12:37 [info     ] Parameters                     params={'observation_shape': [800], 'action_size': 13, 'config': {'type': 'discrete_bcq', 'params': {'batch_size': 2, 'gamma': 0.99, 'observation_scaler': {'type': 'none', 'params': {}}, 'action_scaler': {'type': 'none', 'params': {}}, 'reward_scaler': {'type': 'none', 'params': {}}, 'learning_rate': 0.0003, 'optim_factory': {'type': 'adam', 'params': {'betas': [0.9, 0.999], 'eps': 1e-08, 'weight_decay': 0, 'amsgrad': False}}, 'encoder_factory': {'type': 'default', 'params': {'activation': 'relu', 'use_batch_norm': False, 'dropout_rate': None}}, 'q_func_factory': {'type': 'mean', 'params': {'share_encoder': False}}, 'n_critics': 1, 'action_flexibility': 0.3, 'beta': 0.5, 'target_update_interval': 3000}}}\n",
      "2023-08-23 23:12:50 [info     ] DiscreteBCQ_20230823231237: epoch=1 step=1000 epoch=1 metrics={'time_sample_batch': 0.0002533023357391357, 'time_algorithm_update': 0.010510464429855346, 'loss': 3.0305801837444304, 'time_step': 0.010802713632583618, 'td_error': 236.69656155461826, 'value_scale': 0.41405846004676056, 'environment': 24.0} step=1000\n",
      "2023-08-23 23:12:50 [info     ] Model parameters are saved to d3rlpy_logs\\DiscreteBCQ_20230823231237\\model_1000.d3\n",
      "2023-08-23 23:13:03 [info     ] DiscreteBCQ_20230823231237: epoch=2 step=2000 epoch=2 metrics={'time_sample_batch': 0.00027111434936523437, 'time_algorithm_update': 0.011588194131851196, 'loss': 2.780582157433033, 'time_step': 0.011914163112640382, 'td_error': 236.6499643391686, 'value_scale': 0.46378859936920624, 'environment': 24.0} step=2000\n",
      "2023-08-23 23:13:03 [info     ] Model parameters are saved to d3rlpy_logs\\DiscreteBCQ_20230823231237\\model_2000.d3\n",
      "2023-08-23 23:13:19 [info     ] DiscreteBCQ_20230823231237: epoch=3 step=3000 epoch=3 metrics={'time_sample_batch': 0.00029627442359924316, 'time_algorithm_update': 0.013202597141265869, 'loss': 2.9972518883943557, 'time_step': 0.013541757106781006, 'td_error': 235.9975285769565, 'value_scale': 0.6700007065328629, 'environment': 25.0} step=3000\n",
      "2023-08-23 23:13:19 [info     ] Model parameters are saved to d3rlpy_logs\\DiscreteBCQ_20230823231237\\model_3000.d3\n",
      "2023-08-23 23:13:35 [info     ] DiscreteBCQ_20230823231237: epoch=4 step=4000 epoch=4 metrics={'time_sample_batch': 0.0002914164066314697, 'time_algorithm_update': 0.014416211128234864, 'loss': 3.061714220583439, 'time_step': 0.014759498357772826, 'td_error': 232.61531055037156, 'value_scale': 1.1607369445558235, 'environment': 25.0} step=4000\n",
      "2023-08-23 23:13:35 [info     ] Model parameters are saved to d3rlpy_logs\\DiscreteBCQ_20230823231237\\model_4000.d3\n",
      "2023-08-23 23:13:50 [info     ] DiscreteBCQ_20230823231237: epoch=5 step=5000 epoch=5 metrics={'time_sample_batch': 0.00026639556884765626, 'time_algorithm_update': 0.013075899124145508, 'loss': 3.097725816965103, 'time_step': 0.01339613127708435, 'td_error': 234.0531942509105, 'value_scale': 1.3738838677760867, 'environment': 25.0} step=5000\n",
      "2023-08-23 23:13:50 [info     ] Model parameters are saved to d3rlpy_logs\\DiscreteBCQ_20230823231237\\model_5000.d3\n",
      "2023-08-23 23:14:06 [info     ] DiscreteBCQ_20230823231237: epoch=6 step=6000 epoch=6 metrics={'time_sample_batch': 0.0002701845169067383, 'time_algorithm_update': 0.013925821304321288, 'loss': 2.96325977653265, 'time_step': 0.014252854824066161, 'td_error': 233.2891880558678, 'value_scale': 1.2738375988322588, 'environment': 25.0} step=6000\n",
      "2023-08-23 23:14:07 [info     ] Model parameters are saved to d3rlpy_logs\\DiscreteBCQ_20230823231237\\model_6000.d3\n",
      "2023-08-23 23:14:24 [info     ] DiscreteBCQ_20230823231237: epoch=7 step=7000 epoch=7 metrics={'time_sample_batch': 0.00030124354362487794, 'time_algorithm_update': 0.015025747537612915, 'loss': 3.0362407984137536, 'time_step': 0.015389816999435426, 'td_error': 234.76778502566265, 'value_scale': 0.8516920252844282, 'environment': 24.0} step=7000\n",
      "2023-08-23 23:14:24 [info     ] Model parameters are saved to d3rlpy_logs\\DiscreteBCQ_20230823231237\\model_7000.d3\n",
      "2023-08-23 23:14:41 [info     ] DiscreteBCQ_20230823231237: epoch=8 step=8000 epoch=8 metrics={'time_sample_batch': 0.0002782890796661377, 'time_algorithm_update': 0.014983794450759888, 'loss': 2.419355580806732, 'time_step': 0.015310012817382812, 'td_error': 234.0114837207551, 'value_scale': 1.2660703296429605, 'environment': 25.0} step=8000\n",
      "2023-08-23 23:14:41 [info     ] Model parameters are saved to d3rlpy_logs\\DiscreteBCQ_20230823231237\\model_8000.d3\n",
      "2023-08-23 23:14:55 [info     ] DiscreteBCQ_20230823231237: epoch=9 step=9000 epoch=9 metrics={'time_sample_batch': 0.00024029159545898437, 'time_algorithm_update': 0.012171502113342286, 'loss': 2.740950074493885, 'time_step': 0.012474615812301635, 'td_error': 234.78346780579213, 'value_scale': 0.7612016150390868, 'environment': 24.0} step=9000\n",
      "2023-08-23 23:14:55 [info     ] Model parameters are saved to d3rlpy_logs\\DiscreteBCQ_20230823231237\\model_9000.d3\n",
      "2023-08-23 23:15:09 [info     ] DiscreteBCQ_20230823231237: epoch=10 step=10000 epoch=10 metrics={'time_sample_batch': 0.0002533879280090332, 'time_algorithm_update': 0.012050679206848144, 'loss': 2.635175714850426, 'time_step': 0.012360921621322633, 'td_error': 233.24459301349785, 'value_scale': 1.4705925162579228, 'environment': 25.0} step=10000\n",
      "2023-08-23 23:15:09 [info     ] Model parameters are saved to d3rlpy_logs\\DiscreteBCQ_20230823231237\\model_10000.d3\n"
     ]
    }
   ],
   "source": [
    "dataset =getDataset()\n",
    "print(len(dataset.episodes))\n",
    "\n",
    "bcq = d3rlpy.algos.DiscreteBCQConfig(learning_rate=learning_rate, gamma=gamma,\n",
    "          target_update_interval=target_update_interval,\n",
    "          batch_size=batch_size).create()\n",
    "test_episodes = dataset.episodes[:30]\n",
    "\n",
    "# set environment in scorer function\n",
    "env_train = Env(visible=False, level=str(level)).env\n",
    "bcq.build_with_dataset(dataset)\n",
    "env_evaluator  = EnvironmentEvaluator(env_train)\n",
    "\n",
    "# evaluate algorithm on the environment\n",
    "name = 'BCQ_marioai_%s_%s_%s_%s_%s' % (level.stem, gamma, learning_rate, target_update_interval, n_epochs)\n",
    "model_file = pathlib.Path(\"data\", \"models\", name + \".pt\")\n",
    "currentMax = -100000\n",
    "bcq_max = copy.deepcopy(bcq)\n",
    "\n",
    "fitter = bcq.fitter(\n",
    "   dataset,\n",
    "   n_steps = n_steps_per_epoch * n_epochs,\n",
    "   n_steps_per_epoch=n_steps_per_epoch,\n",
    "  evaluators={'td_error': d3rlpy.metrics.TDErrorEvaluator(test_episodes),\n",
    "              'value_scale': d3rlpy.metrics.AverageValueEstimationEvaluator(test_episodes),\n",
    "              'environment': env_evaluator },\n",
    "  show_progress = False\n",
    ")\n",
    "dataset.trajectory_slicer\n",
    "for epoch, metrics in fitter:\n",
    "    if metrics.get(\"environment\") > currentMax:\n",
    "        currentMax = metrics.get(\"environment\")\n",
    "        bcq_max.copy_q_function_from(bcq)\n",
    "    else:\n",
    "        bcq.copy_q_function_from(bcq_max)\n",
    "    bcq.save_model(model_file)\n",
    "    if currentMax > 100:\n",
    "        # For the purpose of the exercise the training will stop if the agent manages to complete the level\n",
    "        print(\"A suitable model has been found.\")\n",
    "        break"
   ]
  },
  {
   "cell_type": "code",
   "execution_count": 6,
   "metadata": {},
   "outputs": [
    {
     "name": "stdout",
     "output_type": "stream",
     "text": [
      "D:\\marioai\\exercise_offline_rl\\data\\datasets\\OneCliffLevel.h5\n",
      "D:\\marioai\\exercise_offline_rl\\data\\datasets\\RoughTerrainLevel.h5\n",
      "155\n",
      "Running on port 53726\n",
      "(200, 4)\n",
      "observation_shape:  (800,)\n",
      "dataset_info.action_size:  13\n",
      "2023-08-24 12:59:18 [info     ] dataset info                   dataset_info=DatasetInfo(observation_signature=Signature(dtype=[dtype('int8')], shape=[(800,)]), action_signature=Signature(dtype=[dtype('int32')], shape=[(1,)]), reward_signature=Signature(dtype=[dtype('int32')], shape=[(1,)]), action_space=<ActionSpace.DISCRETE: 2>, action_size=13)\n",
      "2023-08-24 12:59:18 [info     ] Directory is created at d3rlpy_logs\\DiscreteCQL_20230824125918\n",
      "2023-08-24 12:59:18 [warning  ] Skip building models since they're already built.\n",
      "2023-08-24 12:59:18 [info     ] Parameters                     params={'observation_shape': [800], 'action_size': 13, 'config': {'type': 'discrete_cql', 'params': {'batch_size': 2, 'gamma': 0.99, 'observation_scaler': {'type': 'none', 'params': {}}, 'action_scaler': {'type': 'none', 'params': {}}, 'reward_scaler': {'type': 'none', 'params': {}}, 'learning_rate': 0.0003, 'optim_factory': {'type': 'adam', 'params': {'betas': [0.9, 0.999], 'eps': 1e-08, 'weight_decay': 0, 'amsgrad': False}}, 'encoder_factory': {'type': 'default', 'params': {'activation': 'relu', 'use_batch_norm': False, 'dropout_rate': None}}, 'q_func_factory': {'type': 'mean', 'params': {'share_encoder': False}}, 'n_critics': 1, 'target_update_interval': 3000, 'alpha': 1.0}}}\n"
     ]
    },
    {
     "name": "stderr",
     "output_type": "stream",
     "text": [
      "d:\\marioai\\marioenv\\lib\\site-packages\\gym\\utils\\passive_env_checker.py:187: UserWarning: WARN: Future gym versions will require that `Env.reset` can be passed `options` to allow the environment initialisation to be passed additional information.\n",
      "  logger.warn(\n",
      "d:\\marioai\\marioenv\\lib\\site-packages\\gym\\utils\\passive_env_checker.py:165: UserWarning: WARN: The obs returned by the `reset()` method is not within the observation space.\n",
      "  logger.warn(f\"{pre} is not within the observation space.\")\n",
      "d:\\marioai\\marioenv\\lib\\site-packages\\gym\\utils\\passive_env_checker.py:233: DeprecationWarning: `np.bool8` is a deprecated alias for `np.bool_`.  (Deprecated NumPy 1.24)\n",
      "  if not isinstance(terminated, (bool, np.bool8)):\n",
      "d:\\marioai\\marioenv\\lib\\site-packages\\gym\\utils\\passive_env_checker.py:165: UserWarning: WARN: The obs returned by the `step()` method is not within the observation space.\n",
      "  logger.warn(f\"{pre} is not within the observation space.\")\n"
     ]
    },
    {
     "name": "stdout",
     "output_type": "stream",
     "text": [
      "2023-08-24 12:59:30 [info     ] DiscreteCQL_20230824125918: epoch=1 step=1000 epoch=1 metrics={'time_sample_batch': 0.00057072114944458, 'time_algorithm_update': 0.00966910696029663, 'loss': 2.7525494401454926, 'conservative_loss': 1.5644276589751243, 'time_step': 0.010319540739059448, 'td_error': 235.5474304696276, 'value_scale': 1.1552187326151309, 'environment': 21.0} step=1000\n",
      "2023-08-24 12:59:30 [info     ] Model parameters are saved to d3rlpy_logs\\DiscreteCQL_20230824125918\\model_1000.d3\n",
      "2023-08-24 12:59:39 [info     ] DiscreteCQL_20230824125918: epoch=2 step=2000 epoch=2 metrics={'time_sample_batch': 0.00022524142265319824, 'time_algorithm_update': 0.007900470495223999, 'loss': 2.487643089056015, 'conservative_loss': 1.4058477517962455, 'time_step': 0.008188105821609497, 'td_error': 234.9442942111133, 'value_scale': 1.1431791366797677, 'environment': 20.0} step=2000\n",
      "2023-08-24 12:59:39 [info     ] Model parameters are saved to d3rlpy_logs\\DiscreteCQL_20230824125918\\model_2000.d3\n",
      "2023-08-24 12:59:49 [info     ] DiscreteCQL_20230824125918: epoch=3 step=3000 epoch=3 metrics={'time_sample_batch': 0.0002062957286834717, 'time_algorithm_update': 0.008606147289276124, 'loss': 2.7222138721346854, 'conservative_loss': 1.4049348492622376, 'time_step': 0.008873258352279662, 'td_error': 235.23945634233903, 'value_scale': 0.9486498576647708, 'environment': 24.0} step=3000\n",
      "2023-08-24 12:59:49 [info     ] Model parameters are saved to d3rlpy_logs\\DiscreteCQL_20230824125918\\model_3000.d3\n",
      "2023-08-24 12:59:58 [info     ] DiscreteCQL_20230824125918: epoch=4 step=4000 epoch=4 metrics={'time_sample_batch': 0.00022935938835144044, 'time_algorithm_update': 0.007854071378707885, 'loss': 2.4936269331872465, 'conservative_loss': 1.3572604565024375, 'time_step': 0.008118364572525025, 'td_error': 230.8046025069935, 'value_scale': 1.9395187074556257, 'environment': 25.0} step=4000\n",
      "2023-08-24 12:59:58 [info     ] Model parameters are saved to d3rlpy_logs\\DiscreteCQL_20230824125918\\model_4000.d3\n",
      "2023-08-24 13:00:09 [info     ] DiscreteCQL_20230824125918: epoch=5 step=5000 epoch=5 metrics={'time_sample_batch': 0.00023928451538085936, 'time_algorithm_update': 0.00908274245262146, 'loss': 2.1692724230140445, 'conservative_loss': 1.321353310137987, 'time_step': 0.009388854742050172, 'td_error': 230.725923324328, 'value_scale': 2.100931759628495, 'environment': 21.0} step=5000\n",
      "2023-08-24 13:00:09 [info     ] Model parameters are saved to d3rlpy_logs\\DiscreteCQL_20230824125918\\model_5000.d3\n",
      "2023-08-24 13:00:20 [info     ] DiscreteCQL_20230824125918: epoch=6 step=6000 epoch=6 metrics={'time_sample_batch': 0.0002632491588592529, 'time_algorithm_update': 0.010020206212997436, 'loss': 2.517908997267485, 'conservative_loss': 1.3409242133498191, 'time_step': 0.010352257728576661, 'td_error': 232.2112158751943, 'value_scale': 1.6845382088142202, 'environment': 21.0} step=6000\n",
      "2023-08-24 13:00:20 [info     ] Model parameters are saved to d3rlpy_logs\\DiscreteCQL_20230824125918\\model_6000.d3\n",
      "2023-08-24 13:00:31 [info     ] DiscreteCQL_20230824125918: epoch=7 step=7000 epoch=7 metrics={'time_sample_batch': 0.0002463555335998535, 'time_algorithm_update': 0.009163515090942383, 'loss': 2.3731418119221925, 'conservative_loss': 1.3318773977458478, 'time_step': 0.009476669788360596, 'td_error': 226.94382893059742, 'value_scale': 3.1747938635514794, 'environment': 21.0} step=7000\n",
      "2023-08-24 13:00:31 [info     ] Model parameters are saved to d3rlpy_logs\\DiscreteCQL_20230824125918\\model_7000.d3\n",
      "2023-08-24 13:00:41 [info     ] DiscreteCQL_20230824125918: epoch=8 step=8000 epoch=8 metrics={'time_sample_batch': 0.00024834322929382323, 'time_algorithm_update': 0.009252276182174682, 'loss': 2.2614007859677074, 'conservative_loss': 1.3434183315038681, 'time_step': 0.009567398309707641, 'td_error': 228.69939381705916, 'value_scale': 2.7292416202228353, 'environment': 25.0} step=8000\n",
      "2023-08-24 13:00:41 [info     ] Model parameters are saved to d3rlpy_logs\\DiscreteCQL_20230824125918\\model_8000.d3\n",
      "2023-08-24 13:00:51 [info     ] DiscreteCQL_20230824125918: epoch=9 step=9000 epoch=9 metrics={'time_sample_batch': 0.0002284531593322754, 'time_algorithm_update': 0.008415395259857178, 'loss': 2.1067140482217073, 'conservative_loss': 1.3479931370019913, 'time_step': 0.008702674150466919, 'td_error': 228.7496677649181, 'value_scale': 2.1176801475449394, 'environment': 20.0} step=9000\n",
      "2023-08-24 13:00:51 [info     ] Model parameters are saved to d3rlpy_logs\\DiscreteCQL_20230824125918\\model_9000.d3\n",
      "2023-08-24 13:01:01 [info     ] DiscreteCQL_20230824125918: epoch=10 step=10000 epoch=10 metrics={'time_sample_batch': 0.00022521615028381348, 'time_algorithm_update': 0.008452698230743409, 'loss': 2.642832354441285, 'conservative_loss': 1.3514056090414523, 'time_step': 0.00872866678237915, 'td_error': 227.75818008544178, 'value_scale': 2.5904255149844215, 'environment': 24.0} step=10000\n",
      "2023-08-24 13:01:01 [info     ] Model parameters are saved to d3rlpy_logs\\DiscreteCQL_20230824125918\\model_10000.d3\n"
     ]
    }
   ],
   "source": [
    "dataset =getDataset()\n",
    "print(len(dataset.episodes))\n",
    "\n",
    "cql = d3rlpy.algos.DiscreteCQLConfig(learning_rate=learning_rate, gamma=gamma,\n",
    "          target_update_interval=target_update_interval,\n",
    "          batch_size=batch_size).create()\n",
    "test_episodes = dataset.episodes[:30]\n",
    "\n",
    "# set environment in scorer function\n",
    "env_train = Env(visible=False, level=str(level)).env\n",
    "cql.build_with_dataset(dataset)\n",
    "env_evaluator  = EnvironmentEvaluator(env_train)\n",
    "\n",
    "# evaluate algorithm on the environment\n",
    "name = 'CQL_marioai_%s_%s_%s_%s_%s' % (level.stem, gamma, learning_rate, target_update_interval, n_epochs)\n",
    "model_file = pathlib.Path(\"data\", \"models\", name + \".pt\")\n",
    "currentMax = -100000\n",
    "cql_max = copy.deepcopy(cql)\n",
    "\n",
    "fitter = cql.fitter(\n",
    "   dataset,\n",
    "   n_steps = n_steps_per_epoch * n_epochs,\n",
    "   n_steps_per_epoch=n_steps_per_epoch,\n",
    "  evaluators={'td_error': d3rlpy.metrics.TDErrorEvaluator(test_episodes),\n",
    "              'value_scale': d3rlpy.metrics.AverageValueEstimationEvaluator(test_episodes),\n",
    "              'environment': env_evaluator },\n",
    "  show_progress = False\n",
    ")\n",
    "dataset.trajectory_slicer\n",
    "for epoch, metrics in fitter:\n",
    "    if metrics.get(\"environment\") > currentMax:\n",
    "        currentMax = metrics.get(\"environment\")\n",
    "        cql_max.copy_q_function_from(cql)\n",
    "    else:\n",
    "        cql.copy_q_function_from(cql_max)\n",
    "    cql.save_model(model_file)\n",
    "    if currentMax > 100:\n",
    "        # For the purpose of the exercise the training will stop if the agent manages to complete the level\n",
    "        print(\"A suitable model has been found.\")\n",
    "        break"
   ]
  },
  {
   "cell_type": "code",
   "execution_count": 15,
   "metadata": {},
   "outputs": [
    {
     "name": "stdout",
     "output_type": "stream",
     "text": [
      "D:\\marioai\\exercise_offline_rl\\data\\datasets\\OneCliffLevel.h5\n",
      "D:\\marioai\\exercise_offline_rl\\data\\datasets\\RoughTerrainLevel.h5\n",
      "<d3rlpy.algos.qlearning.dqn.DQN object at 0x00000213533A8730>\n",
      "Running on port 63274\n",
      "(200, 4)\n",
      "2023-08-24 16:00:07 [info     ] dataset info                   dataset_info=DatasetInfo(observation_signature=Signature(dtype=[dtype('int8')], shape=[(800,)]), action_signature=Signature(dtype=[dtype('int32')], shape=[(1,)]), reward_signature=Signature(dtype=[dtype('int32')], shape=[(1,)]), action_space=<ActionSpace.DISCRETE: 2>, action_size=13)\n",
      "2023-08-24 16:00:07 [info     ] Directory is created at d3rlpy_logs\\DiscreteFQE_20230824160007\n",
      "2023-08-24 16:00:07 [debug    ] Building models...\n",
      "2023-08-24 16:00:07 [debug    ] Models have been built.\n",
      "2023-08-24 16:00:07 [info     ] Parameters                     params={'observation_shape': [800], 'action_size': 13, 'config': {'type': 'fqe', 'params': {'batch_size': 100, 'gamma': 0.99, 'observation_scaler': {'type': 'none', 'params': {}}, 'action_scaler': {'type': 'none', 'params': {}}, 'reward_scaler': {'type': 'none', 'params': {}}, 'learning_rate': 0.0001, 'optim_factory': {'type': 'adam', 'params': {'betas': [0.9, 0.999], 'eps': 1e-08, 'weight_decay': 0, 'amsgrad': False}}, 'encoder_factory': {'type': 'default', 'params': {'activation': 'relu', 'use_batch_norm': False, 'dropout_rate': None}}, 'q_func_factory': {'type': 'mean', 'params': {'share_encoder': False}}, 'n_critics': 1, 'target_update_interval': 100}}}\n",
      "2023-08-24 16:00:21 [info     ] DiscreteFQE_20230824160007: epoch=1 step=1000 epoch=1 metrics={'time_sample_batch': 0.0022476747035980226, 'time_algorithm_update': 0.007952107191085815, 'loss': 1.092637316942215, 'time_step': 0.010252591371536255, 'init_value': 1.493411898612976, 'soft_opc': 0.23448051233005263, 'average_value': 3.7022370661747606, 'environment': 35.0} step=1000\n",
      "2023-08-24 16:00:21 [info     ] Model parameters are saved to d3rlpy_logs\\DiscreteFQE_20230824160007\\model_1000.d3\n",
      "2023-08-24 16:00:35 [info     ] DiscreteFQE_20230824160007: epoch=2 step=2000 epoch=2 metrics={'time_sample_batch': 0.002380851984024048, 'time_algorithm_update': 0.008213834047317506, 'loss': 1.2709925234019757, 'time_step': 0.010636550426483154, 'init_value': 5.743846893310547, 'soft_opc': 0.3134921789180112, 'average_value': 6.676538592020603, 'environment': 35.0} step=2000\n",
      "2023-08-24 16:00:35 [info     ] Model parameters are saved to d3rlpy_logs\\DiscreteFQE_20230824160007\\model_2000.d3\n",
      "2023-08-24 16:00:49 [info     ] DiscreteFQE_20230824160007: epoch=3 step=3000 epoch=3 metrics={'time_sample_batch': 0.0024473986625671387, 'time_algorithm_update': 0.008514285326004028, 'loss': 1.2197051539719104, 'time_step': 0.011018526077270508, 'init_value': 11.67812728881836, 'soft_opc': 0.3750160554312405, 'average_value': 10.136406657537973, 'environment': 35.0} step=3000\n",
      "2023-08-24 16:00:49 [info     ] Model parameters are saved to d3rlpy_logs\\DiscreteFQE_20230824160007\\model_3000.d3\n",
      "2023-08-24 16:01:04 [info     ] DiscreteFQE_20230824160007: epoch=4 step=4000 epoch=4 metrics={'time_sample_batch': 0.002491478681564331, 'time_algorithm_update': 0.00857495880126953, 'loss': 1.4223328638076782, 'time_step': 0.011109315395355224, 'init_value': 18.777420043945312, 'soft_opc': 0.5265662925208883, 'average_value': 14.1307122552639, 'environment': 35.0} step=4000\n",
      "2023-08-24 16:01:04 [info     ] Model parameters are saved to d3rlpy_logs\\DiscreteFQE_20230824160007\\model_4000.d3\n",
      "2023-08-24 16:01:19 [info     ] DiscreteFQE_20230824160007: epoch=5 step=5000 epoch=5 metrics={'time_sample_batch': 0.002692101001739502, 'time_algorithm_update': 0.00898668909072876, 'loss': 1.8442369614243508, 'time_step': 0.01173461675643921, 'init_value': 24.886642456054688, 'soft_opc': 0.4354473917539998, 'average_value': 19.606139430850085, 'environment': 35.0} step=5000\n",
      "2023-08-24 16:01:19 [info     ] Model parameters are saved to d3rlpy_logs\\DiscreteFQE_20230824160007\\model_5000.d3\n",
      "2023-08-24 16:01:34 [info     ] DiscreteFQE_20230824160007: epoch=6 step=6000 epoch=6 metrics={'time_sample_batch': 0.0026594529151916504, 'time_algorithm_update': 0.00900533390045166, 'loss': 2.316860926747322, 'time_step': 0.011722632169723511, 'init_value': 27.999420166015625, 'soft_opc': 0.3634990400531706, 'average_value': 24.242299882788696, 'environment': 35.0} step=6000\n",
      "2023-08-24 16:01:34 [info     ] Model parameters are saved to d3rlpy_logs\\DiscreteFQE_20230824160007\\model_6000.d3\n",
      "2023-08-24 16:01:50 [info     ] DiscreteFQE_20230824160007: epoch=7 step=7000 epoch=7 metrics={'time_sample_batch': 0.002746086597442627, 'time_algorithm_update': 0.00924983787536621, 'loss': 2.72926056599617, 'time_step': 0.012051744937896729, 'init_value': 29.57484245300293, 'soft_opc': 0.48682365975171393, 'average_value': 27.609121924078828, 'environment': 35.0} step=7000\n",
      "2023-08-24 16:01:50 [info     ] Model parameters are saved to d3rlpy_logs\\DiscreteFQE_20230824160007\\model_7000.d3\n",
      "2023-08-24 16:02:06 [info     ] DiscreteFQE_20230824160007: epoch=8 step=8000 epoch=8 metrics={'time_sample_batch': 0.0027141761779785156, 'time_algorithm_update': 0.009327644348144532, 'loss': 2.9473379685878753, 'time_step': 0.012094661951065063, 'init_value': 30.760501861572266, 'soft_opc': 0.4671366335645111, 'average_value': 28.346493466630253, 'environment': 35.0} step=8000\n",
      "2023-08-24 16:02:06 [info     ] Model parameters are saved to d3rlpy_logs\\DiscreteFQE_20230824160007\\model_8000.d3\n",
      "2023-08-24 16:02:21 [info     ] DiscreteFQE_20230824160007: epoch=9 step=9000 epoch=9 metrics={'time_sample_batch': 0.0027491304874420167, 'time_algorithm_update': 0.009338549852371215, 'loss': 3.207088297486305, 'time_step': 0.012146510124206544, 'init_value': 30.79643440246582, 'soft_opc': 0.44413481986395453, 'average_value': 28.761576069422453, 'environment': 35.0} step=9000\n",
      "2023-08-24 16:02:21 [info     ] Model parameters are saved to d3rlpy_logs\\DiscreteFQE_20230824160007\\model_9000.d3\n",
      "2023-08-24 16:02:37 [info     ] DiscreteFQE_20230824160007: epoch=10 step=10000 epoch=10 metrics={'time_sample_batch': 0.0028299670219421387, 'time_algorithm_update': 0.009478156566619872, 'loss': 3.1208911732435225, 'time_step': 0.01235694408416748, 'init_value': 30.334468841552734, 'soft_opc': 0.7206252968583904, 'average_value': 29.06897581685002, 'environment': 35.0} step=10000\n",
      "2023-08-24 16:02:37 [info     ] Model parameters are saved to d3rlpy_logs\\DiscreteFQE_20230824160007\\model_10000.d3\n",
      "<d3rlpy.algos.qlearning.dqn.DoubleDQN object at 0x0000021352AE98A0>\n",
      "Running on port 63280\n",
      "(200, 4)\n",
      "2023-08-24 16:02:38 [info     ] dataset info                   dataset_info=DatasetInfo(observation_signature=Signature(dtype=[dtype('int8')], shape=[(800,)]), action_signature=Signature(dtype=[dtype('int32')], shape=[(1,)]), reward_signature=Signature(dtype=[dtype('int32')], shape=[(1,)]), action_space=<ActionSpace.DISCRETE: 2>, action_size=13)\n",
      "2023-08-24 16:02:38 [info     ] Directory is created at d3rlpy_logs\\DiscreteFQE_20230824160238\n",
      "2023-08-24 16:02:38 [debug    ] Building models...\n",
      "2023-08-24 16:02:38 [debug    ] Models have been built.\n",
      "2023-08-24 16:02:38 [info     ] Parameters                     params={'observation_shape': [800], 'action_size': 13, 'config': {'type': 'fqe', 'params': {'batch_size': 100, 'gamma': 0.99, 'observation_scaler': {'type': 'none', 'params': {}}, 'action_scaler': {'type': 'none', 'params': {}}, 'reward_scaler': {'type': 'none', 'params': {}}, 'learning_rate': 0.0001, 'optim_factory': {'type': 'adam', 'params': {'betas': [0.9, 0.999], 'eps': 1e-08, 'weight_decay': 0, 'amsgrad': False}}, 'encoder_factory': {'type': 'default', 'params': {'activation': 'relu', 'use_batch_norm': False, 'dropout_rate': None}}, 'q_func_factory': {'type': 'mean', 'params': {'share_encoder': False}}, 'n_critics': 1, 'target_update_interval': 100}}}\n",
      "2023-08-24 16:02:54 [info     ] DiscreteFQE_20230824160238: epoch=1 step=1000 epoch=1 metrics={'time_sample_batch': 0.002800956964492798, 'time_algorithm_update': 0.009350534439086913, 'loss': 1.143503498196602, 'time_step': 0.012204360008239747, 'init_value': 1.139017939567566, 'soft_opc': 0.23516731786130185, 'average_value': 3.1750806584041573, 'environment': 244.0} step=1000\n",
      "2023-08-24 16:02:54 [info     ] Model parameters are saved to d3rlpy_logs\\DiscreteFQE_20230824160238\\model_1000.d3\n",
      "2023-08-24 16:03:11 [info     ] DiscreteFQE_20230824160238: epoch=2 step=2000 epoch=2 metrics={'time_sample_batch': 0.0028065311908721923, 'time_algorithm_update': 0.00939174747467041, 'loss': 1.200214689642191, 'time_step': 0.012260164737701416, 'init_value': 4.7670063972473145, 'soft_opc': 0.35326715403778497, 'average_value': 6.081285676438343, 'environment': 244.0} step=2000\n",
      "2023-08-24 16:03:11 [info     ] Model parameters are saved to d3rlpy_logs\\DiscreteFQE_20230824160238\\model_2000.d3\n",
      "2023-08-24 16:03:27 [info     ] DiscreteFQE_20230824160238: epoch=3 step=3000 epoch=3 metrics={'time_sample_batch': 0.002764835834503174, 'time_algorithm_update': 0.009290916442871094, 'loss': 1.221931857675314, 'time_step': 0.012121578216552735, 'init_value': 10.114418029785156, 'soft_opc': 0.4487579426422279, 'average_value': 9.251699704090644, 'environment': 244.0} step=3000\n",
      "2023-08-24 16:03:27 [info     ] Model parameters are saved to d3rlpy_logs\\DiscreteFQE_20230824160238\\model_3000.d3\n",
      "2023-08-24 16:03:43 [info     ] DiscreteFQE_20230824160238: epoch=4 step=4000 epoch=4 metrics={'time_sample_batch': 0.0028200511932373047, 'time_algorithm_update': 0.009475041627883912, 'loss': 1.4276544259786605, 'time_step': 0.01235295844078064, 'init_value': 17.409740447998047, 'soft_opc': 0.7578962491985752, 'average_value': 13.627741070550469, 'environment': 244.0} step=4000\n",
      "2023-08-24 16:03:43 [info     ] Model parameters are saved to d3rlpy_logs\\DiscreteFQE_20230824160238\\model_4000.d3\n",
      "2023-08-24 16:03:59 [info     ] DiscreteFQE_20230824160238: epoch=5 step=5000 epoch=5 metrics={'time_sample_batch': 0.002779216289520264, 'time_algorithm_update': 0.009326518774032592, 'loss': 1.8561068301796912, 'time_step': 0.01215650224685669, 'init_value': 23.765104293823242, 'soft_opc': 0.9497882211876281, 'average_value': 19.069929980247714, 'environment': 244.0} step=5000\n",
      "2023-08-24 16:03:59 [info     ] Model parameters are saved to d3rlpy_logs\\DiscreteFQE_20230824160238\\model_5000.d3\n",
      "2023-08-24 16:04:16 [info     ] DiscreteFQE_20230824160238: epoch=6 step=6000 epoch=6 metrics={'time_sample_batch': 0.0029038949012756346, 'time_algorithm_update': 0.00960464119911194, 'loss': 2.414615064263344, 'time_step': 0.01256039571762085, 'init_value': 28.066835403442383, 'soft_opc': 0.8866294631068072, 'average_value': 23.24501339962217, 'environment': 244.0} step=6000\n",
      "2023-08-24 16:04:16 [info     ] Model parameters are saved to d3rlpy_logs\\DiscreteFQE_20230824160238\\model_6000.d3\n",
      "2023-08-24 16:04:32 [info     ] DiscreteFQE_20230824160238: epoch=7 step=7000 epoch=7 metrics={'time_sample_batch': 0.002791170597076416, 'time_algorithm_update': 0.009420139551162719, 'loss': 2.783123020648956, 'time_step': 0.012267128944396972, 'init_value': 30.59299087524414, 'soft_opc': 1.1090507183215585, 'average_value': 26.97492591181283, 'environment': 244.0} step=7000\n",
      "2023-08-24 16:04:32 [info     ] Model parameters are saved to d3rlpy_logs\\DiscreteFQE_20230824160238\\model_7000.d3\n",
      "2023-08-24 16:04:48 [info     ] DiscreteFQE_20230824160238: epoch=8 step=8000 epoch=8 metrics={'time_sample_batch': 0.0027390127182006837, 'time_algorithm_update': 0.009171129703521729, 'loss': 3.264397901892662, 'time_step': 0.011965965747833252, 'init_value': 33.201412200927734, 'soft_opc': 1.3649757294161056, 'average_value': 28.870068927458977, 'environment': 244.0} step=8000\n",
      "2023-08-24 16:04:48 [info     ] Model parameters are saved to d3rlpy_logs\\DiscreteFQE_20230824160238\\model_8000.d3\n",
      "2023-08-24 16:05:04 [info     ] DiscreteFQE_20230824160238: epoch=9 step=9000 epoch=9 metrics={'time_sample_batch': 0.0027709822654724122, 'time_algorithm_update': 0.009507152318954468, 'loss': 3.5064044828414915, 'time_step': 0.012328987836837769, 'init_value': 35.23259353637695, 'soft_opc': 1.7538694104455956, 'average_value': 29.391733002294707, 'environment': 244.0} step=9000\n",
      "2023-08-24 16:05:04 [info     ] Model parameters are saved to d3rlpy_logs\\DiscreteFQE_20230824160238\\model_9000.d3\n",
      "2023-08-24 16:05:21 [info     ] DiscreteFQE_20230824160238: epoch=10 step=10000 epoch=10 metrics={'time_sample_batch': 0.002974536180496216, 'time_algorithm_update': 0.010085559368133545, 'loss': 3.6413734719753266, 'time_step': 0.013117906093597411, 'init_value': 36.357540130615234, 'soft_opc': 2.057757169760734, 'average_value': 29.16143389955197, 'environment': 244.0} step=10000\n",
      "2023-08-24 16:05:21 [info     ] Model parameters are saved to d3rlpy_logs\\DiscreteFQE_20230824160238\\model_10000.d3\n",
      "<d3rlpy.algos.qlearning.bcq.DiscreteBCQ object at 0x0000021352AEA830>\n",
      "Running on port 63290\n",
      "(200, 4)\n",
      "2023-08-24 16:05:22 [info     ] dataset info                   dataset_info=DatasetInfo(observation_signature=Signature(dtype=[dtype('int8')], shape=[(800,)]), action_signature=Signature(dtype=[dtype('int32')], shape=[(1,)]), reward_signature=Signature(dtype=[dtype('int32')], shape=[(1,)]), action_space=<ActionSpace.DISCRETE: 2>, action_size=13)\n",
      "2023-08-24 16:05:22 [info     ] Directory is created at d3rlpy_logs\\DiscreteFQE_20230824160522\n",
      "2023-08-24 16:05:22 [debug    ] Building models...\n",
      "2023-08-24 16:05:22 [debug    ] Models have been built.\n",
      "2023-08-24 16:05:22 [info     ] Parameters                     params={'observation_shape': [800], 'action_size': 13, 'config': {'type': 'fqe', 'params': {'batch_size': 100, 'gamma': 0.99, 'observation_scaler': {'type': 'none', 'params': {}}, 'action_scaler': {'type': 'none', 'params': {}}, 'reward_scaler': {'type': 'none', 'params': {}}, 'learning_rate': 0.0001, 'optim_factory': {'type': 'adam', 'params': {'betas': [0.9, 0.999], 'eps': 1e-08, 'weight_decay': 0, 'amsgrad': False}}, 'encoder_factory': {'type': 'default', 'params': {'activation': 'relu', 'use_batch_norm': False, 'dropout_rate': None}}, 'q_func_factory': {'type': 'mean', 'params': {'share_encoder': False}}, 'n_critics': 1, 'target_update_interval': 100}}}\n",
      "2023-08-24 16:05:40 [info     ] DiscreteFQE_20230824160522: epoch=1 step=1000 epoch=1 metrics={'time_sample_batch': 0.002771712064743042, 'time_algorithm_update': 0.010402415513992309, 'loss': 1.260898741543293, 'time_step': 0.013229936838150025, 'init_value': 1.1974420547485352, 'soft_opc': 0.6589460833624199, 'average_value': 3.619272220893484, 'environment': 25.0} step=1000\n",
      "2023-08-24 16:05:40 [info     ] Model parameters are saved to d3rlpy_logs\\DiscreteFQE_20230824160522\\model_1000.d3\n",
      "2023-08-24 16:05:58 [info     ] DiscreteFQE_20230824160522: epoch=2 step=2000 epoch=2 metrics={'time_sample_batch': 0.002813021421432495, 'time_algorithm_update': 0.010711848258972168, 'loss': 1.4992315750718117, 'time_step': 0.013573687791824341, 'init_value': 4.499868869781494, 'soft_opc': 1.3045297685299984, 'average_value': 7.881878414686846, 'environment': 25.0} step=2000\n",
      "2023-08-24 16:05:58 [info     ] Model parameters are saved to d3rlpy_logs\\DiscreteFQE_20230824160522\\model_2000.d3\n",
      "2023-08-24 16:06:16 [info     ] DiscreteFQE_20230824160522: epoch=3 step=3000 epoch=3 metrics={'time_sample_batch': 0.002761007785797119, 'time_algorithm_update': 0.010648688793182374, 'loss': 1.7349268301129341, 'time_step': 0.013468976259231567, 'init_value': 9.410849571228027, 'soft_opc': 2.002454008280864, 'average_value': 12.307143542211374, 'environment': 25.0} step=3000\n",
      "2023-08-24 16:06:16 [info     ] Model parameters are saved to d3rlpy_logs\\DiscreteFQE_20230824160522\\model_3000.d3\n",
      "2023-08-24 16:06:34 [info     ] DiscreteFQE_20230824160522: epoch=4 step=4000 epoch=4 metrics={'time_sample_batch': 0.0028150248527526855, 'time_algorithm_update': 0.010757638454437255, 'loss': 1.8326707237958908, 'time_step': 0.013623562097549438, 'init_value': 15.548563957214355, 'soft_opc': 2.8624410912765796, 'average_value': 16.25658712687637, 'environment': 25.0} step=4000\n",
      "2023-08-24 16:06:34 [info     ] Model parameters are saved to d3rlpy_logs\\DiscreteFQE_20230824160522\\model_4000.d3\n",
      "2023-08-24 16:06:55 [info     ] DiscreteFQE_20230824160522: epoch=5 step=5000 epoch=5 metrics={'time_sample_batch': 0.0032858502864837645, 'time_algorithm_update': 0.012480974674224854, 'loss': 2.1767332005500792, 'time_step': 0.015834643125534058, 'init_value': 22.915205001831055, 'soft_opc': 3.627461739791645, 'average_value': 20.06209988759758, 'environment': 25.0} step=5000\n",
      "2023-08-24 16:06:55 [info     ] Model parameters are saved to d3rlpy_logs\\DiscreteFQE_20230824160522\\model_5000.d3\n",
      "2023-08-24 16:07:14 [info     ] DiscreteFQE_20230824160522: epoch=6 step=6000 epoch=6 metrics={'time_sample_batch': 0.003080146551132202, 'time_algorithm_update': 0.011564462184906006, 'loss': 2.586886775612831, 'time_step': 0.01470342993736267, 'init_value': 31.58155632019043, 'soft_opc': 4.496116804208697, 'average_value': 23.39914606182822, 'environment': 25.0} step=6000\n",
      "2023-08-24 16:07:14 [info     ] Model parameters are saved to d3rlpy_logs\\DiscreteFQE_20230824160522\\model_6000.d3\n",
      "2023-08-24 16:07:32 [info     ] DiscreteFQE_20230824160522: epoch=7 step=7000 epoch=7 metrics={'time_sample_batch': 0.0028300459384918214, 'time_algorithm_update': 0.010786548614501953, 'loss': 3.1534425384998324, 'time_step': 0.013672447681427002, 'init_value': 37.84551239013672, 'soft_opc': 5.75292220218336, 'average_value': 26.442416128588892, 'environment': 25.0} step=7000\n",
      "2023-08-24 16:07:32 [info     ] Model parameters are saved to d3rlpy_logs\\DiscreteFQE_20230824160522\\model_7000.d3\n",
      "2023-08-24 16:07:50 [info     ] DiscreteFQE_20230824160522: epoch=8 step=8000 epoch=8 metrics={'time_sample_batch': 0.0028011672496795655, 'time_algorithm_update': 0.010819361925125122, 'loss': 3.757923232316971, 'time_step': 0.013675376653671264, 'init_value': 41.556331634521484, 'soft_opc': 6.811323460680825, 'average_value': 29.598735378656944, 'environment': 25.0} step=8000\n",
      "2023-08-24 16:07:51 [info     ] Model parameters are saved to d3rlpy_logs\\DiscreteFQE_20230824160522\\model_8000.d3\n",
      "2023-08-24 16:08:08 [info     ] DiscreteFQE_20230824160522: epoch=9 step=9000 epoch=9 metrics={'time_sample_batch': 0.0027772347927093504, 'time_algorithm_update': 0.010772651433944702, 'loss': 3.9271799174547195, 'time_step': 0.013605608940124511, 'init_value': 43.406982421875, 'soft_opc': 7.9299721320790155, 'average_value': 29.897876477352924, 'environment': 25.0} step=9000\n",
      "2023-08-24 16:08:08 [info     ] Model parameters are saved to d3rlpy_logs\\DiscreteFQE_20230824160522\\model_9000.d3\n",
      "2023-08-24 16:08:26 [info     ] DiscreteFQE_20230824160522: epoch=10 step=10000 epoch=10 metrics={'time_sample_batch': 0.0027628874778747557, 'time_algorithm_update': 0.010728934526443482, 'loss': 4.18965607893467, 'time_step': 0.013549790859222413, 'init_value': 45.278717041015625, 'soft_opc': 9.096881159399882, 'average_value': 31.608071019390987, 'environment': 25.0} step=10000\n",
      "2023-08-24 16:08:26 [info     ] Model parameters are saved to d3rlpy_logs\\DiscreteFQE_20230824160522\\model_10000.d3\n",
      "<d3rlpy.algos.qlearning.cql.DiscreteCQL object at 0x0000021352AEAE00>\n",
      "Running on port 63301\n",
      "(200, 4)\n",
      "2023-08-24 16:08:28 [info     ] dataset info                   dataset_info=DatasetInfo(observation_signature=Signature(dtype=[dtype('int8')], shape=[(800,)]), action_signature=Signature(dtype=[dtype('int32')], shape=[(1,)]), reward_signature=Signature(dtype=[dtype('int32')], shape=[(1,)]), action_space=<ActionSpace.DISCRETE: 2>, action_size=13)\n",
      "2023-08-24 16:08:28 [info     ] Directory is created at d3rlpy_logs\\DiscreteFQE_20230824160828\n",
      "2023-08-24 16:08:28 [debug    ] Building models...\n",
      "2023-08-24 16:08:28 [debug    ] Models have been built.\n",
      "2023-08-24 16:08:28 [info     ] Parameters                     params={'observation_shape': [800], 'action_size': 13, 'config': {'type': 'fqe', 'params': {'batch_size': 100, 'gamma': 0.99, 'observation_scaler': {'type': 'none', 'params': {}}, 'action_scaler': {'type': 'none', 'params': {}}, 'reward_scaler': {'type': 'none', 'params': {}}, 'learning_rate': 0.0001, 'optim_factory': {'type': 'adam', 'params': {'betas': [0.9, 0.999], 'eps': 1e-08, 'weight_decay': 0, 'amsgrad': False}}, 'encoder_factory': {'type': 'default', 'params': {'activation': 'relu', 'use_batch_norm': False, 'dropout_rate': None}}, 'q_func_factory': {'type': 'mean', 'params': {'share_encoder': False}}, 'n_critics': 1, 'target_update_interval': 100}}}\n",
      "2023-08-24 16:08:44 [info     ] DiscreteFQE_20230824160828: epoch=1 step=1000 epoch=1 metrics={'time_sample_batch': 0.00284181547164917, 'time_algorithm_update': 0.009400490999221802, 'loss': 1.2316242742538452, 'time_step': 0.012294124841690063, 'init_value': 0.0983809158205986, 'soft_opc': 0.566371108061694, 'average_value': 1.8684779194542809, 'environment': 21.0} step=1000\n",
      "2023-08-24 16:08:44 [info     ] Model parameters are saved to d3rlpy_logs\\DiscreteFQE_20230824160828\\model_1000.d3\n",
      "2023-08-24 16:09:00 [info     ] DiscreteFQE_20230824160828: epoch=2 step=2000 epoch=2 metrics={'time_sample_batch': 0.002810916185379028, 'time_algorithm_update': 0.009342039346694947, 'loss': 1.634840830028057, 'time_step': 0.01221278977394104, 'init_value': 1.0340347290039062, 'soft_opc': 1.1784789743519424, 'average_value': 3.099783230191445, 'environment': 21.0} step=2000\n",
      "2023-08-24 16:09:00 [info     ] Model parameters are saved to d3rlpy_logs\\DiscreteFQE_20230824160828\\model_2000.d3\n",
      "2023-08-24 16:09:17 [info     ] DiscreteFQE_20230824160828: epoch=3 step=3000 epoch=3 metrics={'time_sample_batch': 0.0028018524646759033, 'time_algorithm_update': 0.00952422046661377, 'loss': 1.9494483902454376, 'time_step': 0.012369926691055298, 'init_value': 2.06679630279541, 'soft_opc': 1.772801995072106, 'average_value': 4.174046966405234, 'environment': 21.0} step=3000\n",
      "2023-08-24 16:09:17 [info     ] Model parameters are saved to d3rlpy_logs\\DiscreteFQE_20230824160828\\model_3000.d3\n",
      "2023-08-24 16:09:33 [info     ] DiscreteFQE_20230824160828: epoch=4 step=4000 epoch=4 metrics={'time_sample_batch': 0.0028127996921539305, 'time_algorithm_update': 0.00955316162109375, 'loss': 2.2253348208069803, 'time_step': 0.012421778917312621, 'init_value': 3.3151111602783203, 'soft_opc': 2.234225091189761, 'average_value': 5.423645200495126, 'environment': 21.0} step=4000\n",
      "2023-08-24 16:09:33 [info     ] Model parameters are saved to d3rlpy_logs\\DiscreteFQE_20230824160828\\model_4000.d3\n",
      "2023-08-24 16:09:49 [info     ] DiscreteFQE_20230824160828: epoch=5 step=5000 epoch=5 metrics={'time_sample_batch': 0.0027820632457733153, 'time_algorithm_update': 0.009457213401794434, 'loss': 2.4548335199952125, 'time_step': 0.012282129526138306, 'init_value': 5.090573787689209, 'soft_opc': 2.732762247369404, 'average_value': 6.976660382068086, 'environment': 21.0} step=5000\n",
      "2023-08-24 16:09:50 [info     ] Model parameters are saved to d3rlpy_logs\\DiscreteFQE_20230824160828\\model_5000.d3\n",
      "2023-08-24 16:10:06 [info     ] DiscreteFQE_20230824160828: epoch=6 step=6000 epoch=6 metrics={'time_sample_batch': 0.002897768974304199, 'time_algorithm_update': 0.009733452320098876, 'loss': 2.6195814577937124, 'time_step': 0.012690048694610595, 'init_value': 7.062119483947754, 'soft_opc': 3.2574292206759985, 'average_value': 8.943275085190525, 'environment': 21.0} step=6000\n",
      "2023-08-24 16:10:06 [info     ] Model parameters are saved to d3rlpy_logs\\DiscreteFQE_20230824160828\\model_6000.d3\n",
      "2023-08-24 16:10:23 [info     ] DiscreteFQE_20230824160828: epoch=7 step=7000 epoch=7 metrics={'time_sample_batch': 0.0029144351482391358, 'time_algorithm_update': 0.009924193620681762, 'loss': 2.8682443053126336, 'time_step': 0.012888495922088622, 'init_value': 9.525004386901855, 'soft_opc': 3.9121613644525777, 'average_value': 11.95976664526327, 'environment': 21.0} step=7000\n",
      "2023-08-24 16:10:23 [info     ] Model parameters are saved to d3rlpy_logs\\DiscreteFQE_20230824160828\\model_7000.d3\n",
      "2023-08-24 16:10:39 [info     ] DiscreteFQE_20230824160828: epoch=8 step=8000 epoch=8 metrics={'time_sample_batch': 0.002839794397354126, 'time_algorithm_update': 0.009571016073226928, 'loss': 3.1409757494926454, 'time_step': 0.012474626302719116, 'init_value': 10.81927490234375, 'soft_opc': 4.640018051901322, 'average_value': 13.81937466082487, 'environment': 21.0} step=8000\n",
      "2023-08-24 16:10:39 [info     ] Model parameters are saved to d3rlpy_logs\\DiscreteFQE_20230824160828\\model_8000.d3\n",
      "2023-08-24 16:10:56 [info     ] DiscreteFQE_20230824160828: epoch=9 step=9000 epoch=9 metrics={'time_sample_batch': 0.002895695686340332, 'time_algorithm_update': 0.009924015522003175, 'loss': 3.314269491314888, 'time_step': 0.012866572380065918, 'init_value': 11.723793029785156, 'soft_opc': 5.243507544121986, 'average_value': 14.659915286666712, 'environment': 21.0} step=9000\n",
      "2023-08-24 16:10:56 [info     ] Model parameters are saved to d3rlpy_logs\\DiscreteFQE_20230824160828\\model_9000.d3\n",
      "2023-08-24 16:11:13 [info     ] DiscreteFQE_20230824160828: epoch=10 step=10000 epoch=10 metrics={'time_sample_batch': 0.002838890552520752, 'time_algorithm_update': 0.009558967351913451, 'loss': 3.7244085805416107, 'time_step': 0.012453673601150513, 'init_value': 12.747756958007812, 'soft_opc': 5.9716922776349595, 'average_value': 14.125612393068604, 'environment': 21.0} step=10000\n",
      "2023-08-24 16:11:13 [info     ] Model parameters are saved to d3rlpy_logs\\DiscreteFQE_20230824160828\\model_10000.d3\n"
     ]
    }
   ],
   "source": [
    "dataset =getDataset()\n",
    "dqn = d3rlpy.load_learnable(\"d3rlpy_logs\\DQN_20230823233823\\model_10000.d3\")\n",
    "ddqn = d3rlpy.load_learnable(\"d3rlpy_logs\\DoubleDQN_20230823232426\\model_9000.d3\")\n",
    "# sac = d3rlpy.load_learnable(\"d3rlpy_logs\\DiscreteSAC_20230823230828\\model_7000.d3\"),\n",
    "bcq = d3rlpy.load_learnable(\"d3rlpy_logs\\DiscreteBCQ_20230823231237\\model_10000.d3\")\n",
    "cql = d3rlpy.load_learnable(\"d3rlpy_logs\\DiscreteCQL_20230823231554\\model_10000.d3\")\n",
    "evaluation_policies = [\n",
    "    {\"name\": \"DQN\", \"policy\": dqn},\n",
    "    {\"name\": \"DDQN\", \"policy\": ddqn},\n",
    "    # {\"name\": \"SAC\", \"policy\": sac},\n",
    "    {\"name\": \"BCQ\", \"policy\": bcq},\n",
    "    {\"name\": \"CQL\", \"policy\": cql},\n",
    "]\n",
    "init_values_dict = {}\n",
    "soft_opcs_dict = {}\n",
    "average_value_dict = {}\n",
    "environment_dict = {}\n",
    "for policy_info in evaluation_policies:\n",
    "    policy_name = policy_info[\"name\"]  # 获取策略名称\n",
    "    policy = policy_info[\"policy\"]\n",
    "    print(policy)\n",
    "    fqe = d3rlpy.ope.DiscreteFQE(algo=policy, config=d3rlpy.ope.FQEConfig())\n",
    "\n",
    "    env = Env(visible=False, level=str(level)).env\n",
    "    # start FQE training\n",
    "    fitter = fqe.fitter(\n",
    "    dataset,\n",
    "    n_steps=10000,\n",
    "    n_steps_per_epoch=1000,\n",
    "    evaluators={\n",
    "        \"init_value\": d3rlpy.metrics.InitialStateValueEstimationEvaluator(),\n",
    "        \"soft_opc\": d3rlpy.metrics.SoftOPCEvaluator(180),# set 180 for success return threshold here \n",
    "            \"average_value\": d3rlpy.metrics.AverageValueEstimationEvaluator(), \n",
    "            \"environment\": d3rlpy.metrics.EnvironmentEvaluator(env),\n",
    "    },\n",
    "    show_progress = False,\n",
    "    )\n",
    "    init_values = []\n",
    "    soft_opcs = []\n",
    "    average_value = []\n",
    "    environment = []\n",
    "    for epoch, metrics in fitter:\n",
    "        init_values.append(metrics['init_value'])\n",
    "        soft_opcs.append(metrics['soft_opc'])\n",
    "        average_value.append(metrics['average_value'])\n",
    "        environment.append(metrics['environment'])\n",
    "    init_values_dict[policy_name]=init_values\n",
    "    soft_opcs_dict[policy_name]=soft_opcs\n",
    "    average_value_dict[policy_name]=average_value\n",
    "    environment_dict[policy_name]=environment\n"
   ]
  },
  {
   "cell_type": "code",
   "execution_count": 18,
   "metadata": {},
   "outputs": [
    {
     "data": {
      "image/png": "[encoded data removed]",
      "text/plain": [
       "<Figure size 640x480 with 1 Axes>"
      ]
     },
     "metadata": {},
     "output_type": "display_data"
    }
   ],
   "source": [
    "x = list(range(1, n_epochs+1))\n",
    "for policy_info in evaluation_policies:\n",
    "    policy = policy_info[\"name\"]  # 获取策略名称\n",
    "    plt.plot(x, init_values_dict[policy], label=policy)\n",
    "\n",
    "plt.xlabel('epochs')\n",
    "plt.ylabel('init_values')\n",
    "plt.title('init_values')\n",
    "plt.legend()\n",
    "plt.show()"
   ]
  },
  {
   "cell_type": "code",
   "execution_count": 19,
   "metadata": {},
   "outputs": [
    {
     "data": {
      "image/png": "[encoded data removed]",
      "text/plain": [
       "<Figure size 640x480 with 1 Axes>"
      ]
     },
     "metadata": {},
     "output_type": "display_data"
    }
   ],
   "source": [
    "x = list(range(1, n_epochs+1))\n",
    "for policy_info in evaluation_policies:\n",
    "    policy = policy_info[\"name\"]  # 获取策略名称\n",
    "    plt.plot(x, soft_opcs_dict[policy], label=policy)\n",
    "\n",
    "plt.xlabel('epochs')\n",
    "plt.ylabel('init_values')\n",
    "plt.title('init_values')\n",
    "plt.legend()\n",
    "plt.show()"
   ]
  },
  {
   "cell_type": "code",
   "execution_count": 20,
   "metadata": {},
   "outputs": [
    {
     "data": {
      "image/png": "[encoded data removed]",
      "text/plain": [
       "<Figure size 640x480 with 1 Axes>"
      ]
     },
     "metadata": {},
     "output_type": "display_data"
    }
   ],
   "source": [
    "x = list(range(1, n_epochs+1))\n",
    "for policy_info in evaluation_policies:\n",
    "    policy = policy_info[\"name\"]  # 获取策略名称\n",
    "    plt.plot(x, average_value_dict[policy], label=policy)\n",
    "\n",
    "plt.xlabel('epochs')\n",
    "plt.ylabel('init_values')\n",
    "plt.title('init_values')\n",
    "plt.legend()\n",
    "plt.show()"
   ]
  },
  {
   "cell_type": "code",
   "execution_count": null,
   "metadata": {},
   "outputs": [],
   "source": [
    "x = list(range(1, n_epochs+1))\n",
    "for policy_info in evaluation_policies:\n",
    "    policy = policy_info[\"name\"]  # 获取策略名称\n",
    "    plt.plot(x, environment_dict[policy], label=policy)\n",
    "\n",
    "plt.xlabel('epochs')\n",
    "plt.ylabel('init_values')\n",
    "plt.title('init_values')\n",
    "plt.legend()\n",
    "plt.show()"
   ]
  },
  {
   "cell_type": "markdown",
   "metadata": {},
   "source": [
    "### 2.4 Validation\n",
    "Now let's see if the training did something. If the results are not as expected try recording more data or increasing the training epochs."
   ]
  },
  {
   "cell_type": "code",
   "execution_count": 14,
   "metadata": {},
   "outputs": [
    {
     "name": "stdout",
     "output_type": "stream",
     "text": [
      "Running on port 61218\n"
     ]
    },
    {
     "name": "stderr",
     "output_type": "stream",
     "text": [
      "d:\\marioai\\marioenv\\lib\\site-packages\\gym\\envs\\registration.py:555: UserWarning: WARN: The environment Marioai-v0 is out of date. You should consider upgrading to version `v2`.\n",
      "  logger.warn(\n"
     ]
    },
    {
     "name": "stdout",
     "output_type": "stream",
     "text": [
      "(200, 4)\n",
      "D:\\marioai\\exercise_offline_rl\\data\\datasets\\OneCliffLevel.h5\n",
      "D:\\marioai\\exercise_offline_rl\\data\\datasets\\RoughTerrainLevel.h5\n",
      "observation_shape:  (800,)\n",
      "dataset_info.action_size:  13\n"
     ]
    },
    {
     "name": "stderr",
     "output_type": "stream",
     "text": [
      "d:\\marioai\\marioenv\\lib\\site-packages\\gym\\utils\\passive_env_checker.py:187: UserWarning: WARN: Future gym versions will require that `Env.reset` can be passed `options` to allow the environment initialisation to be passed additional information.\n",
      "  logger.warn(\n",
      "d:\\marioai\\marioenv\\lib\\site-packages\\gym\\utils\\passive_env_checker.py:165: UserWarning: WARN: The obs returned by the `reset()` method is not within the observation space.\n",
      "  logger.warn(f\"{pre} is not within the observation space.\")\n",
      "d:\\marioai\\marioenv\\lib\\site-packages\\gym\\utils\\passive_env_checker.py:233: DeprecationWarning: `np.bool8` is a deprecated alias for `np.bool_`.  (Deprecated NumPy 1.24)\n",
      "  if not isinstance(terminated, (bool, np.bool8)):\n",
      "d:\\marioai\\marioenv\\lib\\site-packages\\gym\\utils\\passive_env_checker.py:165: UserWarning: WARN: The obs returned by the `step()` method is not within the observation space.\n",
      "  logger.warn(f\"{pre} is not within the observation space.\")\n"
     ]
    },
    {
     "name": "stdout",
     "output_type": "stream",
     "text": [
      "finished episode, total_reward: 25\n",
      "Window closed.\n"
     ]
    }
   ],
   "source": [
    "env_show = Env(visible=True, level=str(level)).env\n",
    "\n",
    "dqn = d3rlpy.algos.DQNConfig(learning_rate=learning_rate, gamma=gamma,\n",
    "          target_update_interval=target_update_interval,\n",
    "          batch_size=batch_size).create()\n",
    "dqn.build_with_dataset(getDataset())\n",
    "\n",
    "# dqn.load_model(model_file)\n",
    "dqn.load_model(\"data\\models\\CQL_marioai_OneCliffLevel_0.99_0.0003_3000_10.pt\")\n",
    "\n",
    "try:\n",
    "    while True:\n",
    "        observation, _ = env_show.reset()\n",
    "\n",
    "        done = False\n",
    "        total_reward = 0\n",
    "        while not done:\n",
    "            predict_action = dqn.predict(observation[np.newaxis, :])[0]\n",
    "            observation, reward, done, truncated, info = env_show.step(predict_action)\n",
    "            total_reward += reward\n",
    "        print(f'finished episode, total_reward: {total_reward}')\n",
    "except ConnectionResetError:\n",
    "    print(\"Window closed.\") "
   ]
  },
  {
   "cell_type": "code",
   "execution_count": 40,
   "metadata": {},
   "outputs": [
    {
     "name": "stdout",
     "output_type": "stream",
     "text": [
      "Running on port 55652\n",
      "(200, 4)\n",
      "D:\\marioai\\exercise_offline_rl\\data\\datasets\\OneCliffLevel.h5\n",
      "D:\\marioai\\exercise_offline_rl\\data\\datasets\\OneCliffLevel.random.h5\n",
      "observation_shape:  (800,)\n",
      "dataset_info.action_size:  13\n",
      "finished episode, total_reward: 34\n",
      "finished episode, total_reward: 34\n",
      "Window closed.\n"
     ]
    }
   ],
   "source": [
    "env_show = Env(visible=True, level=str(level)).env\n",
    "\n",
    "ddqn = d3rlpy.algos.DoubleDQNConfig(learning_rate=learning_rate, gamma=gamma,\n",
    "          target_update_interval=target_update_interval,\n",
    "          batch_size=batch_size).create()\n",
    "ddqn.build_with_dataset(getDataset())\n",
    "\n",
    "# dqn.load_model(model_file)\n",
    "ddqn.load_model(\"data\\models\\DDQN_marioai_OneCliffLevel_0.99_0.0003_3000_10.pt\")\n",
    "\n",
    "try:\n",
    "    while True:\n",
    "        observation, _ = env_show.reset()\n",
    "\n",
    "        done = False\n",
    "        total_reward = 0\n",
    "        while not done:\n",
    "            predict_action = ddqn.predict(observation[np.newaxis, :])[0]\n",
    "            observation, reward, done, truncated, info = env_show.step(predict_action)\n",
    "            total_reward += reward\n",
    "        print(f'finished episode, total_reward: {total_reward}')\n",
    "except ConnectionResetError:\n",
    "    print(\"Window closed.\")"
   ]
  },
  {
   "cell_type": "markdown",
   "metadata": {},
   "source": [
    "## 3. Offline RL vs Online RL \n",
    "\n",
    "Now we want to compare the approach from the first exercise where an online Q-Learner was used with the results we were able to achieve with the offline RL approach demonstrated above.\n",
    "\n",
    "![Gif](https://1.bp.blogspot.com/-O0FvK3zJd9w/XpXqiJduwyI/AAAAAAAAFtM/5hxzdWOoSLw5sd5vEgMsiGVJSATKx1oEgCLcBGAsYHQ/s640/OFFLINE%2BRL%2Bfig1%2B05b.gif)\n"
   ]
  },
  {
   "cell_type": "markdown",
   "metadata": {},
   "source": [
    "### 3.1 Reproducibility\n",
    "To compare as fairly as possible we ran both the Online Q-Learner as well as the offline Deep Q-Network until a plateau of performance has been reached.\n",
    "- The online Q-Learner was able to train for 10.000 episodes per level while being able to interact with the environment\n",
    "- The DQN was fed <1 hour (~360 episodes) of human playtime per level and was not allowed to interact with the environment while training\n",
    "- Both models were using the same reward settings\n"
   ]
  },
  {
   "cell_type": "markdown",
   "metadata": {},
   "source": [
    "### 3.2 Easy level\n",
    "\n",
    "|  | Reward | Video |\n",
    "| -------- | -------- | -------- |\n",
    "| Q-Learner  | 232     | ![Gif](https://raw.githubusercontent.com/koerners/marioai/master/exercise_offline_rl/data/jupyter/rough_terrain_q_learner_232.gif)    |\n",
    "| Deep Q-Network  | 280    | ![Gif](https://raw.githubusercontent.com/koerners/marioai/master/exercise_offline_rl/data/jupyter/rough_terrain_dqn_280.gif)    |\n",
    "\n",
    "With sufficient training, neither model struggles with the easy level. However, the model fed with player generated data shows better anticipation of jumps which leads to a better overall result."
   ]
  },
  {
   "cell_type": "markdown",
   "metadata": {},
   "source": [
    "### 3.3 Medium level\n",
    "\n",
    "|  | Reward | Video |\n",
    "| -------- | -------- | -------- |\n",
    "| Q-Learner  | 176     | ![Gif](https://raw.githubusercontent.com/koerners/marioai/master/exercise_offline_rl/data/jupyter/cliff_and_enemies_q_learner_176.gif)    |\n",
    "| Deep Q-Network  | 193    | ![Gif](https://raw.githubusercontent.com/koerners/marioai/master/exercise_offline_rl/data/jupyter/cliff_and_enemies_dqn_193.gif)    |\n",
    "\n",
    "In the medium level, both models behave similarly to the easy level. While the Online Learner seems to have a better strategy to avoid enemies, the Offline Learner has the better jumping performance leading to a better overall score as it is quicker to finish the level."
   ]
  },
  {
   "cell_type": "markdown",
   "metadata": {},
   "source": [
    "### 3.4 Hard level\n",
    "|  | Reward | Video |\n",
    "| -------- | -------- | -------- |\n",
    "| Q-Learner  | -559     | ![Gif](https://raw.githubusercontent.com/koerners/marioai/master/exercise_offline_rl/data/jupyter/climb_q_learner_-559.gif)    |\n",
    "| Deep Q-Network  | -34    | ![Gif](https://raw.githubusercontent.com/koerners/marioai/master/exercise_offline_rl/data/jupyter/climb_dqn_-34.gif)    |\n",
    "\n",
    "Neither model manages to complete the really hard level we tested them on. It is however interesting to observe the different strategies they applied. While the Q-Learner shows a very promising leap to the middle platform, failing to reach the final platform it seems to just give up and wait for the time to run out leading to a high time punishment and therefore an extremely low score. The offline trained model while still failing to complete the level, has developed a strategy to avoid the high time punishment by committing suicide as soon as possible."
   ]
  },
  {
   "cell_type": "markdown",
   "metadata": {},
   "source": [
    "### 3.5 Reward Summary\n",
    "\n",
    "![Summary](https://raw.githubusercontent.com/koerners/marioai/master/exercise_offline_rl/data/jupyter/level-summary.png)\n",
    "\n",
    "\n"
   ]
  },
  {
   "cell_type": "markdown",
   "metadata": {},
   "source": [
    "### 3.6 Performance over 100 levels\n",
    "\n",
    "To compare how well the different methods are able to generalize, we let both the online Q-Learner and the offline DQN train on a single level (the easy level above) and then let them play 100 randomly generated levels (including the three levels above).\n",
    "\n",
    "The model obtained by Q-Learning is only able to beat a single level (presumably the one it was trained on) which indicates that the model highly overfits the level used for training.\n",
    "\n",
    "The model produced by the DQN using user-supplied data on the other hand is able to beat 12 out of the 100 levels and manages to obtain a positive reward on 21 of them. While that number may still not be terribly impressive, it shows that the offline approach is able to generalize good enough to beat levels it has never seen before and far surpasses what the Q-Learner was able to achieve.\n",
    "\n",
    "The plot below shows the total reward achieved by the offline and online method for each level. Here we can also see that the offline method is usually able to obtain a higher reward than the online method. This means that either the offline agent is able to progress further into the level or that the online learner gets stuck somewhere while the offline learner prefers a quick death like in the hard level above.\n",
    "\n",
    "![Comparison: Achieved Reward](https://raw.githubusercontent.com/koerners/marioai/master/exercise_offline_rl/data/jupyter/eval.png)\n"
   ]
  },
  {
   "cell_type": "markdown",
   "metadata": {},
   "source": [
    "## 4. Conclusion\n",
    "\n",
    "While achieving slightly better results than the online RL approach in the easy and medium level, the offline DQN approach was not able to perform any better than the online implementation in the hard level we tested them both on.\n",
    "Our guess would be the lack of training data as mastering a level of this complexity would require a level of understanding of the environment that the network was not able to abstract from the data we were able to provide.\n",
    "This also demonstrates the biggest issue with the offline RL approach: it's high dependence on good and plentiful data.\n",
    "Creating such data is a time-consuming and often times an expensive endeavor.\n",
    "\n",
    "Nevertheless, even with limited data the offline approach was still able to generalize better than the online approach, as we have learned from our evaluation on random levels.\n",
    "We also believe that there is room to improve for the offline approach even without providing additional data.\n",
    "For example, we expect that the training results with our limited amount of data might be improved by adding a Convolutional Neural Network to the DQN.\n",
    "This might lead to a precise Pixel recognition of the matrix that our\n",
    "agent perceives thus leading to better reactions in certain situations with the training data of one balanced level which the player faces different situation.\n",
    "\n",
    "\n",
    "In the real world offline RL is often times the only sensible way to use an ML model as online learning would simply be too dangerous or slow. \n",
    "However, this comes with the price of the agent not being able to explore different approaches on its own meaning an often times subpar training result.\n",
    "Companies like Tesla have acknowledged this issue and have been training their self-driving cars in a life like simulated environment in which they reproduce difficult situations the car might encounter to explore without any real world damages. [[3]](https://youtu.be/11QXiJ8ORe8?t=3187)"
   ]
  },
  {
   "cell_type": "markdown",
   "metadata": {},
   "source": [
    "![Thanks](https://media4.giphy.com/media/1mssFONYwmBlJy1DAv/giphy.gif?cid=ecf05e47fq7b3e8nbn49rxb2hj1f8qy627umny603h7tsi8f&rid=giphy.gif&ct=g)"
   ]
  }
 ],
 "metadata": {
  "interpreter": {
   "hash": "4fefe5704b33e4500f5833ae6032bcef53ee790cf4ffa6448116d63501fea73e"
  },
  "kernelspec": {
   "display_name": "Python 3",
   "language": "python",
   "name": "python3"
  },
  "language_info": {
   "codemirror_mode": {
    "name": "ipython",
    "version": 3
   },
   "file_extension": ".py",
   "mimetype": "text/x-python",
   "name": "python",
   "nbconvert_exporter": "python",
   "pygments_lexer": "ipython3",
   "version": "3.10.1"
  }
 },
 "nbformat": 4,
 "nbformat_minor": 2
}
