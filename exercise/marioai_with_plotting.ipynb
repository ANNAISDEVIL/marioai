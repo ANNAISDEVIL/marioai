{
 "cells": [
  {
   "cell_type": "markdown",
   "metadata": {},
   "source": [
    "# Training an Agent to play Super Mario\n",
    "---\n",
    "\n",
    "In this exercise you are going to train a Q-Learning agent on the ```gym-marioai``` domain.  \n",
    "gym_marioai provides a python interface to interact with the MarioAI engine in a comfortable way. The engine itself is implemented in java, and the ```.jar``` of the engine needs to be started separately.  \n",
    "\n",
    "### Installation\n",
    "Requirements: Java 8 runtime environment, python 3.?  \n",
    "You will be provided with both the .jar and the gym-marioai python package."
   ]
  },
  {
   "cell_type": "markdown",
   "metadata": {},
   "source": [
    "### Running the MarioAI server:\n",
    "navigate to the folder containing ```marioai-server.jar```, then run the following:  \n",
    "```java -jar ./marioai-server.jar```\n",
    "\n",
    "### Alternatively:\n",
    "To run the server, run the following cell. It will launch the jar containing the Java engine."
   ]
  },
  {
   "cell_type": "code",
   "execution_count": 2,
   "metadata": {},
   "outputs": [],
   "source": [
    "from subprocess import Popen\n",
    "server_process = Popen(\n",
    "    ['java', '-jar', '../marioai-server/target/marioai-server-0.1-jar-with-dependencies.jar'])\n"
   ]
  },
  {
   "cell_type": "code",
   "execution_count": 4,
   "metadata": {},
   "outputs": [],
   "source": [
    "# to run the jar version which is included in the gym_marioai python package:\n",
    "# (needs to be updated when changes to the sources are made)\n",
    "\n",
    "#from gym_marioai import server\n",
    "#server_process = server.run_server_in_background(8080)"
   ]
  },
  {
   "cell_type": "markdown",
   "metadata": {},
   "source": [
    "### Closing the MarioAI server: (this also happens automatically by closing the render window)\n",
    "To kill the server process comment in the following cell and run it. Do not do this yet though ;)."
   ]
  },
  {
   "cell_type": "code",
   "execution_count": 2,
   "metadata": {},
   "outputs": [],
   "source": [
    "#server_process.kill()"
   ]
  },
  {
   "cell_type": "code",
   "execution_count": 3,
   "metadata": {},
   "outputs": [],
   "source": [
    "import numpy as np\n",
    "import gym\n",
    "import gym_marioai\n",
    "\n",
    "from qlearner import QLearner"
   ]
  },
  {
   "cell_type": "markdown",
   "metadata": {},
   "source": [
    "---\n",
    "# Task:\n",
    "In this exercise, we want to examine how we can teach an agent specific behavior by shaping the reward function.\n",
    "An implementation of the $Q(\\lambda)$ learning algorithm is provided, so you don't need to implement it yourself.  \n",
    "Specifically, we want to teach an agent to overcome a gap in the environment. But we do not want the agent to just finish the level afterwards, instead it should repeatedly jump back and forth across the gap and thereby collect the reward every time it manages to jump from left to right.  \n",
    "As such, the objective of this task is to maximize the number of cliff jumps per episode.  \n",
    "\n",
    "Can you think of possible problems that may occur in the default setting?"
   ]
  },
  {
   "cell_type": "markdown",
   "metadata": {},
   "source": [
    "### Training Parameters"
   ]
  },
  {
   "cell_type": "code",
   "execution_count": 4,
   "metadata": {},
   "outputs": [],
   "source": [
    "# constant, should not be changed\n",
    "n_episodes = 5000\n",
    "alpha = 0.1\n",
    "gamma = 0.99\n",
    "lmbda = 0.75\n",
    "epsilon_start = 0.5\n",
    "epsilon_end = 0.01\n",
    "epsilon_decay_length = n_episodes / 2\n",
    "decay_step = (epsilon_end - epsilon_start) / epsilon_decay_length\n",
    "\n",
    "#level = 'oneCliffLevel'\n",
    "#path = gym_marioai.levels.one_cliff_level\n",
    "#rf_width = 20\n",
    "#rf_height = 10\n",
    "\n",
    "# can be finetuned\n",
    "# (TODO these are working parameters, change the initial values for the exercise)\n",
    "# the trace parameter is the number of consecutive observations that are used as \n",
    "# state information (k-th order history)\n",
    "trace = 2\n",
    "\n",
    "# reward function params\n",
    "prog = 1\n",
    "timestep = -1\n",
    "cliff = 1000\n",
    "win = -10\n",
    "dead = -10\n",
    "\n",
    "reward_settings = gym_marioai.RewardSettings(\n",
    "    progress=prog, timestep=timestep, cliff=cliff, win=win, dead=dead)"
   ]
  },
  {
   "cell_type": "code",
   "execution_count": 5,
   "metadata": {},
   "outputs": [],
   "source": [
    "###################################\n",
    "#       environment setup\n",
    "###################################\n",
    "env = gym.make('Marioai-v1', render=False,\n",
    "               #level_path=path,\n",
    "               reward_settings=reward_settings,\n",
    "               #compact_observation=True,\n",
    "               trace_length=trace,\n",
    "               #rf_width=rf_width, rf_height=rf_height)\n",
    "              )"
   ]
  },
  {
   "cell_type": "code",
   "execution_count": 6,
   "metadata": {},
   "outputs": [],
   "source": [
    "##################################\n",
    "# Training Loop\n",
    "##################################\n",
    "def train(env, agent):\n",
    "    try:\n",
    "        all_rewards = np.zeros([n_episodes])\n",
    "        all_wins = np.zeros([n_episodes])\n",
    "        all_steps = np.zeros([n_episodes])\n",
    "        all_jumps = np.zeros([n_episodes])\n",
    "        \n",
    "        for e in range(n_episodes):\n",
    "            done = False\n",
    "            info = {}\n",
    "            total_reward = 0\n",
    "            steps = 0\n",
    "            epsilon = max(epsilon_end, epsilon_start + e * decay_step)\n",
    "            \n",
    "            state = env.reset()\n",
    "            action = agent.choose_action(state, epsilon)\n",
    "            \n",
    "            while not done:\n",
    "                next_state, reward, done, info = env.step(action)\n",
    "                total_reward += reward\n",
    "                next_action = agent.choose_action(next_state, epsilon)\n",
    "                agent.learn(state, action, reward, next_state, next_action)\n",
    "                \n",
    "                state, action = next_state, next_action\n",
    "                steps += 1\n",
    "                \n",
    "            # store statistics for later use\n",
    "            all_rewards[e] = total_reward\n",
    "            all_wins[e] = 1 if info['win'] else 0\n",
    "            all_steps[e] = info['steps']\n",
    "            all_jumps[e] = info['cliff_jumps']\n",
    "\n",
    "            if e % 100 == 99:\n",
    "                # print training statistics of the last 100 episodes\n",
    "                avg_reward = all_rewards[e-99:e+1].mean()\n",
    "                avg_wins = all_wins[e-99:e+1].mean()\n",
    "                avg_steps = all_steps[e-99:e+1].mean()\n",
    "                avg_jumps = all_jumps[e-99:e+1].mean()\n",
    "                \n",
    "                print(f'Episode: {e+1} Eps: {epsilon:.3f}', f'Avg Reward: {avg_reward:>4.2f}',\n",
    "                    f'Avg steps: {avg_steps:>4.2f}', f'Win% : {avg_wins:3.2f}',\n",
    "                    f'Cliff jumps: {avg_jumps:.1f}', f'States seen: {agent.Q.num_states}    ', end='\\r')\n",
    "        print()        \n",
    "        return all_rewards, all_wins, all_steps, all_jumps\n",
    "    except KeyboardInterrupt:\n",
    "        pass"
   ]
  },
  {
   "cell_type": "code",
   "execution_count": 7,
   "metadata": {},
   "outputs": [
    {
     "name": "stdout",
     "output_type": "stream",
     "text": [
      "Episode: 5000 Eps: 0.010 Avg Reward: 3617.15 Avg steps: 324.48 Win% : 0.03 Cliff jumps: 3.9 States seen: 1149    \n"
     ]
    }
   ],
   "source": [
    "#agent = QLearner(env, alpha, gamma, lmbda)\n",
    "#rewards, wins, steps, jumps = train(env, agent)"
   ]
  },
  {
   "cell_type": "code",
   "execution_count": 8,
   "metadata": {
    "scrolled": true
   },
   "outputs": [
    {
     "name": "stdout",
     "output_type": "stream",
     "text": [
      "Episode: 5000 Eps: 0.010 Avg Reward: 9227.23 Avg steps: 448.00 Win% : 0.18 Cliff jumps: 9.6 States seen: 1143      \n",
      "training 0 finished.\n",
      "Episode: 5000 Eps: 0.010 Avg Reward: 904.83 Avg steps: 120.65 Win% : 0.96 Cliff jumps: 1.0 States seen: 1118    \n",
      "training 1 finished.\n",
      "Episode: 5000 Eps: 0.010 Avg Reward: 4884.48 Avg steps: 323.31 Win% : 0.00 Cliff jumps: 5.2 States seen: 1117    \n",
      "training 2 finished.\n",
      "Episode: 5000 Eps: 0.010 Avg Reward: 721.23 Avg steps: 296.28 Win% : 0.06 Cliff jumps: 1.0 States seen: 1142    \n",
      "training 3 finished.\n",
      "Episode: 5000 Eps: 0.010 Avg Reward: 927.80 Avg steps: 128.80 Win% : 0.99 Cliff jumps: 1.0 States seen: 1118    \n",
      "training 4 finished.\n"
     ]
    }
   ],
   "source": [
    "# conduct multiple runs to plot a mean curve later\n",
    "n_runs = 5\n",
    "stats = []\n",
    "\n",
    "for i in range(n_runs):\n",
    "    agent = QLearner(env, alpha, gamma, lmbda)\n",
    "    rewards, wins, steps, jumps = train(env, agent)\n",
    "    \n",
    "    print(f'training {i} finished.')\n",
    "    stats.append(jumps)"
   ]
  },
  {
   "cell_type": "markdown",
   "metadata": {},
   "source": [
    "---\n",
    "### Optional: Save the model for later use"
   ]
  },
  {
   "cell_type": "code",
   "execution_count": null,
   "metadata": {},
   "outputs": [],
   "source": [
    "#agent = QLearner(env, alpha, gamma, lmbda)\n",
    "#rewards, wins, steps, jumps = train(env, agent)"
   ]
  },
  {
   "cell_type": "code",
   "execution_count": null,
   "metadata": {},
   "outputs": [],
   "source": [
    "agent.save('./test_model.p')"
   ]
  },
  {
   "cell_type": "markdown",
   "metadata": {},
   "source": [
    "---\n",
    "## Plot the results"
   ]
  },
  {
   "cell_type": "code",
   "execution_count": 9,
   "metadata": {},
   "outputs": [
    {
     "data": {
      "image/png": "[encoded data removed]",
      "text/plain": [
       "<Figure size 432x288 with 1 Axes>"
      ]
     },
     "metadata": {
      "needs_background": "light"
     },
     "output_type": "display_data"
    }
   ],
   "source": [
    "import matplotlib.pyplot as plt\n",
    "\n",
    "def smoothen(arr, w):\n",
    "    cumsum_vec = np.cumsum(np.insert(arr, 0, 0)) \n",
    "    ma_vec = (cumsum_vec[w:] - cumsum_vec[:-w]) / w\n",
    "    return ma_vec\n",
    "\n",
    "stats = np.array(stats)\n",
    "\n",
    "mean = stats.mean(0)\n",
    "# std = all_jumps.std(0)\n",
    "# plt.fill_between(np.arange(0, n_episodes), mean-std, mean+std)\n",
    "\n",
    "plt.plot(smoothen(mean, 50))\n",
    "plt.xlabel(\"episode\")\n",
    "plt.ylabel(\"avg cliff jumps per episode\")\n",
    "plt.grid()\n",
    "#plt.savefig('./experiment_results/traces_1-3.png', bbox_inches='tight')\n",
    "plt.show()\n"
   ]
  },
  {
   "cell_type": "markdown",
   "metadata": {},
   "source": [
    "---\n",
    "## Replay\n",
    "You can either use the agent model which is kept in memory, or load a previous model from disk:"
   ]
  },
  {
   "cell_type": "code",
   "execution_count": null,
   "metadata": {},
   "outputs": [],
   "source": [
    "# agent.load('./path/to/test_model.p')"
   ]
  },
  {
   "cell_type": "code",
   "execution_count": 8,
   "metadata": {},
   "outputs": [
    {
     "ename": "RuntimeError",
     "evalue": "socket connection broken",
     "output_type": "error",
     "traceback": [
      "\u001b[0;31m---------------------------------------------------------------------------\u001b[0m",
      "\u001b[0;31mRuntimeError\u001b[0m                              Traceback (most recent call last)",
      "\u001b[0;32m<ipython-input-8-7452b2a2cd24>\u001b[0m in \u001b[0;36m<module>\u001b[0;34m\u001b[0m\n\u001b[1;32m      8\u001b[0m     \u001b[0;32mwhile\u001b[0m \u001b[0;32mnot\u001b[0m \u001b[0mdone\u001b[0m\u001b[0;34m:\u001b[0m\u001b[0;34m\u001b[0m\u001b[0;34m\u001b[0m\u001b[0m\n\u001b[1;32m      9\u001b[0m         \u001b[0maction\u001b[0m \u001b[0;34m=\u001b[0m \u001b[0magent\u001b[0m\u001b[0;34m.\u001b[0m\u001b[0mchoose_action\u001b[0m\u001b[0;34m(\u001b[0m\u001b[0mstate\u001b[0m\u001b[0;34m,\u001b[0m \u001b[0mepsilon\u001b[0m\u001b[0;34m=\u001b[0m\u001b[0;36m0\u001b[0m\u001b[0;34m)\u001b[0m\u001b[0;34m\u001b[0m\u001b[0;34m\u001b[0m\u001b[0m\n\u001b[0;32m---> 10\u001b[0;31m         \u001b[0mstate\u001b[0m\u001b[0;34m,\u001b[0m \u001b[0mreward\u001b[0m\u001b[0;34m,\u001b[0m \u001b[0mdone\u001b[0m\u001b[0;34m,\u001b[0m \u001b[0minfo\u001b[0m \u001b[0;34m=\u001b[0m \u001b[0menv\u001b[0m\u001b[0;34m.\u001b[0m\u001b[0mstep\u001b[0m\u001b[0;34m(\u001b[0m\u001b[0maction\u001b[0m\u001b[0;34m)\u001b[0m\u001b[0;34m\u001b[0m\u001b[0;34m\u001b[0m\u001b[0m\n\u001b[0m\u001b[1;32m     11\u001b[0m         \u001b[0mtotal_reward\u001b[0m \u001b[0;34m+=\u001b[0m \u001b[0mreward\u001b[0m\u001b[0;34m\u001b[0m\u001b[0;34m\u001b[0m\u001b[0m\n\u001b[1;32m     12\u001b[0m         \u001b[0msteps\u001b[0m \u001b[0;34m+=\u001b[0m \u001b[0;36m1\u001b[0m\u001b[0;34m\u001b[0m\u001b[0;34m\u001b[0m\u001b[0m\n",
      "\u001b[0;32m~/Workspace/marioai/gym-marioai/gym_marioai/envs/mario_env.py\u001b[0m in \u001b[0;36mstep\u001b[0;34m(self, action)\u001b[0m\n\u001b[1;32m    164\u001b[0m         \"\"\"\n\u001b[1;32m    165\u001b[0m         \u001b[0mself\u001b[0m\u001b[0;34m.\u001b[0m\u001b[0msocket\u001b[0m\u001b[0;34m.\u001b[0m\u001b[0msend_action\u001b[0m\u001b[0;34m(\u001b[0m\u001b[0maction\u001b[0m\u001b[0;34m)\u001b[0m\u001b[0;34m\u001b[0m\u001b[0;34m\u001b[0m\u001b[0m\n\u001b[0;32m--> 166\u001b[0;31m         \u001b[0mstate_msg\u001b[0m \u001b[0;34m=\u001b[0m \u001b[0mself\u001b[0m\u001b[0;34m.\u001b[0m\u001b[0msocket\u001b[0m\u001b[0;34m.\u001b[0m\u001b[0mreceive\u001b[0m\u001b[0;34m(\u001b[0m\u001b[0;34m)\u001b[0m\u001b[0;34m\u001b[0m\u001b[0;34m\u001b[0m\u001b[0m\n\u001b[0m\u001b[1;32m    167\u001b[0m         \u001b[0;32mfor\u001b[0m \u001b[0m_\u001b[0m \u001b[0;32min\u001b[0m \u001b[0mrange\u001b[0m\u001b[0;34m(\u001b[0m\u001b[0mself\u001b[0m\u001b[0;34m.\u001b[0m\u001b[0mrepeat_action_until_new_observation\u001b[0m\u001b[0;34m)\u001b[0m\u001b[0;34m:\u001b[0m\u001b[0;34m\u001b[0m\u001b[0;34m\u001b[0m\u001b[0m\n\u001b[1;32m    168\u001b[0m             \u001b[0;32mif\u001b[0m \u001b[0mstate_msg\u001b[0m\u001b[0;34m.\u001b[0m\u001b[0mstate\u001b[0m\u001b[0;34m.\u001b[0m\u001b[0mhash_code\u001b[0m \u001b[0;34m==\u001b[0m \u001b[0mself\u001b[0m\u001b[0;34m.\u001b[0m\u001b[0mlast_hash\u001b[0m\u001b[0;34m:\u001b[0m\u001b[0;34m\u001b[0m\u001b[0;34m\u001b[0m\u001b[0m\n",
      "\u001b[0;32m~/Workspace/marioai/gym-marioai/gym_marioai/protobuf_socket.py\u001b[0m in \u001b[0;36mreceive\u001b[0;34m(self)\u001b[0m\n\u001b[1;32m     79\u001b[0m         \u001b[0mbuf\u001b[0m \u001b[0;34m=\u001b[0m \u001b[0mself\u001b[0m\u001b[0;34m.\u001b[0m\u001b[0msock\u001b[0m\u001b[0;34m.\u001b[0m\u001b[0mrecv\u001b[0m\u001b[0;34m(\u001b[0m\u001b[0;36m10\u001b[0m\u001b[0;34m)\u001b[0m\u001b[0;34m\u001b[0m\u001b[0;34m\u001b[0m\u001b[0m\n\u001b[1;32m     80\u001b[0m         \u001b[0;32mif\u001b[0m \u001b[0mbuf\u001b[0m \u001b[0;32mis\u001b[0m \u001b[0;32mNone\u001b[0m \u001b[0;32mor\u001b[0m \u001b[0mbuf\u001b[0m \u001b[0;34m==\u001b[0m \u001b[0;34mb''\u001b[0m\u001b[0;34m:\u001b[0m\u001b[0;34m\u001b[0m\u001b[0;34m\u001b[0m\u001b[0m\n\u001b[0;32m---> 81\u001b[0;31m             \u001b[0;32mraise\u001b[0m \u001b[0mRuntimeError\u001b[0m\u001b[0;34m(\u001b[0m\u001b[0;34m\"socket connection broken\"\u001b[0m\u001b[0;34m)\u001b[0m\u001b[0;34m\u001b[0m\u001b[0;34m\u001b[0m\u001b[0m\n\u001b[0m\u001b[1;32m     82\u001b[0m \u001b[0;34m\u001b[0m\u001b[0m\n\u001b[1;32m     83\u001b[0m         \u001b[0mtotal_len\u001b[0m\u001b[0;34m,\u001b[0m \u001b[0moffset\u001b[0m \u001b[0;34m=\u001b[0m \u001b[0m_DecodeVarint32\u001b[0m\u001b[0;34m(\u001b[0m\u001b[0mbuf\u001b[0m\u001b[0;34m,\u001b[0m \u001b[0;36m0\u001b[0m\u001b[0;34m)\u001b[0m\u001b[0;34m\u001b[0m\u001b[0;34m\u001b[0m\u001b[0m\n",
      "\u001b[0;31mRuntimeError\u001b[0m: socket connection broken"
     ]
    }
   ],
   "source": [
    "for e in range(5):\n",
    "    done = False\n",
    "    info = {}\n",
    "    total_reward = 0\n",
    "    steps = 0\n",
    "    state = env.reset(render=True)\n",
    "\n",
    "    while not done:\n",
    "        action = agent.choose_action(state, epsilon=0)\n",
    "        state, reward, done, info = env.step(action)\n",
    "        total_reward += reward\n",
    "        steps += 1"
   ]
  },
  {
   "cell_type": "code",
   "execution_count": null,
   "metadata": {},
   "outputs": [],
   "source": []
  }
 ],
 "metadata": {
  "kernelspec": {
   "display_name": "Python 3",
   "language": "python",
   "name": "python3"
  },
  "language_info": {
   "codemirror_mode": {
    "name": "ipython",
    "version": 3
   },
   "file_extension": ".py",
   "mimetype": "text/x-python",
   "name": "python",
   "nbconvert_exporter": "python",
   "pygments_lexer": "ipython3",
   "version": "3.9.2"
  }
 },
 "nbformat": 4,
 "nbformat_minor": 4
}
