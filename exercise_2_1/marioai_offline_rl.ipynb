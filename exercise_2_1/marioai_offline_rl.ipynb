{
 "cells": [
  {
   "cell_type": "markdown",
   "source": [
    "# Training an agent to play Super Mario using player recorderd data"
   ],
   "metadata": {}
  },
  {
   "cell_type": "markdown",
   "source": [
    "In this exercise you will learn how to use player generated data to train a neural network to play Super Mario. The results will be evaluated against the results from the Q_Learner exercise. "
   ],
   "metadata": {}
  },
  {
   "cell_type": "markdown",
   "source": [
    "## 1. Generating data\n",
    "First, you will have to generate some data for the neural network to train with.\n",
    "You will have the most fun playing with a USB-Controller but if you have none, you can set the following variable to false to use the keyboard:"
   ],
   "metadata": {}
  },
  {
   "cell_type": "code",
   "execution_count": 2,
   "source": [
    "USE_GAMEPAD = False"
   ],
   "outputs": [],
   "metadata": {}
  },
  {
   "cell_type": "markdown",
   "source": [
    "// TODO: Steuerung erklären"
   ],
   "metadata": {}
  },
  {
   "cell_type": "code",
   "execution_count": 3,
   "source": [
    "import os\r\n",
    "import subprocess\r\n",
    "from d3rlpy.dataset import MDPDataset\r\n",
    "from gym_setup import Env\r\n",
    "from gamepad_controller import GamepadController\r\n",
    "from keyboard_controller import KeyboardController\r\n",
    "import numpy as np\r\n",
    "\r\n",
    "level = os.path.join(\"levels\", \"RoughTerrainLevel.lvl\") # TODO: Use a very easy level for this exercise\r\n",
    "\r\n",
    "try:\r\n",
    "    with subprocess.Popen(['java', '-jar', 'server.jar'], shell=True) as server:\r\n",
    "        env = Env(visible=True, port=8080, level=level, run_server=False).env\r\n",
    "        if USE_GAMEPAD:\r\n",
    "            controller = GamepadController(env)\r\n",
    "        else:\r\n",
    "            controller = KeyboardController(env)\r\n",
    "        while True:\r\n",
    "            observation = env.reset()\r\n",
    "            done = False\r\n",
    "            action = controller.read()\r\n",
    "\r\n",
    "            observations = [observation]\r\n",
    "            actions = [action]\r\n",
    "            rewards = [0]  # No reward at first time step, because no action was taken yet\r\n",
    "            terminals = [done]\r\n",
    "\r\n",
    "            while not done:\r\n",
    "                observation, reward, done, info = env.step(action)\r\n",
    "                action = controller.read()\r\n",
    "\r\n",
    "                observations.append(observation)\r\n",
    "                actions.append(action)\r\n",
    "                rewards.append(reward)\r\n",
    "                terminals.append(done)\r\n",
    "\r\n",
    "            dataset_path = os.path.join(\"data\", \"datasets\", os.path.split(level)[1] + \".h5\")\r\n",
    "            if os.path.isfile(dataset_path):\r\n",
    "                dataset = MDPDataset.load(dataset_path)\r\n",
    "                dataset.append(np.asarray(observations), np.asarray(actions), np.asarray(rewards),\r\n",
    "                                np.asarray(terminals))\r\n",
    "            else:\r\n",
    "                dataset = MDPDataset(np.asarray(observations), np.asarray(actions), np.asarray(rewards),\r\n",
    "                                        np.asarray(terminals), discrete_action=True)\r\n",
    "            dataset.dump(dataset_path)\r\n",
    "            stats = dataset.compute_stats()\r\n",
    "            mean = stats['return']['mean']\r\n",
    "            std = stats['return']['std']\r\n",
    "            print(f'mean: {mean}, std: {std}')\r\n",
    "except ConnectionResetError:\r\n",
    "    # Finish\r\n",
    "    pass\r\n"
   ],
   "outputs": [],
   "metadata": {}
  },
  {
   "cell_type": "markdown",
   "source": [
    "## 2. Use the generated data to train a policy\r\n",
    "Now that you have generated some data for the neural network to train with, let's begin with the training.\r\n",
    "For the purpose of this exercise we will use the Offline RL Python library d3rlpy."
   ],
   "metadata": {}
  },
  {
   "cell_type": "markdown",
   "source": [
    "### 2.1 Choosing an algorithm\r\n",
    "![DQN](https://raw.githubusercontent.com/koerners/marioai/master/exercise_2_1/data/jupyter/dqn.PNG)\r\n",
    "\r\n",
    "// TODO: Why we chose DQN\r\n"
   ],
   "metadata": {}
  },
  {
   "cell_type": "markdown",
   "source": [
    "### 2.2 Setup the training\n",
    "Let's setup some parameters before the training:"
   ],
   "metadata": {}
  },
  {
   "cell_type": "code",
   "execution_count": null,
   "source": [
    "from data.datasets.getDatasets import getDataset\r\n",
    "from gym_setup import Env\r\n",
    "import d3rlpy\r\n",
    "import pathlib\r\n",
    "from d3rlpy.metrics.scorer import evaluate_on_environment\r\n",
    "from sklearn.model_selection import train_test_split\r\n",
    "import copy\r\n",
    "import socket\r\n",
    "from contextlib import closing\r\n",
    "\r\n",
    "MODEL_DIR = pathlib.Path(\"data\", \"models\")\r\n",
    "if not MODEL_DIR.exists():\r\n",
    "    MODEL_DIR.mkdir(parents=True)\r\n",
    "\r\n",
    "# Environment settings\r\n",
    "port = 8081\r\n",
    "run_server = True\r\n",
    "visible = False\r\n",
    "\r\n",
    "# Training parameters\r\n",
    "gamma = 0.99\r\n",
    "learning_rate = 0.0003\r\n",
    "target_update_interval = 3000\r\n",
    "n_epochs = 1000\r\n",
    "test_size = 0.1\r\n",
    "batch_size = 2\r\n",
    "n_frames = 1\r\n",
    "n_steps = 40\r\n",
    "use_gpu = True"
   ],
   "outputs": [],
   "metadata": {}
  },
  {
   "cell_type": "markdown",
   "source": [
    "### 2.3 Training time!\r\n",
    "To start the training run the next cell. If you want to see the progress of your training you can adittionaly open a new terminal and run ``pipenv run board`` to see the Tensorboard."
   ],
   "metadata": {}
  },
  {
   "cell_type": "code",
   "execution_count": null,
   "source": [
    "    env = Env(visible=visible, port=8083, level=level, run_server=run_server).env\r\n",
    "\r\n",
    "    dataset = getDataset()\r\n",
    "\r\n",
    "    train_episodes, test_episodes = train_test_split(dataset, test_size=test_size)\r\n",
    "\r\n",
    "    dqn = d3rlpy.algos.DQN(learning_rate=learning_rate, gamma=gamma, use_gpu=use_gpu,\r\n",
    "                           target_update_interval=target_update_interval, batch_size=batch_size)\r\n",
    "\r\n",
    "    # train offline\r\n",
    "    dqn.build_with_dataset(dataset)\r\n",
    "    # set environment in scorer function\r\n",
    "    evaluate_scorer = evaluate_on_environment(env)\r\n",
    "    # evaluate algorithm on the environment\r\n",
    "    rewards = evaluate_scorer(dqn)\r\n",
    "    name = 'marioai_%s_%s_%s_%s_%s' % (level.split('/')[-1], gamma, learning_rate, target_update_interval, n_epochs)\r\n",
    "    currentMax = -100000\r\n",
    "    dqn_max = copy.deepcopy(dqn)\r\n",
    "\r\n",
    "    for epoch, metrics in (dqn.fitter(train_episodes, eval_episodes=test_episodes, tensorboard_dir='runs', experiment_name=name, n_epochs=n_epochs, scorers={'environment': evaluate_scorer})):\r\n",
    "        if metrics.get(\"environment\") > currentMax:\r\n",
    "            currentMax = metrics.get(\"environment\")\r\n",
    "            dqn_max.copy_q_function_from(dqn)\r\n",
    "        else:\r\n",
    "            dqn.copy_q_function_from(dqn_max)\r\n",
    "\r\n",
    "    model_file = pathlib.Path(MODEL_DIR, name + \".pt\")\r\n",
    "    dqn.save_model(model_file)"
   ],
   "outputs": [],
   "metadata": {}
  },
  {
   "cell_type": "markdown",
   "source": [
    "### 2.4 See what worked\r\n",
    "Now let's see if the training did something:"
   ],
   "metadata": {}
  },
  {
   "cell_type": "code",
   "execution_count": null,
   "source": [
    "env = Env(visible=True, level=level, port=8082).env\r\n",
    "dqn = DQN()\r\n",
    "dqn.build_with_dataset(getDataset())\r\n",
    "dqn.load_model('data/models/model.pt')\r\n",
    "\r\n",
    "while True:\r\n",
    "    observation = env.reset()\r\n",
    "    done = False\r\n",
    "    total_reward = 0\r\n",
    "    while not done:\r\n",
    "        observation, reward, done, info = env.step(dqn.predict([observation])[0])\r\n",
    "        total_reward += reward\r\n",
    "\r\n",
    "    print(f'finished episode, total_reward: {total_reward}')"
   ],
   "outputs": [],
   "metadata": {}
  },
  {
   "cell_type": "markdown",
   "source": [
    "## 3. Offline RL vs Online RL \r\n",
    "Now we want to compare the approach from exercise 1 where an online Q_Learner was used with the results one can get with the offline RL approach."
   ],
   "metadata": {}
  },
  {
   "cell_type": "markdown",
   "source": [
    "### 3.0 Reproducibility\r\n",
    "To compare as fairly as possible we ran both the Online Q_Learner as well as the offline Deep Q Network until a plateau of performance has been reached."
   ],
   "metadata": {}
  },
  {
   "cell_type": "markdown",
   "source": [
    "### 3.1 Easy level\r\n",
    "\r\n",
    "|  | Reward | Video |\r\n",
    "| -------- | -------- | -------- |\r\n",
    "| Q_Learner  | 232     | ![Gif](https://raw.githubusercontent.com/koerners/marioai/master/exercise_2_1/data/jupyter/rough_terrain_q_learner_232.gif)    |\r\n",
    "| Deep Q Network  | 280    | ![Gif](https://raw.githubusercontent.com/koerners/marioai/master/exercise_2_1/data/jupyter/rough_terrain_dqn_280.gif)    |\r\n"
   ],
   "metadata": {}
  },
  {
   "cell_type": "markdown",
   "source": [
    "### 3.2 Medium level\r\n",
    "\r\n",
    "|  | Reward | Video |\r\n",
    "| -------- | -------- | -------- |\r\n",
    "| Q_Learner  | 176     | ![Gif](https://raw.githubusercontent.com/koerners/marioai/master/exercise_2_1/data/jupyter/cliff_and_enemies_q_learner_176.gif)    |\r\n",
    "| Deep Q Network  | 193    | ![Gif](https://raw.githubusercontent.com/koerners/marioai/master/exercise_2_1/data/jupyter/cliff_and_enemies_dqn_193.gif)    |"
   ],
   "metadata": {}
  },
  {
   "cell_type": "markdown",
   "source": [
    "### 3.3 Hard level\r\n",
    "|  | Reward | Video |\r\n",
    "| -------- | -------- | -------- |\r\n",
    "| Q_Learner  | -559     | ![Gif](https://raw.githubusercontent.com/koerners/marioai/master/exercise_2_1/data/jupyter/climb_q_learner_-559.gif)    |\r\n",
    "| Deep Q Network  | -34    | ![Gif](https://raw.githubusercontent.com/koerners/marioai/master/exercise_2_1/data/jupyter/climb_dqn_-34.gif)    |"
   ],
   "metadata": {}
  },
  {
   "cell_type": "markdown",
   "source": [
    "### 3.4 Summary\r\n",
    "\r\n",
    "![Summary](https://raw.githubusercontent.com/koerners/marioai/master/exercise_2_1/data/jupyter/level-summary.png)\r\n",
    "\r\n",
    "\r\n",
    "// TODO: Explain\r\n"
   ],
   "metadata": {}
  },
  {
   "cell_type": "markdown",
   "source": [
    "### 3.5 Performance over 100 level\r\n",
    "\r\n",
    "// TODO"
   ],
   "metadata": {}
  },
  {
   "cell_type": "markdown",
   "source": [
    "## 4. Conclusion"
   ],
   "metadata": {}
  }
 ],
 "metadata": {
  "kernelspec": {
   "name": "python3",
   "display_name": "Python 3.8.2 64-bit ('marioai-iKFqD-69': pipenv)"
  },
  "language_info": {
   "codemirror_mode": {
    "name": "ipython",
    "version": 3
   },
   "file_extension": ".py",
   "mimetype": "text/x-python",
   "name": "python",
   "nbconvert_exporter": "python",
   "pygments_lexer": "ipython3",
   "version": "3.8.2"
  },
  "interpreter": {
   "hash": "4fefe5704b33e4500f5833ae6032bcef53ee790cf4ffa6448116d63501fea73e"
  }
 },
 "nbformat": 4,
 "nbformat_minor": 2
}